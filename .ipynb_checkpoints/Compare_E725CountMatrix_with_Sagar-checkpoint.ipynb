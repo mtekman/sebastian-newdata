{
 "cells": [
  {
   "cell_type": "code",
   "execution_count": 1,
   "metadata": {},
   "outputs": [],
   "source": [
    "xmine <- read.csv(\"source/E725.matrix.Seb_NewData_E725.3.quantif\",sep=\"\\t\",header=TRUE, row.name=1)"
   ]
  },
  {
   "cell_type": "code",
   "execution_count": 2,
   "metadata": {},
   "outputs": [],
   "source": [
    "xsagar <- readRDS('source/prdata.sagar')"
   ]
  },
  {
   "cell_type": "code",
   "execution_count": 3,
   "metadata": {},
   "outputs": [
    {
     "data": {
      "text/html": [
       "<table>\n",
       "<thead><tr><th></th><th scope=col>GGTAGA</th><th scope=col>ATCGTG</th><th scope=col>ATGGAC</th><th scope=col>AGTAGG</th><th scope=col>CCATCA</th><th scope=col>AGTACC</th><th scope=col>CCAGTA</th><th scope=col>CGTTAC</th><th scope=col>GAGGTA</th><th scope=col>TTGGCA</th><th scope=col>⋯</th><th scope=col>CGTCTA</th><th scope=col>CCATAG</th><th scope=col>TTCCAG</th><th scope=col>GGACAA</th><th scope=col>ACTTCG</th><th scope=col>TTGTGC</th><th scope=col>GGTATG</th><th scope=col>CTGCTA</th><th scope=col>ATGAGG</th><th scope=col>ACGTTG</th></tr></thead>\n",
       "<tbody>\n",
       "\t<tr><th scope=row>ENSMUSG00000000001</th><td> 8 </td><td> 7 </td><td> 3 </td><td> 3 </td><td>1  </td><td> 1 </td><td> 0 </td><td>16 </td><td>  4</td><td> 9 </td><td>⋯  </td><td> 2 </td><td> 1 </td><td> 4 </td><td> 3 </td><td> 4 </td><td> 4 </td><td> 0 </td><td> 2 </td><td> 10</td><td> 2 </td></tr>\n",
       "\t<tr><th scope=row>ENSMUSG00000000003</th><td> 0 </td><td> 0 </td><td> 0 </td><td> 0 </td><td>0  </td><td> 0 </td><td> 0 </td><td> 0 </td><td>  0</td><td> 0 </td><td>⋯  </td><td> 0 </td><td> 0 </td><td> 0 </td><td> 0 </td><td> 0 </td><td> 0 </td><td> 0 </td><td> 0 </td><td>  0</td><td> 0 </td></tr>\n",
       "\t<tr><th scope=row>ENSMUSG00000000028</th><td> 0 </td><td> 0 </td><td> 1 </td><td> 1 </td><td>0  </td><td> 8 </td><td> 3 </td><td> 1 </td><td>  2</td><td> 1 </td><td>⋯  </td><td> 2 </td><td> 0 </td><td> 2 </td><td> 2 </td><td> 5 </td><td> 1 </td><td> 1 </td><td> 0 </td><td>  3</td><td> 2 </td></tr>\n",
       "\t<tr><th scope=row>ENSMUSG00000000031</th><td>61 </td><td>94 </td><td>47 </td><td>66 </td><td>5  </td><td>37 </td><td>38 </td><td>60 </td><td>101</td><td>78 </td><td>⋯  </td><td>50 </td><td>45 </td><td>74 </td><td>51 </td><td>77 </td><td>84 </td><td>40 </td><td>48 </td><td>110</td><td>26 </td></tr>\n",
       "\t<tr><th scope=row>ENSMUSG00000000037</th><td> 0 </td><td> 0 </td><td> 0 </td><td> 0 </td><td>0  </td><td> 0 </td><td> 0 </td><td> 0 </td><td>  0</td><td> 0 </td><td>⋯  </td><td> 0 </td><td> 2 </td><td> 0 </td><td> 0 </td><td> 0 </td><td> 0 </td><td> 0 </td><td> 0 </td><td>  0</td><td> 0 </td></tr>\n",
       "\t<tr><th scope=row>ENSMUSG00000000049</th><td> 0 </td><td> 0 </td><td> 0 </td><td> 0 </td><td>0  </td><td> 0 </td><td> 0 </td><td> 0 </td><td>  0</td><td> 0 </td><td>⋯  </td><td> 0 </td><td> 0 </td><td> 0 </td><td> 0 </td><td> 0 </td><td> 0 </td><td> 0 </td><td> 0 </td><td>  0</td><td> 0 </td></tr>\n",
       "</tbody>\n",
       "</table>\n"
      ],
      "text/latex": [
       "\\begin{tabular}{r|llllllllllllllllllllllllllllllllllllllllllllllllllllllllllllllllllllllllllllllllllllllllllllllllllllllllllllllllllllllllllllllllllllllllllllllllllllllllllllllllllllllllllllllllllllllllllllllll}\n",
       "  & GGTAGA & ATCGTG & ATGGAC & AGTAGG & CCATCA & AGTACC & CCAGTA & CGTTAC & GAGGTA & TTGGCA & ⋯ & CGTCTA & CCATAG & TTCCAG & GGACAA & ACTTCG & TTGTGC & GGTATG & CTGCTA & ATGAGG & ACGTTG\\\\\n",
       "\\hline\n",
       "\tENSMUSG00000000001 &  8  &  7  &  3  &  3  & 1   &  1  &  0  & 16  &   4 &  9  & ⋯   &  2  &  1  &  4  &  3  &  4  &  4  &  0  &  2  &  10 &  2 \\\\\n",
       "\tENSMUSG00000000003 &  0  &  0  &  0  &  0  & 0   &  0  &  0  &  0  &   0 &  0  & ⋯   &  0  &  0  &  0  &  0  &  0  &  0  &  0  &  0  &   0 &  0 \\\\\n",
       "\tENSMUSG00000000028 &  0  &  0  &  1  &  1  & 0   &  8  &  3  &  1  &   2 &  1  & ⋯   &  2  &  0  &  2  &  2  &  5  &  1  &  1  &  0  &   3 &  2 \\\\\n",
       "\tENSMUSG00000000031 & 61  & 94  & 47  & 66  & 5   & 37  & 38  & 60  & 101 & 78  & ⋯   & 50  & 45  & 74  & 51  & 77  & 84  & 40  & 48  & 110 & 26 \\\\\n",
       "\tENSMUSG00000000037 &  0  &  0  &  0  &  0  & 0   &  0  &  0  &  0  &   0 &  0  & ⋯   &  0  &  2  &  0  &  0  &  0  &  0  &  0  &  0  &   0 &  0 \\\\\n",
       "\tENSMUSG00000000049 &  0  &  0  &  0  &  0  & 0   &  0  &  0  &  0  &   0 &  0  & ⋯   &  0  &  0  &  0  &  0  &  0  &  0  &  0  &  0  &   0 &  0 \\\\\n",
       "\\end{tabular}\n"
      ],
      "text/markdown": [
       "\n",
       "| <!--/--> | GGTAGA | ATCGTG | ATGGAC | AGTAGG | CCATCA | AGTACC | CCAGTA | CGTTAC | GAGGTA | TTGGCA | ⋯ | CGTCTA | CCATAG | TTCCAG | GGACAA | ACTTCG | TTGTGC | GGTATG | CTGCTA | ATGAGG | ACGTTG | \n",
       "|---|---|---|---|---|---|\n",
       "| ENSMUSG00000000001 |  8  |  7  |  3  |  3  | 1   |  1  |  0  | 16  |   4 |  9  | ⋯   |  2  |  1  |  4  |  3  |  4  |  4  |  0  |  2  |  10 |  2  | \n",
       "| ENSMUSG00000000003 |  0  |  0  |  0  |  0  | 0   |  0  |  0  |  0  |   0 |  0  | ⋯   |  0  |  0  |  0  |  0  |  0  |  0  |  0  |  0  |   0 |  0  | \n",
       "| ENSMUSG00000000028 |  0  |  0  |  1  |  1  | 0   |  8  |  3  |  1  |   2 |  1  | ⋯   |  2  |  0  |  2  |  2  |  5  |  1  |  1  |  0  |   3 |  2  | \n",
       "| ENSMUSG00000000031 | 61  | 94  | 47  | 66  | 5   | 37  | 38  | 60  | 101 | 78  | ⋯   | 50  | 45  | 74  | 51  | 77  | 84  | 40  | 48  | 110 | 26  | \n",
       "| ENSMUSG00000000037 |  0  |  0  |  0  |  0  | 0   |  0  |  0  |  0  |   0 |  0  | ⋯   |  0  |  2  |  0  |  0  |  0  |  0  |  0  |  0  |   0 |  0  | \n",
       "| ENSMUSG00000000049 |  0  |  0  |  0  |  0  | 0   |  0  |  0  |  0  |   0 |  0  | ⋯   |  0  |  0  |  0  |  0  |  0  |  0  |  0  |  0  |   0 |  0  | \n",
       "\n",
       "\n"
      ],
      "text/plain": [
       "                   GGTAGA ATCGTG ATGGAC AGTAGG CCATCA AGTACC CCAGTA CGTTAC\n",
       "ENSMUSG00000000001  8      7      3      3     1       1      0     16    \n",
       "ENSMUSG00000000003  0      0      0      0     0       0      0      0    \n",
       "ENSMUSG00000000028  0      0      1      1     0       8      3      1    \n",
       "ENSMUSG00000000031 61     94     47     66     5      37     38     60    \n",
       "ENSMUSG00000000037  0      0      0      0     0       0      0      0    \n",
       "ENSMUSG00000000049  0      0      0      0     0       0      0      0    \n",
       "                   GAGGTA TTGGCA ⋯ CGTCTA CCATAG TTCCAG GGACAA ACTTCG TTGTGC\n",
       "ENSMUSG00000000001   4     9     ⋯  2      1      4      3      4      4    \n",
       "ENSMUSG00000000003   0     0     ⋯  0      0      0      0      0      0    \n",
       "ENSMUSG00000000028   2     1     ⋯  2      0      2      2      5      1    \n",
       "ENSMUSG00000000031 101    78     ⋯ 50     45     74     51     77     84    \n",
       "ENSMUSG00000000037   0     0     ⋯  0      2      0      0      0      0    \n",
       "ENSMUSG00000000049   0     0     ⋯  0      0      0      0      0      0    \n",
       "                   GGTATG CTGCTA ATGAGG ACGTTG\n",
       "ENSMUSG00000000001  0      2      10     2    \n",
       "ENSMUSG00000000003  0      0       0     0    \n",
       "ENSMUSG00000000028  1      0       3     2    \n",
       "ENSMUSG00000000031 40     48     110    26    \n",
       "ENSMUSG00000000037  0      0       0     0    \n",
       "ENSMUSG00000000049  0      0       0     0    "
      ]
     },
     "metadata": {},
     "output_type": "display_data"
    },
    {
     "data": {
      "text/html": [
       "<table>\n",
       "<thead><tr><th></th><th scope=col>SAE725FACS1_1_1</th><th scope=col>SAE725FACS1_1_2</th><th scope=col>SAE725FACS1_1_3</th><th scope=col>SAE725FACS1_1_4</th><th scope=col>SAE725FACS1_1_5</th><th scope=col>SAE725FACS1_1_6</th><th scope=col>SAE725FACS1_1_7</th><th scope=col>SAE725FACS1_1_8</th><th scope=col>SAE725FACS1_1_9</th><th scope=col>SAE725FACS1_1_10</th><th scope=col>⋯</th><th scope=col>SAE725FACS8_8_129</th><th scope=col>SAE725FACS8_8_145</th><th scope=col>SAE725FACS8_8_148</th><th scope=col>SAE725FACS8_8_154</th><th scope=col>SAE725FACS8_8_161</th><th scope=col>SAE725FACS8_8_164</th><th scope=col>SAE725FACS8_8_169</th><th scope=col>SAE725FACS8_8_173</th><th scope=col>SAE725FACS8_8_177</th><th scope=col>SAE725FACS8_8_180</th></tr></thead>\n",
       "<tbody>\n",
       "\t<tr><th scope=row>0610007P14Rik</th><td>0.000000</td><td>0.000000</td><td>1.000122</td><td>4.001954</td><td>0.000000</td><td>1.000122</td><td>0       </td><td>0       </td><td>0       </td><td>1.000122</td><td>⋯       </td><td>2.000488</td><td>2.000488</td><td>0.000000</td><td>0       </td><td>3.001099</td><td>0       </td><td>0.000000</td><td>1.000122</td><td>0       </td><td>1.000122</td></tr>\n",
       "\t<tr><th scope=row>0610009B22Rik</th><td>0.000000</td><td>3.001099</td><td>4.001954</td><td>3.001099</td><td>1.000122</td><td>4.001954</td><td>0       </td><td>0       </td><td>0       </td><td>1.000122</td><td>⋯       </td><td>4.001954</td><td>1.000122</td><td>2.000488</td><td>0       </td><td>2.000488</td><td>0       </td><td>1.000122</td><td>0.000000</td><td>0       </td><td>1.000122</td></tr>\n",
       "\t<tr><th scope=row>0610009E02Rik</th><td>0.000000</td><td>0.000000</td><td>0.000000</td><td>0.000000</td><td>0.000000</td><td>0.000000</td><td>0       </td><td>0       </td><td>0       </td><td>0.000000</td><td>⋯       </td><td>0.000000</td><td>0.000000</td><td>0.000000</td><td>0       </td><td>0.000000</td><td>0       </td><td>0.000000</td><td>0.000000</td><td>0       </td><td>0.000000</td></tr>\n",
       "\t<tr><th scope=row>0610009L18Rik</th><td>0.000000</td><td>0.000000</td><td>0.000000</td><td>0.000000</td><td>0.000000</td><td>0.000000</td><td>0       </td><td>0       </td><td>0       </td><td>0.000000</td><td>⋯       </td><td>0.000000</td><td>0.000000</td><td>0.000000</td><td>0       </td><td>0.000000</td><td>0       </td><td>0.000000</td><td>0.000000</td><td>0       </td><td>0.000000</td></tr>\n",
       "\t<tr><th scope=row>0610009O20Rik</th><td>0.000000</td><td>1.000122</td><td>0.000000</td><td>0.000000</td><td>0.000000</td><td>1.000122</td><td>0       </td><td>0       </td><td>0       </td><td>0.000000</td><td>⋯       </td><td>0.000000</td><td>0.000000</td><td>0.000000</td><td>0       </td><td>2.000488</td><td>0       </td><td>0.000000</td><td>0.000000</td><td>0       </td><td>1.000122</td></tr>\n",
       "\t<tr><th scope=row>0610010F05Rik</th><td>1.000122</td><td>0.000000</td><td>0.000000</td><td>1.000122</td><td>0.000000</td><td>0.000000</td><td>0       </td><td>0       </td><td>0       </td><td>0.000000</td><td>⋯       </td><td>0.000000</td><td>0.000000</td><td>0.000000</td><td>0       </td><td>0.000000</td><td>0       </td><td>0.000000</td><td>1.000122</td><td>0       </td><td>2.000488</td></tr>\n",
       "</tbody>\n",
       "</table>\n"
      ],
      "text/latex": [
       "\\begin{tabular}{r|llllllllllllllllllllllllllllllllllllllllllllllllllllllllllllllllllllllllllllllllllllllllllllllllllllllllllllllllllllllllllllllllllllllllllllllllllllllllllllllllllllllllllllllllllllllllllllllllllllllllllllllllllllllllllllllllllllllllllllllllllllllllllllllllllllllllllllllllllllllllllllllllllllllllllllllllllllllllllllllllllllllllllllllllllllllllllllllllllllllllllllllllllllllllllllllllllllllllllllllllllllllllllllllllllllllllllllll}\n",
       "  & SAE725FACS1\\_1\\_1 & SAE725FACS1\\_1\\_2 & SAE725FACS1\\_1\\_3 & SAE725FACS1\\_1\\_4 & SAE725FACS1\\_1\\_5 & SAE725FACS1\\_1\\_6 & SAE725FACS1\\_1\\_7 & SAE725FACS1\\_1\\_8 & SAE725FACS1\\_1\\_9 & SAE725FACS1\\_1\\_10 & ⋯ & SAE725FACS8\\_8\\_129 & SAE725FACS8\\_8\\_145 & SAE725FACS8\\_8\\_148 & SAE725FACS8\\_8\\_154 & SAE725FACS8\\_8\\_161 & SAE725FACS8\\_8\\_164 & SAE725FACS8\\_8\\_169 & SAE725FACS8\\_8\\_173 & SAE725FACS8\\_8\\_177 & SAE725FACS8\\_8\\_180\\\\\n",
       "\\hline\n",
       "\t0610007P14Rik & 0.000000 & 0.000000 & 1.000122 & 4.001954 & 0.000000 & 1.000122 & 0        & 0        & 0        & 1.000122 & ⋯        & 2.000488 & 2.000488 & 0.000000 & 0        & 3.001099 & 0        & 0.000000 & 1.000122 & 0        & 1.000122\\\\\n",
       "\t0610009B22Rik & 0.000000 & 3.001099 & 4.001954 & 3.001099 & 1.000122 & 4.001954 & 0        & 0        & 0        & 1.000122 & ⋯        & 4.001954 & 1.000122 & 2.000488 & 0        & 2.000488 & 0        & 1.000122 & 0.000000 & 0        & 1.000122\\\\\n",
       "\t0610009E02Rik & 0.000000 & 0.000000 & 0.000000 & 0.000000 & 0.000000 & 0.000000 & 0        & 0        & 0        & 0.000000 & ⋯        & 0.000000 & 0.000000 & 0.000000 & 0        & 0.000000 & 0        & 0.000000 & 0.000000 & 0        & 0.000000\\\\\n",
       "\t0610009L18Rik & 0.000000 & 0.000000 & 0.000000 & 0.000000 & 0.000000 & 0.000000 & 0        & 0        & 0        & 0.000000 & ⋯        & 0.000000 & 0.000000 & 0.000000 & 0        & 0.000000 & 0        & 0.000000 & 0.000000 & 0        & 0.000000\\\\\n",
       "\t0610009O20Rik & 0.000000 & 1.000122 & 0.000000 & 0.000000 & 0.000000 & 1.000122 & 0        & 0        & 0        & 0.000000 & ⋯        & 0.000000 & 0.000000 & 0.000000 & 0        & 2.000488 & 0        & 0.000000 & 0.000000 & 0        & 1.000122\\\\\n",
       "\t0610010F05Rik & 1.000122 & 0.000000 & 0.000000 & 1.000122 & 0.000000 & 0.000000 & 0        & 0        & 0        & 0.000000 & ⋯        & 0.000000 & 0.000000 & 0.000000 & 0        & 0.000000 & 0        & 0.000000 & 1.000122 & 0        & 2.000488\\\\\n",
       "\\end{tabular}\n"
      ],
      "text/markdown": [
       "\n",
       "| <!--/--> | SAE725FACS1_1_1 | SAE725FACS1_1_2 | SAE725FACS1_1_3 | SAE725FACS1_1_4 | SAE725FACS1_1_5 | SAE725FACS1_1_6 | SAE725FACS1_1_7 | SAE725FACS1_1_8 | SAE725FACS1_1_9 | SAE725FACS1_1_10 | ⋯ | SAE725FACS8_8_129 | SAE725FACS8_8_145 | SAE725FACS8_8_148 | SAE725FACS8_8_154 | SAE725FACS8_8_161 | SAE725FACS8_8_164 | SAE725FACS8_8_169 | SAE725FACS8_8_173 | SAE725FACS8_8_177 | SAE725FACS8_8_180 | \n",
       "|---|---|---|---|---|---|\n",
       "| 0610007P14Rik | 0.000000 | 0.000000 | 1.000122 | 4.001954 | 0.000000 | 1.000122 | 0        | 0        | 0        | 1.000122 | ⋯        | 2.000488 | 2.000488 | 0.000000 | 0        | 3.001099 | 0        | 0.000000 | 1.000122 | 0        | 1.000122 | \n",
       "| 0610009B22Rik | 0.000000 | 3.001099 | 4.001954 | 3.001099 | 1.000122 | 4.001954 | 0        | 0        | 0        | 1.000122 | ⋯        | 4.001954 | 1.000122 | 2.000488 | 0        | 2.000488 | 0        | 1.000122 | 0.000000 | 0        | 1.000122 | \n",
       "| 0610009E02Rik | 0.000000 | 0.000000 | 0.000000 | 0.000000 | 0.000000 | 0.000000 | 0        | 0        | 0        | 0.000000 | ⋯        | 0.000000 | 0.000000 | 0.000000 | 0        | 0.000000 | 0        | 0.000000 | 0.000000 | 0        | 0.000000 | \n",
       "| 0610009L18Rik | 0.000000 | 0.000000 | 0.000000 | 0.000000 | 0.000000 | 0.000000 | 0        | 0        | 0        | 0.000000 | ⋯        | 0.000000 | 0.000000 | 0.000000 | 0        | 0.000000 | 0        | 0.000000 | 0.000000 | 0        | 0.000000 | \n",
       "| 0610009O20Rik | 0.000000 | 1.000122 | 0.000000 | 0.000000 | 0.000000 | 1.000122 | 0        | 0        | 0        | 0.000000 | ⋯        | 0.000000 | 0.000000 | 0.000000 | 0        | 2.000488 | 0        | 0.000000 | 0.000000 | 0        | 1.000122 | \n",
       "| 0610010F05Rik | 1.000122 | 0.000000 | 0.000000 | 1.000122 | 0.000000 | 0.000000 | 0        | 0        | 0        | 0.000000 | ⋯        | 0.000000 | 0.000000 | 0.000000 | 0        | 0.000000 | 0        | 0.000000 | 1.000122 | 0        | 2.000488 | \n",
       "\n",
       "\n"
      ],
      "text/plain": [
       "              SAE725FACS1_1_1 SAE725FACS1_1_2 SAE725FACS1_1_3 SAE725FACS1_1_4\n",
       "0610007P14Rik 0.000000        0.000000        1.000122        4.001954       \n",
       "0610009B22Rik 0.000000        3.001099        4.001954        3.001099       \n",
       "0610009E02Rik 0.000000        0.000000        0.000000        0.000000       \n",
       "0610009L18Rik 0.000000        0.000000        0.000000        0.000000       \n",
       "0610009O20Rik 0.000000        1.000122        0.000000        0.000000       \n",
       "0610010F05Rik 1.000122        0.000000        0.000000        1.000122       \n",
       "              SAE725FACS1_1_5 SAE725FACS1_1_6 SAE725FACS1_1_7 SAE725FACS1_1_8\n",
       "0610007P14Rik 0.000000        1.000122        0               0              \n",
       "0610009B22Rik 1.000122        4.001954        0               0              \n",
       "0610009E02Rik 0.000000        0.000000        0               0              \n",
       "0610009L18Rik 0.000000        0.000000        0               0              \n",
       "0610009O20Rik 0.000000        1.000122        0               0              \n",
       "0610010F05Rik 0.000000        0.000000        0               0              \n",
       "              SAE725FACS1_1_9 SAE725FACS1_1_10 ⋯ SAE725FACS8_8_129\n",
       "0610007P14Rik 0               1.000122         ⋯ 2.000488         \n",
       "0610009B22Rik 0               1.000122         ⋯ 4.001954         \n",
       "0610009E02Rik 0               0.000000         ⋯ 0.000000         \n",
       "0610009L18Rik 0               0.000000         ⋯ 0.000000         \n",
       "0610009O20Rik 0               0.000000         ⋯ 0.000000         \n",
       "0610010F05Rik 0               0.000000         ⋯ 0.000000         \n",
       "              SAE725FACS8_8_145 SAE725FACS8_8_148 SAE725FACS8_8_154\n",
       "0610007P14Rik 2.000488          0.000000          0                \n",
       "0610009B22Rik 1.000122          2.000488          0                \n",
       "0610009E02Rik 0.000000          0.000000          0                \n",
       "0610009L18Rik 0.000000          0.000000          0                \n",
       "0610009O20Rik 0.000000          0.000000          0                \n",
       "0610010F05Rik 0.000000          0.000000          0                \n",
       "              SAE725FACS8_8_161 SAE725FACS8_8_164 SAE725FACS8_8_169\n",
       "0610007P14Rik 3.001099          0                 0.000000         \n",
       "0610009B22Rik 2.000488          0                 1.000122         \n",
       "0610009E02Rik 0.000000          0                 0.000000         \n",
       "0610009L18Rik 0.000000          0                 0.000000         \n",
       "0610009O20Rik 2.000488          0                 0.000000         \n",
       "0610010F05Rik 0.000000          0                 0.000000         \n",
       "              SAE725FACS8_8_173 SAE725FACS8_8_177 SAE725FACS8_8_180\n",
       "0610007P14Rik 1.000122          0                 1.000122         \n",
       "0610009B22Rik 0.000000          0                 1.000122         \n",
       "0610009E02Rik 0.000000          0                 0.000000         \n",
       "0610009L18Rik 0.000000          0                 0.000000         \n",
       "0610009O20Rik 0.000000          0                 1.000122         \n",
       "0610010F05Rik 1.000122          0                 2.000488         "
      ]
     },
     "metadata": {},
     "output_type": "display_data"
    }
   ],
   "source": [
    "head(xmine)\n",
    "head(xsagar)"
   ]
  },
  {
   "cell_type": "code",
   "execution_count": 4,
   "metadata": {},
   "outputs": [
    {
     "name": "stderr",
     "output_type": "stream",
     "text": [
      "Loading required package: biomaRt\n"
     ]
    }
   ],
   "source": [
    "# Let us measure the overlap between his detected genes\n",
    "# and my detected genes\n",
    "require(biomaRt)\n",
    "#listMarts()\n",
    "mart <- useMart(biomart = \"ENSEMBL_MART_ENSEMBL\", \n",
    "                dataset = \"mmusculus_gene_ensembl\")"
   ]
  },
  {
   "cell_type": "code",
   "execution_count": 7,
   "metadata": {},
   "outputs": [
    {
     "data": {
      "text/html": [
       "<table>\n",
       "<thead><tr><th></th><th scope=col>name</th><th scope=col>description</th><th scope=col>page</th></tr></thead>\n",
       "<tbody>\n",
       "\t<tr><th scope=row>65</th><td>mgi_description       </td><td>MGI description       </td><td>feature_page          </td></tr>\n",
       "\t<tr><th scope=row>66</th><td>mgi_symbol            </td><td>MGI symbol            </td><td>feature_page          </td></tr>\n",
       "\t<tr><th scope=row>67</th><td>mgi_id                </td><td>MGI ID                </td><td>feature_page          </td></tr>\n",
       "\t<tr><th scope=row>68</th><td>mgi_trans_name        </td><td>MGI transcript name ID</td><td>feature_page          </td></tr>\n",
       "</tbody>\n",
       "</table>\n"
      ],
      "text/latex": [
       "\\begin{tabular}{r|lll}\n",
       "  & name & description & page\\\\\n",
       "\\hline\n",
       "\t65 & mgi\\_description      & MGI description        & feature\\_page        \\\\\n",
       "\t66 & mgi\\_symbol           & MGI symbol             & feature\\_page        \\\\\n",
       "\t67 & mgi\\_id               & MGI ID                 & feature\\_page        \\\\\n",
       "\t68 & mgi\\_trans\\_name     & MGI transcript name ID & feature\\_page        \\\\\n",
       "\\end{tabular}\n"
      ],
      "text/markdown": [
       "\n",
       "| <!--/--> | name | description | page | \n",
       "|---|---|---|---|\n",
       "| 65 | mgi_description        | MGI description        | feature_page           | \n",
       "| 66 | mgi_symbol             | MGI symbol             | feature_page           | \n",
       "| 67 | mgi_id                 | MGI ID                 | feature_page           | \n",
       "| 68 | mgi_trans_name         | MGI transcript name ID | feature_page           | \n",
       "\n",
       "\n"
      ],
      "text/plain": [
       "   name            description            page        \n",
       "65 mgi_description MGI description        feature_page\n",
       "66 mgi_symbol      MGI symbol             feature_page\n",
       "67 mgi_id          MGI ID                 feature_page\n",
       "68 mgi_trans_name  MGI transcript name ID feature_page"
      ]
     },
     "metadata": {},
     "output_type": "display_data"
    },
    {
     "data": {
      "text/html": [
       "<ol class=list-inline>\n",
       "\t<li>'0610007P14Rik'</li>\n",
       "\t<li>'0610009B22Rik'</li>\n",
       "\t<li>'0610009E02Rik'</li>\n",
       "\t<li>'0610009L18Rik'</li>\n",
       "\t<li>'0610009O20Rik'</li>\n",
       "\t<li>'0610010F05Rik'</li>\n",
       "</ol>\n"
      ],
      "text/latex": [
       "\\begin{enumerate*}\n",
       "\\item '0610007P14Rik'\n",
       "\\item '0610009B22Rik'\n",
       "\\item '0610009E02Rik'\n",
       "\\item '0610009L18Rik'\n",
       "\\item '0610009O20Rik'\n",
       "\\item '0610010F05Rik'\n",
       "\\end{enumerate*}\n"
      ],
      "text/markdown": [
       "1. '0610007P14Rik'\n",
       "2. '0610009B22Rik'\n",
       "3. '0610009E02Rik'\n",
       "4. '0610009L18Rik'\n",
       "5. '0610009O20Rik'\n",
       "6. '0610010F05Rik'\n",
       "\n",
       "\n"
      ],
      "text/plain": [
       "[1] \"0610007P14Rik\" \"0610009B22Rik\" \"0610009E02Rik\" \"0610009L18Rik\"\n",
       "[5] \"0610009O20Rik\" \"0610010F05Rik\""
      ]
     },
     "metadata": {},
     "output_type": "display_data"
    }
   ],
   "source": [
    "listAttributes(mart)[65:68,]\n",
    "head(rownames(xsagar))"
   ]
  },
  {
   "cell_type": "code",
   "execution_count": 85,
   "metadata": {},
   "outputs": [],
   "source": [
    "# Weird bug with BioMart which can't handle more than 5000 queries\n",
    "# at a time.\n",
    "\n",
    "# This is literally a f**king joke....\n",
    "incremental_getBM <- function(names){\n",
    "    \n",
    "    stop(\"failed\")\n",
    "    \n",
    "    return(\n",
    "        getBM(\n",
    "        filters = \"mgi_symbol\",\n",
    "        attributes = c(\n",
    "            \"ensembl_gene_id\",              # Gene stable ID\n",
    "            \"external_gene_name\",           # Casual name\n",
    "            \"mgi_symbol\"                   # Mouse Genome Index name\n",
    "#            \"external_transcript_name\",     # Transcript-specific name\n",
    "#            \"gene_biotype\",                 # Gene biotype\n",
    "#            \"transcript_biotype\",           # Trans type\n",
    "#            \"description\",                  # Gene description\n",
    "#            \"band\",                         # Karyotype band\n",
    "#            \"refseq_mrna\",\n",
    "#            \"go_id\",                        # Go Term accession (cellular domains)\n",
    "#            \"go_linkage_type\",              # Go Term evidence code\n",
    "#            \"name_1006\"                    # Go Term name\n",
    "#            \"definition_1006\",              # Go Term definition\n",
    "#            \"namespace_1003\"                # Go domain                  \n",
    "        ),\n",
    "        values = names,\n",
    "        mart = mart\n",
    "    ))\n",
    "}\n",
    "\n",
    "populate_BMarray <- function(fullnames, bin_size){\n",
    "\n",
    "    index_sta = 1\n",
    "    index_end = index_sta + bin_size\n",
    "\n",
    "    success_bm <- list()\n",
    "    failed_bm <- list()\n",
    "\n",
    "    # Initial pass over full set\n",
    "    while (index_end < length(fullnames) + bin_size){\n",
    "        key_name <- paste(index_sta, \"-\", index_end)\n",
    "        name_subset <- fullnames[index_sta:index_end]\n",
    "        \n",
    "        bm_vals <- NULL\n",
    "        \n",
    "        tryCatch({\n",
    "            message(\"Trying \", fst_key)\n",
    "            bm_vals <<- incremental_getBM(fullnames[index_sta:index_end])\n",
    "        }, error = function(e){\n",
    "            bm_vals <<- NULL\n",
    "        });\n",
    "        \n",
    "        message(\"Trying \", key_name)\n",
    "        if (!is.null(bm_vals)){\n",
    "            success_bm[[key_name]] <- bm_vals\n",
    "        }\n",
    "        else {\n",
    "            failed_bm[[key_name]] <- c(index_sta,index_end)\n",
    "            message(\"Failed to retrieve values for \", key_name)\n",
    "        }\n",
    "\n",
    "        index_sta = index_sta + bin_size\n",
    "        index_end = index_end + bin_size\n",
    "    }\n",
    "\n",
    "    # Second pass, repeat until there are no more entries in failed_bm\n",
    "    message(\"trying failed bms again\")\n",
    "    while (length(failed_bm) > 0)\n",
    "    {\n",
    "        fst_key <- names(failed_bm)[1]\n",
    "        index_sta <- failed_bm[fst_key][1]\n",
    "        index_end <- failed_bm[fst_key][2]\n",
    "        \n",
    "        bm_vals <- NULL\n",
    "        \n",
    "        tryCatch({\n",
    "            message(\"Trying \", fst_key)\n",
    "            bm_vals <<- incremental_getBM(fullnames[index_sta:index_end])\n",
    "        }, error = function(e){\n",
    "            bm_vals <<- NULL\n",
    "        });\n",
    "        \n",
    "\n",
    "        if (!is.null(res)){\n",
    "            success_bm[[key_name]] <- bm_vals\n",
    "            failed_bm[[key_name]] <- NULL\n",
    "        }\n",
    "        else {\n",
    "            message(\"Failed to retrieve values for \", key_name)\n",
    "        }\n",
    "    }\n",
    "    return(success_bm)    \n",
    "}\n",
    "\n"
   ]
  },
  {
   "cell_type": "code",
   "execution_count": 87,
   "metadata": {
    "scrolled": true
   },
   "outputs": [
    {
     "ename": "ERROR",
     "evalue": "Error in incremental_getBM(name_subset): failed\n",
     "output_type": "error",
     "traceback": [
      "Error in incremental_getBM(name_subset): failed\nTraceback:\n",
      "1. populate_BMarray(rownames(xsagar), 100)",
      "2. incremental_getBM(name_subset)   # at line 45 of file <text>",
      "3. stop(\"failed\")   # at line 7 of file <text>"
     ]
    }
   ],
   "source": [
    "k_array <- populate_BMarray(rownames(xsagar), 100)"
   ]
  },
  {
   "cell_type": "code",
   "execution_count": 63,
   "metadata": {},
   "outputs": [
    {
     "data": {
      "text/html": [
       "<ol class=list-inline>\n",
       "\t<li>'0610007P14Rik'</li>\n",
       "\t<li>'0610009B22Rik'</li>\n",
       "\t<li>'0610009E02Rik'</li>\n",
       "\t<li>'0610009L18Rik'</li>\n",
       "\t<li>'0610009O20Rik'</li>\n",
       "</ol>\n"
      ],
      "text/latex": [
       "\\begin{enumerate*}\n",
       "\\item '0610007P14Rik'\n",
       "\\item '0610009B22Rik'\n",
       "\\item '0610009E02Rik'\n",
       "\\item '0610009L18Rik'\n",
       "\\item '0610009O20Rik'\n",
       "\\end{enumerate*}\n"
      ],
      "text/markdown": [
       "1. '0610007P14Rik'\n",
       "2. '0610009B22Rik'\n",
       "3. '0610009E02Rik'\n",
       "4. '0610009L18Rik'\n",
       "5. '0610009O20Rik'\n",
       "\n",
       "\n"
      ],
      "text/plain": [
       "[1] \"0610007P14Rik\" \"0610009B22Rik\" \"0610009E02Rik\" \"0610009L18Rik\"\n",
       "[5] \"0610009O20Rik\""
      ]
     },
     "metadata": {},
     "output_type": "display_data"
    },
    {
     "data": {
      "text/html": [
       "<ol class=list-inline>\n",
       "\t<li>'0610010F05Rik'</li>\n",
       "\t<li>'0610010K14Rik'</li>\n",
       "\t<li>'0610011F06Rik'</li>\n",
       "\t<li>'0610012D04Rik'</li>\n",
       "\t<li>'0610012G03Rik'</li>\n",
       "</ol>\n"
      ],
      "text/latex": [
       "\\begin{enumerate*}\n",
       "\\item '0610010F05Rik'\n",
       "\\item '0610010K14Rik'\n",
       "\\item '0610011F06Rik'\n",
       "\\item '0610012D04Rik'\n",
       "\\item '0610012G03Rik'\n",
       "\\end{enumerate*}\n"
      ],
      "text/markdown": [
       "1. '0610010F05Rik'\n",
       "2. '0610010K14Rik'\n",
       "3. '0610011F06Rik'\n",
       "4. '0610012D04Rik'\n",
       "5. '0610012G03Rik'\n",
       "\n",
       "\n"
      ],
      "text/plain": [
       "[1] \"0610010F05Rik\" \"0610010K14Rik\" \"0610011F06Rik\" \"0610012D04Rik\"\n",
       "[5] \"0610012G03Rik\""
      ]
     },
     "metadata": {},
     "output_type": "display_data"
    }
   ],
   "source": [
    "# -5000, 1000 → worked\n",
    "# -4000, 1000 → failed\n",
    "# -4000, 500 → worked\n",
    "# -4500, 500 → failed\n",
    "# -4200,500 → worked\n",
    "# -4000, 1000 → worked...???\n",
    "\n",
    "names <- rownames(xsagar)\n",
    "names[1:5]\n",
    "names[6:10]"
   ]
  },
  {
   "cell_type": "code",
   "execution_count": 68,
   "metadata": {},
   "outputs": [
    {
     "data": {
      "text/html": [
       "0"
      ],
      "text/latex": [
       "0"
      ],
      "text/markdown": [
       "0"
      ],
      "text/plain": [
       "[1] 0"
      ]
     },
     "metadata": {},
     "output_type": "display_data"
    }
   ],
   "source": [
    "length(k_array)"
   ]
  },
  {
   "cell_type": "markdown",
   "metadata": {},
   "source": [
    "does this link properly? [Another notebook](RaceID3.ipynb)"
   ]
  }
 ],
 "metadata": {
  "kernelspec": {
   "display_name": "R 3.3",
   "language": "R",
   "name": "ir33"
  },
  "language_info": {
   "codemirror_mode": "r",
   "file_extension": ".r",
   "mimetype": "text/x-r-source",
   "name": "R",
   "pygments_lexer": "r",
   "version": "3.4.4"
  }
 },
 "nbformat": 4,
 "nbformat_minor": 2
}
