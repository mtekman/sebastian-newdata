{
 "cells": [
  {
   "cell_type": "code",
   "execution_count": 1,
   "metadata": {
    "scrolled": true
   },
   "outputs": [
    {
     "name": "stderr",
     "output_type": "stream",
     "text": [
      "Loading required package: tsne\n",
      "Loading required package: pheatmap\n",
      "Loading required package: MASS\n",
      "Loading required package: cluster\n",
      "Loading required package: mclust\n",
      "Package 'mclust' version 5.4\n",
      "Type 'citation(\"mclust\")' for citing this R package in publications.\n",
      "Loading required package: flexmix\n",
      "Loading required package: lattice\n",
      "Loading required package: fpc\n",
      "Loading required package: amap\n",
      "Loading required package: RColorBrewer\n",
      "Loading required package: locfit\n",
      "locfit 1.5-9.1 \t 2013-03-22\n",
      "Loading required package: vegan\n",
      "Loading required package: permute\n",
      "This is vegan 2.4-6\n",
      "Loading required package: Rtsne\n",
      "Loading required package: scran\n",
      "Loading required package: BiocParallel\n",
      "Loading required package: SingleCellExperiment\n",
      "Loading required package: SummarizedExperiment\n",
      "Loading required package: GenomicRanges\n",
      "Loading required package: stats4\n",
      "Loading required package: BiocGenerics\n",
      "Loading required package: parallel\n",
      "\n",
      "Attaching package: ‘BiocGenerics’\n",
      "\n",
      "The following objects are masked from ‘package:parallel’:\n",
      "\n",
      "    clusterApply, clusterApplyLB, clusterCall, clusterEvalQ,\n",
      "    clusterExport, clusterMap, parApply, parCapply, parLapply,\n",
      "    parLapplyLB, parRapply, parSapply, parSapplyLB\n",
      "\n",
      "The following object is masked from ‘package:flexmix’:\n",
      "\n",
      "    unique\n",
      "\n",
      "The following objects are masked from ‘package:stats’:\n",
      "\n",
      "    IQR, mad, sd, var, xtabs\n",
      "\n",
      "The following objects are masked from ‘package:base’:\n",
      "\n",
      "    anyDuplicated, append, as.data.frame, cbind, colMeans, colnames,\n",
      "    colSums, do.call, duplicated, eval, evalq, Filter, Find, get, grep,\n",
      "    grepl, intersect, is.unsorted, lapply, lengths, Map, mapply, match,\n",
      "    mget, order, paste, pmax, pmax.int, pmin, pmin.int, Position, rank,\n",
      "    rbind, Reduce, rowMeans, rownames, rowSums, sapply, setdiff, sort,\n",
      "    table, tapply, union, unique, unsplit, which, which.max, which.min\n",
      "\n",
      "Loading required package: S4Vectors\n",
      "\n",
      "Attaching package: ‘S4Vectors’\n",
      "\n",
      "The following object is masked from ‘package:base’:\n",
      "\n",
      "    expand.grid\n",
      "\n",
      "Loading required package: IRanges\n",
      "Loading required package: GenomeInfoDb\n",
      "Loading required package: Biobase\n",
      "Welcome to Bioconductor\n",
      "\n",
      "    Vignettes contain introductory material; view with\n",
      "    'browseVignettes()'. To cite Bioconductor, see\n",
      "    'citation(\"Biobase\")', and for packages 'citation(\"pkgname\")'.\n",
      "\n",
      "Loading required package: DelayedArray\n",
      "Loading required package: matrixStats\n",
      "\n",
      "Attaching package: ‘matrixStats’\n",
      "\n",
      "The following objects are masked from ‘package:Biobase’:\n",
      "\n",
      "    anyMissing, rowMedians\n",
      "\n",
      "\n",
      "Attaching package: ‘DelayedArray’\n",
      "\n",
      "The following objects are masked from ‘package:matrixStats’:\n",
      "\n",
      "    colMaxs, colMins, colRanges, rowMaxs, rowMins, rowRanges\n",
      "\n",
      "The following object is masked from ‘package:base’:\n",
      "\n",
      "    apply\n",
      "\n",
      "Loading required package: DESeq2\n",
      "Loading required package: randomForest\n",
      "randomForest 4.6-12\n",
      "Type rfNews() to see new features/changes/bug fixes.\n",
      "\n",
      "Attaching package: ‘randomForest’\n",
      "\n",
      "The following object is masked from ‘package:Biobase’:\n",
      "\n",
      "    combine\n",
      "\n",
      "The following object is masked from ‘package:BiocGenerics’:\n",
      "\n",
      "    combine\n",
      "\n"
     ]
    }
   ],
   "source": [
    "source(\"source/RaceID3_StemID2_class.R\")"
   ]
  },
  {
   "cell_type": "code",
   "execution_count": 2,
   "metadata": {},
   "outputs": [],
   "source": [
    "x <- read.csv(\"source/E725.matrix.Seb_NewData_E725.3.quantif\",sep=\"\\t\",header=TRUE, row.name=1)\n",
    "prdata <- x[grep(\"ERCC\",rownames(x),invert=TRUE),]"
   ]
  },
  {
   "cell_type": "code",
   "execution_count": 3,
   "metadata": {},
   "outputs": [
    {
     "data": {
      "text/html": [
       "<ol class=list-inline>\n",
       "\t<li>49671</li>\n",
       "\t<li>192</li>\n",
       "</ol>\n"
      ],
      "text/latex": [
       "\\begin{enumerate*}\n",
       "\\item 49671\n",
       "\\item 192\n",
       "\\end{enumerate*}\n"
      ],
      "text/markdown": [
       "1. 49671\n",
       "2. 192\n",
       "\n",
       "\n"
      ],
      "text/plain": [
       "[1] 49671   192"
      ]
     },
     "metadata": {},
     "output_type": "display_data"
    },
    {
     "data": {
      "text/html": [
       "<ol class=list-inline>\n",
       "\t<li>49671</li>\n",
       "\t<li>192</li>\n",
       "</ol>\n"
      ],
      "text/latex": [
       "\\begin{enumerate*}\n",
       "\\item 49671\n",
       "\\item 192\n",
       "\\end{enumerate*}\n"
      ],
      "text/markdown": [
       "1. 49671\n",
       "2. 192\n",
       "\n",
       "\n"
      ],
      "text/plain": [
       "[1] 49671   192"
      ]
     },
     "metadata": {},
     "output_type": "display_data"
    }
   ],
   "source": [
    "dim(x)\n",
    "dim(prdata)"
   ]
  },
  {
   "cell_type": "code",
   "execution_count": 4,
   "metadata": {
    "scrolled": true
   },
   "outputs": [
    {
     "name": "stderr",
     "output_type": "stream",
     "text": [
      "Loading required package: biomaRt\n"
     ]
    }
   ],
   "source": [
    "require(biomaRt)\n",
    "# Annotate the data before adding SC experiment\n",
    "\n",
    "mart <- useMart(biomart = \"ENSEMBL_MART_ENSEMBL\", dataset = \"mmusculus_gene_ensembl\")\n",
    "k <- getBM(\n",
    "    filters = \"ensembl_gene_id\",\n",
    "    attributes = c(\n",
    "            \"ensembl_gene_id\",              # Gene stable ID\n",
    "            \"external_gene_name\",           # Casual name\n",
    "            \"external_transcript_name\",     # Transcript-specific name\n",
    "            \"gene_biotype\",                 # Gene biotype\n",
    "            \"transcript_biotype\",           # Trans type\n",
    "            \"description\",                  # Gene description\n",
    "            \"band\",                         # Karyotype band\n",
    "            \"refseq_mrna\",\n",
    "            \"go_id\",                        # Go Term accession (cellular domains)\n",
    "            \"go_linkage_type\",              # Go Term evidence code\n",
    "            \"name_1006\",                    # Go Term name\n",
    "            \"definition_1006\",              # Go Term definition\n",
    "            \"namespace_1003\"                # Go domain                  \n",
    "    ),\n",
    "    values = rownames(prdata),\n",
    "    mart = mart\n",
    ")"
   ]
  },
  {
   "cell_type": "code",
   "execution_count": 13,
   "metadata": {},
   "outputs": [],
   "source": [
    "# Update rownames with external_gene_names\n",
    "matrix_names <- rownames(prdata)\n",
    "lookup_table <- unique(k[,c(1,3)]) # ensembl, external transcript\n",
    "\n",
    "new_names <- c()\n",
    "for (name in matrix_names){\n",
    "    gene_name <- lookup_table[lookup_table$ensembl_gene_id == name,]$external_transcript_name\n",
    "    # Not using external_gene_name due to isoforms in data\n",
    "    if (length(gene_name) != 0){\n",
    "        new_names <- c(new_names, gene_name)\n",
    "    } else {\n",
    "        new_names <- c(new_names, name)\n",
    "    }\n",
    "}"
   ]
  },
  {
   "cell_type": "code",
   "execution_count": 28,
   "metadata": {},
   "outputs": [
    {
     "data": {
      "text/html": [
       "<ol class=list-inline>\n",
       "\t<li>129235</li>\n",
       "\t<li>2</li>\n",
       "</ol>\n"
      ],
      "text/latex": [
       "\\begin{enumerate*}\n",
       "\\item 129235\n",
       "\\item 2\n",
       "\\end{enumerate*}\n"
      ],
      "text/markdown": [
       "1. 129235\n",
       "2. 2\n",
       "\n",
       "\n"
      ],
      "text/plain": [
       "[1] 129235      2"
      ]
     },
     "metadata": {},
     "output_type": "display_data"
    },
    {
     "data": {
      "text/html": [
       "49671"
      ],
      "text/latex": [
       "49671"
      ],
      "text/markdown": [
       "49671"
      ],
      "text/plain": [
       "[1] 49671"
      ]
     },
     "metadata": {},
     "output_type": "display_data"
    },
    {
     "data": {
      "text/html": [
       "129396"
      ],
      "text/latex": [
       "129396"
      ],
      "text/markdown": [
       "129396"
      ],
      "text/plain": [
       "[1] 129396"
      ]
     },
     "metadata": {},
     "output_type": "display_data"
    },
    {
     "data": {
      "text/html": [
       "<table>\n",
       "<thead><tr><th scope=col>x</th><th scope=col>ensembl_gene_id</th></tr></thead>\n",
       "<tbody>\n",
       "\t<tr><td>ENSMUSG00000000001</td><td>NA                </td></tr>\n",
       "\t<tr><td>ENSMUSG00000000003</td><td>NA                </td></tr>\n",
       "\t<tr><td>ENSMUSG00000000028</td><td>NA                </td></tr>\n",
       "\t<tr><td>ENSMUSG00000000031</td><td>NA                </td></tr>\n",
       "\t<tr><td>ENSMUSG00000000037</td><td>NA                </td></tr>\n",
       "\t<tr><td>ENSMUSG00000000049</td><td>NA                </td></tr>\n",
       "</tbody>\n",
       "</table>\n"
      ],
      "text/latex": [
       "\\begin{tabular}{r|ll}\n",
       " x & ensembl\\_gene\\_id\\\\\n",
       "\\hline\n",
       "\t ENSMUSG00000000001 & NA                \\\\\n",
       "\t ENSMUSG00000000003 & NA                \\\\\n",
       "\t ENSMUSG00000000028 & NA                \\\\\n",
       "\t ENSMUSG00000000031 & NA                \\\\\n",
       "\t ENSMUSG00000000037 & NA                \\\\\n",
       "\t ENSMUSG00000000049 & NA                \\\\\n",
       "\\end{tabular}\n"
      ],
      "text/markdown": [
       "\n",
       "x | ensembl_gene_id | \n",
       "|---|---|---|---|---|---|\n",
       "| ENSMUSG00000000001 | NA                 | \n",
       "| ENSMUSG00000000003 | NA                 | \n",
       "| ENSMUSG00000000028 | NA                 | \n",
       "| ENSMUSG00000000031 | NA                 | \n",
       "| ENSMUSG00000000037 | NA                 | \n",
       "| ENSMUSG00000000049 | NA                 | \n",
       "\n",
       "\n"
      ],
      "text/plain": [
       "  x                  ensembl_gene_id\n",
       "1 ENSMUSG00000000001 NA             \n",
       "2 ENSMUSG00000000003 NA             \n",
       "3 ENSMUSG00000000028 NA             \n",
       "4 ENSMUSG00000000031 NA             \n",
       "5 ENSMUSG00000000037 NA             \n",
       "6 ENSMUSG00000000049 NA             "
      ]
     },
     "metadata": {},
     "output_type": "display_data"
    }
   ],
   "source": [
    "dim(lookup_table)\n",
    "length(rownames(prdata))\n",
    "length(new_names)\n",
    "\n",
    "loki <- unique(k[,c(1,3)])\n",
    "names_only <- unique(loki$ensembl_gene_id)\n",
    "\n",
    "head(\n",
    "    merge(names_only, loki, by.x = 1, by.y = 2, all.x = T)\n",
    ")\n",
    "\n",
    "#rownames(prdata) <- new_names\n",
    "#sc <- SCseq(prdata)\n",
    "#head(unique(k[,c(1,3)]))\n"
   ]
  },
  {
   "cell_type": "code",
   "execution_count": null,
   "metadata": {},
   "outputs": [],
   "source": [
    "head(rownames(sc@expdata),100)\n"
   ]
  },
  {
   "cell_type": "code",
   "execution_count": null,
   "metadata": {},
   "outputs": [],
   "source": [
    "# The data comes from the same batch, so we do not forsee any batch\n",
    "# effects, therefore downsampling will not be used\n",
    "sc <- filterdata(\n",
    "    sc, mintotal=3000, minexpr=5, maxexpr=500, \n",
    "    downsample = F, sfn = F, hkn = F,\n",
    "    dsn = 1, rseed = 17000, CGenes = NULL, FGenes = NULL\n",
    ")\n",
    "# Using defaults, we are left with 1000 genes\n",
    "#dim(sc_defaults@fdata)\n"
   ]
  },
  {
   "cell_type": "code",
   "execution_count": null,
   "metadata": {},
   "outputs": [],
   "source": [
    "# regress out the batch effect\n",
    "# optional:\n",
    "#vars <- data.frame(row.names=names(sc@fdata),batch=sub(\"(_|)\\\\d.+\",\"\",names(sc@fdata)))\n",
    "#sc@fdata <- varRegression(sc@fdata,vars)\n",
    "\n",
    "# correct for cell cycle, proliferation, and expression of degradation markers by PCA\n",
    "# optional:\n",
    "\n",
    "gCC <- name2id( k$external_gene_name[k$name_1006 == \"cell cycle\"],rownames(sc@fdata))\n",
    "gCP <- name2id( k$external_gene_name[k$name_1006 == \"cell proliferation\"],rownames(sc@fdata))\n",
    "vset <- list(gCC,gCP)\n",
    "#g   <- sub(\"__chr.+\",\"\",rownames(sc@fdata));\n",
    "#k   <- getBM(attributes = c(\"external_gene_name\", \"go_id\",\"name_1006\"),filters=\"external_gene_name\",values=g,mart=mart)\n",
    "#gCC <- name2id( k$external_gene_name[k$name_1006 == \"cell cycle\"],rownames(sc@fdata)) \n",
    "#gCP <- name2id( k$external_gene_name[k$name_1006 == \"cell proliferation\"],rownames(sc@fdata))\n",
    "#vset <- list(gCC,gCP)"
   ]
  },
  {
   "cell_type": "code",
   "execution_count": null,
   "metadata": {},
   "outputs": [],
   "source": [
    "k$external_gene_name[k$name_1006 == \"cell cycle\"]\n",
    "dim(k)\n",
    "dim(sc@fdata)\n",
    "#x <- CCcorrect(sc@fdata,vset=vset,CGenes=NULL,ccor=.4,nComp=NULL,pvalue=.05,quant=.01,mode=\"pca\")\n",
    "#x$n\n"
   ]
  },
  {
   "cell_type": "code",
   "execution_count": null,
   "metadata": {},
   "outputs": [],
   "source": [
    "# loadings of the first principal component that has been removed\n",
    "y <- x$pca$rotation[,x$n[1]]\n",
    "# genes from vset are either enriched in the head or the tail of this list\n",
    "tail(y[order(y,decreasing=TRUE)],10)\n",
    "# reassign the corrected expression matrix to sc@fdata\n",
    "sc@fdata <- x$xcor"
   ]
  },
  {
   "cell_type": "code",
   "execution_count": null,
   "metadata": {
    "scrolled": true
   },
   "outputs": [],
   "source": [
    "# k-medoids clustering\n",
    "sc <- clustexp(sc,clustnr=30,bootnr=50,metric=\"pearson\",do.gap=T,sat=TRUE,SE.method=\"Tibs2001SEmax\",SE.factor=.25,B.gap=50,cln=0,rseed=17000,FUNcluster=\"kmedoids\",FSelect=TRUE)\n",
    "# compute t-SNE map\n",
    "sc <- comptsne(sc,rseed=15555,sammonmap=FALSE,initial_cmd=TRUE,fast=TRUE,perplexity=30)\n",
    "# detect outliers and redefine clusters\n",
    "sc <- findoutliers(sc, outminc=5,outlg=2,probthr=1e-3,thr=2**-(1:40),outdistquant=.95)\n",
    "# reassign clusters based on random forest\n",
    "sc <- rfcorrect(sc,rfseed=12345,final=TRUE,nbfactor=5)"
   ]
  },
  {
   "cell_type": "code",
   "execution_count": null,
   "metadata": {
    "scrolled": false
   },
   "outputs": [],
   "source": [
    "plotgap(sc)\n",
    "\n",
    "plotsaturation(sc,disp=TRUE)\n",
    "# plot change of the within-cluster dispersion as a function of the cluster number: only if sat == TRUE\n",
    "plotsaturation(sc)\n",
    "# silhouette of k-medoids clusters\n",
    "plotsilhouette(sc)\n",
    "# Jaccard's similarity of k-medoids clusters\n",
    "plotjaccard(sc)\n",
    "# barchart of outlier probabilities\n",
    "plotoutlierprobs(sc)\n",
    "# regression of background model\n",
    "plotbackground(sc)\n",
    "# dependence of outlier number on probability threshold (probthr)\n",
    "plotsensitivity(sc)\n",
    "# heatmap of k-medoids cluster\n",
    "clustheatmap(sc,final=FALSE,hmethod=\"single\")\n",
    "# heatmap of final cluster\n",
    "clustheatmap(sc,final=TRUE,hmethod=\"single\")\n",
    "# highlight k-medoids clusters in t-SNE map\n",
    "plottsne(sc,final=FALSE)\n",
    "# highlight final clusters in t-SNE map\n",
    "plottsne(sc,final=TRUE)"
   ]
  },
  {
   "cell_type": "code",
   "execution_count": null,
   "metadata": {},
   "outputs": [],
   "source": []
  }
 ],
 "metadata": {
  "kernelspec": {
   "display_name": "R",
   "language": "R",
   "name": "ir"
  },
  "language_info": {
   "codemirror_mode": "r",
   "file_extension": ".r",
   "mimetype": "text/x-r-source",
   "name": "R",
   "pygments_lexer": "r",
   "version": "3.4.4"
  }
 },
 "nbformat": 4,
 "nbformat_minor": 2
}
