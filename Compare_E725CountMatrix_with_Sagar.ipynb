{
 "cells": [
  {
   "cell_type": "markdown",
   "metadata": {},
   "source": [
    "# Comparison of source Count Matrices  \n",
    "## (Sagar vs Mine)\n",
    "\n",
    "Sagar appears to have generated fantastic clustering of the E725 data, compared to the more divergent clustering I had generated.\n",
    "\n",
    "This can be due to a multitude of different reasons:\n",
    "\n",
    " 1. Demultiplexing and cell selection  \n",
    "   Demultiplexing is performed by using a list of known barcodes to extract cell data from FASTQ reads and effectively seperate each cell into it's own collection.\n",
    "      * No barcode file was given for the 2018_03 data, so I used the barcode file from the previous analysis (2017_12) and assumed that the platform was the same (CelSeq2).\n",
    "      * One option to explore is discovering the barcodes without a reference, using the UMI-tools whitelist option. (Testing this now).\n",
    " 2. Alignment/Mapping  \n",
    "    The GTF file given to the aligner denotes the genes/transcripts targeted, and the number (and position) of these change between genome builds. For mice, mm9 and mm10 are both widely accepted, and so some source of variability between mine and Sagar's sets could be attributed to this.\n",
    "\n",
    "Let us load our two data sets (mine, Sagar's) and examine any immediate differences:"
   ]
  },
  {
   "cell_type": "code",
   "execution_count": 10,
   "metadata": {
    "ExecuteTime": {
     "end_time": "2018-03-26T16:10:30.944997Z",
     "start_time": "2018-03-26T16:10:10.557Z"
    },
    "cell_style": "split"
   },
   "outputs": [
    {
     "data": {
      "text/html": [
       "<table>\n",
       "<thead><tr><th></th><th scope=col>GGTAGA</th><th scope=col>ATCGTG</th><th scope=col>ATGGAC</th><th scope=col>AGTAGG</th><th scope=col>CCATCA</th><th scope=col>AGTACC</th><th scope=col>CCAGTA</th><th scope=col>CGTTAC</th><th scope=col>GAGGTA</th><th scope=col>TTGGCA</th><th scope=col>⋯</th><th scope=col>CGTCTA</th><th scope=col>CCATAG</th><th scope=col>TTCCAG</th><th scope=col>GGACAA</th><th scope=col>ACTTCG</th><th scope=col>TTGTGC</th><th scope=col>GGTATG</th><th scope=col>CTGCTA</th><th scope=col>ATGAGG</th><th scope=col>ACGTTG</th></tr></thead>\n",
       "<tbody>\n",
       "\t<tr><th scope=row>ENSMUSG00000000001</th><td> 8 </td><td> 7 </td><td> 3 </td><td> 3 </td><td>1  </td><td> 1 </td><td> 0 </td><td>16 </td><td>  4</td><td> 9 </td><td>⋯  </td><td> 2 </td><td> 1 </td><td> 4 </td><td> 3 </td><td> 4 </td><td> 4 </td><td> 0 </td><td> 2 </td><td> 10</td><td> 2 </td></tr>\n",
       "\t<tr><th scope=row>ENSMUSG00000000003</th><td> 0 </td><td> 0 </td><td> 0 </td><td> 0 </td><td>0  </td><td> 0 </td><td> 0 </td><td> 0 </td><td>  0</td><td> 0 </td><td>⋯  </td><td> 0 </td><td> 0 </td><td> 0 </td><td> 0 </td><td> 0 </td><td> 0 </td><td> 0 </td><td> 0 </td><td>  0</td><td> 0 </td></tr>\n",
       "\t<tr><th scope=row>ENSMUSG00000000028</th><td> 0 </td><td> 0 </td><td> 1 </td><td> 1 </td><td>0  </td><td> 8 </td><td> 3 </td><td> 1 </td><td>  2</td><td> 1 </td><td>⋯  </td><td> 2 </td><td> 0 </td><td> 2 </td><td> 2 </td><td> 5 </td><td> 1 </td><td> 1 </td><td> 0 </td><td>  3</td><td> 2 </td></tr>\n",
       "\t<tr><th scope=row>ENSMUSG00000000031</th><td>61 </td><td>94 </td><td>47 </td><td>66 </td><td>5  </td><td>37 </td><td>38 </td><td>60 </td><td>101</td><td>78 </td><td>⋯  </td><td>50 </td><td>45 </td><td>74 </td><td>51 </td><td>77 </td><td>84 </td><td>40 </td><td>48 </td><td>110</td><td>26 </td></tr>\n",
       "\t<tr><th scope=row>ENSMUSG00000000037</th><td> 0 </td><td> 0 </td><td> 0 </td><td> 0 </td><td>0  </td><td> 0 </td><td> 0 </td><td> 0 </td><td>  0</td><td> 0 </td><td>⋯  </td><td> 0 </td><td> 2 </td><td> 0 </td><td> 0 </td><td> 0 </td><td> 0 </td><td> 0 </td><td> 0 </td><td>  0</td><td> 0 </td></tr>\n",
       "\t<tr><th scope=row>ENSMUSG00000000049</th><td> 0 </td><td> 0 </td><td> 0 </td><td> 0 </td><td>0  </td><td> 0 </td><td> 0 </td><td> 0 </td><td>  0</td><td> 0 </td><td>⋯  </td><td> 0 </td><td> 0 </td><td> 0 </td><td> 0 </td><td> 0 </td><td> 0 </td><td> 0 </td><td> 0 </td><td>  0</td><td> 0 </td></tr>\n",
       "</tbody>\n",
       "</table>\n"
      ],
      "text/latex": [
       "\\begin{tabular}{r|llllllllllllllllllllllllllllllllllllllllllllllllllllllllllllllllllllllllllllllllllllllllllllllllllllllllllllllllllllllllllllllllllllllllllllllllllllllllllllllllllllllllllllllllllllllllllllllll}\n",
       "  & GGTAGA & ATCGTG & ATGGAC & AGTAGG & CCATCA & AGTACC & CCAGTA & CGTTAC & GAGGTA & TTGGCA & ⋯ & CGTCTA & CCATAG & TTCCAG & GGACAA & ACTTCG & TTGTGC & GGTATG & CTGCTA & ATGAGG & ACGTTG\\\\\n",
       "\\hline\n",
       "\tENSMUSG00000000001 &  8  &  7  &  3  &  3  & 1   &  1  &  0  & 16  &   4 &  9  & ⋯   &  2  &  1  &  4  &  3  &  4  &  4  &  0  &  2  &  10 &  2 \\\\\n",
       "\tENSMUSG00000000003 &  0  &  0  &  0  &  0  & 0   &  0  &  0  &  0  &   0 &  0  & ⋯   &  0  &  0  &  0  &  0  &  0  &  0  &  0  &  0  &   0 &  0 \\\\\n",
       "\tENSMUSG00000000028 &  0  &  0  &  1  &  1  & 0   &  8  &  3  &  1  &   2 &  1  & ⋯   &  2  &  0  &  2  &  2  &  5  &  1  &  1  &  0  &   3 &  2 \\\\\n",
       "\tENSMUSG00000000031 & 61  & 94  & 47  & 66  & 5   & 37  & 38  & 60  & 101 & 78  & ⋯   & 50  & 45  & 74  & 51  & 77  & 84  & 40  & 48  & 110 & 26 \\\\\n",
       "\tENSMUSG00000000037 &  0  &  0  &  0  &  0  & 0   &  0  &  0  &  0  &   0 &  0  & ⋯   &  0  &  2  &  0  &  0  &  0  &  0  &  0  &  0  &   0 &  0 \\\\\n",
       "\tENSMUSG00000000049 &  0  &  0  &  0  &  0  & 0   &  0  &  0  &  0  &   0 &  0  & ⋯   &  0  &  0  &  0  &  0  &  0  &  0  &  0  &  0  &   0 &  0 \\\\\n",
       "\\end{tabular}\n"
      ],
      "text/markdown": [
       "\n",
       "| <!--/--> | GGTAGA | ATCGTG | ATGGAC | AGTAGG | CCATCA | AGTACC | CCAGTA | CGTTAC | GAGGTA | TTGGCA | ⋯ | CGTCTA | CCATAG | TTCCAG | GGACAA | ACTTCG | TTGTGC | GGTATG | CTGCTA | ATGAGG | ACGTTG | \n",
       "|---|---|---|---|---|---|\n",
       "| ENSMUSG00000000001 |  8  |  7  |  3  |  3  | 1   |  1  |  0  | 16  |   4 |  9  | ⋯   |  2  |  1  |  4  |  3  |  4  |  4  |  0  |  2  |  10 |  2  | \n",
       "| ENSMUSG00000000003 |  0  |  0  |  0  |  0  | 0   |  0  |  0  |  0  |   0 |  0  | ⋯   |  0  |  0  |  0  |  0  |  0  |  0  |  0  |  0  |   0 |  0  | \n",
       "| ENSMUSG00000000028 |  0  |  0  |  1  |  1  | 0   |  8  |  3  |  1  |   2 |  1  | ⋯   |  2  |  0  |  2  |  2  |  5  |  1  |  1  |  0  |   3 |  2  | \n",
       "| ENSMUSG00000000031 | 61  | 94  | 47  | 66  | 5   | 37  | 38  | 60  | 101 | 78  | ⋯   | 50  | 45  | 74  | 51  | 77  | 84  | 40  | 48  | 110 | 26  | \n",
       "| ENSMUSG00000000037 |  0  |  0  |  0  |  0  | 0   |  0  |  0  |  0  |   0 |  0  | ⋯   |  0  |  2  |  0  |  0  |  0  |  0  |  0  |  0  |   0 |  0  | \n",
       "| ENSMUSG00000000049 |  0  |  0  |  0  |  0  | 0   |  0  |  0  |  0  |   0 |  0  | ⋯   |  0  |  0  |  0  |  0  |  0  |  0  |  0  |  0  |   0 |  0  | \n",
       "\n",
       "\n"
      ],
      "text/plain": [
       "                   GGTAGA ATCGTG ATGGAC AGTAGG CCATCA AGTACC CCAGTA CGTTAC\n",
       "ENSMUSG00000000001  8      7      3      3     1       1      0     16    \n",
       "ENSMUSG00000000003  0      0      0      0     0       0      0      0    \n",
       "ENSMUSG00000000028  0      0      1      1     0       8      3      1    \n",
       "ENSMUSG00000000031 61     94     47     66     5      37     38     60    \n",
       "ENSMUSG00000000037  0      0      0      0     0       0      0      0    \n",
       "ENSMUSG00000000049  0      0      0      0     0       0      0      0    \n",
       "                   GAGGTA TTGGCA ⋯ CGTCTA CCATAG TTCCAG GGACAA ACTTCG TTGTGC\n",
       "ENSMUSG00000000001   4     9     ⋯  2      1      4      3      4      4    \n",
       "ENSMUSG00000000003   0     0     ⋯  0      0      0      0      0      0    \n",
       "ENSMUSG00000000028   2     1     ⋯  2      0      2      2      5      1    \n",
       "ENSMUSG00000000031 101    78     ⋯ 50     45     74     51     77     84    \n",
       "ENSMUSG00000000037   0     0     ⋯  0      2      0      0      0      0    \n",
       "ENSMUSG00000000049   0     0     ⋯  0      0      0      0      0      0    \n",
       "                   GGTATG CTGCTA ATGAGG ACGTTG\n",
       "ENSMUSG00000000001  0      2      10     2    \n",
       "ENSMUSG00000000003  0      0       0     0    \n",
       "ENSMUSG00000000028  1      0       3     2    \n",
       "ENSMUSG00000000031 40     48     110    26    \n",
       "ENSMUSG00000000037  0      0       0     0    \n",
       "ENSMUSG00000000049  0      0       0     0    "
      ]
     },
     "metadata": {},
     "output_type": "display_data"
    },
    {
     "name": "stderr",
     "output_type": "stream",
     "text": [
      "49671 genes and 192 cells.\n"
     ]
    }
   ],
   "source": [
    "xmine <- read.csv(\"source/E725.matrix.Seb_NewData_E725.3.quantif\", sep = \"\\t\", header = TRUE, row.name = 1)\n",
    "\n",
    "head(xmine)\n",
    "message(\"Mine: \", dim(xmine)[1], \" genes and \", dim(xmine)[2], \" cells.\")"
   ]
  },
  {
   "cell_type": "code",
   "execution_count": 20,
   "metadata": {
    "ExecuteTime": {
     "end_time": "2018-03-27T10:39:47.306824Z",
     "start_time": "2018-03-27T10:45:53.674Z"
    },
    "cell_style": "split"
   },
   "outputs": [
    {
     "data": {
      "text/html": [
       "<table>\n",
       "<thead><tr><th></th><th scope=col>SAE725FACS1_1_1</th><th scope=col>SAE725FACS1_1_2</th><th scope=col>SAE725FACS1_1_3</th><th scope=col>SAE725FACS1_1_4</th><th scope=col>SAE725FACS1_1_5</th><th scope=col>SAE725FACS1_1_6</th><th scope=col>SAE725FACS1_1_7</th><th scope=col>SAE725FACS1_1_8</th><th scope=col>SAE725FACS1_1_9</th><th scope=col>SAE725FACS1_1_10</th><th scope=col>⋯</th><th scope=col>SAE725FACS8_8_129</th><th scope=col>SAE725FACS8_8_145</th><th scope=col>SAE725FACS8_8_148</th><th scope=col>SAE725FACS8_8_154</th><th scope=col>SAE725FACS8_8_161</th><th scope=col>SAE725FACS8_8_164</th><th scope=col>SAE725FACS8_8_169</th><th scope=col>SAE725FACS8_8_173</th><th scope=col>SAE725FACS8_8_177</th><th scope=col>SAE725FACS8_8_180</th></tr></thead>\n",
       "<tbody>\n",
       "\t<tr><th scope=row>0610007P14Rik</th><td>0.000000</td><td>0.000000</td><td>1.000122</td><td>4.001954</td><td>0.000000</td><td>1.000122</td><td>0       </td><td>0       </td><td>0       </td><td>1.000122</td><td>⋯       </td><td>2.000488</td><td>2.000488</td><td>0.000000</td><td>0       </td><td>3.001099</td><td>0       </td><td>0.000000</td><td>1.000122</td><td>0       </td><td>1.000122</td></tr>\n",
       "\t<tr><th scope=row>0610009B22Rik</th><td>0.000000</td><td>3.001099</td><td>4.001954</td><td>3.001099</td><td>1.000122</td><td>4.001954</td><td>0       </td><td>0       </td><td>0       </td><td>1.000122</td><td>⋯       </td><td>4.001954</td><td>1.000122</td><td>2.000488</td><td>0       </td><td>2.000488</td><td>0       </td><td>1.000122</td><td>0.000000</td><td>0       </td><td>1.000122</td></tr>\n",
       "\t<tr><th scope=row>0610009E02Rik</th><td>0.000000</td><td>0.000000</td><td>0.000000</td><td>0.000000</td><td>0.000000</td><td>0.000000</td><td>0       </td><td>0       </td><td>0       </td><td>0.000000</td><td>⋯       </td><td>0.000000</td><td>0.000000</td><td>0.000000</td><td>0       </td><td>0.000000</td><td>0       </td><td>0.000000</td><td>0.000000</td><td>0       </td><td>0.000000</td></tr>\n",
       "\t<tr><th scope=row>0610009L18Rik</th><td>0.000000</td><td>0.000000</td><td>0.000000</td><td>0.000000</td><td>0.000000</td><td>0.000000</td><td>0       </td><td>0       </td><td>0       </td><td>0.000000</td><td>⋯       </td><td>0.000000</td><td>0.000000</td><td>0.000000</td><td>0       </td><td>0.000000</td><td>0       </td><td>0.000000</td><td>0.000000</td><td>0       </td><td>0.000000</td></tr>\n",
       "\t<tr><th scope=row>0610009O20Rik</th><td>0.000000</td><td>1.000122</td><td>0.000000</td><td>0.000000</td><td>0.000000</td><td>1.000122</td><td>0       </td><td>0       </td><td>0       </td><td>0.000000</td><td>⋯       </td><td>0.000000</td><td>0.000000</td><td>0.000000</td><td>0       </td><td>2.000488</td><td>0       </td><td>0.000000</td><td>0.000000</td><td>0       </td><td>1.000122</td></tr>\n",
       "\t<tr><th scope=row>0610010F05Rik</th><td>1.000122</td><td>0.000000</td><td>0.000000</td><td>1.000122</td><td>0.000000</td><td>0.000000</td><td>0       </td><td>0       </td><td>0       </td><td>0.000000</td><td>⋯       </td><td>0.000000</td><td>0.000000</td><td>0.000000</td><td>0       </td><td>0.000000</td><td>0       </td><td>0.000000</td><td>1.000122</td><td>0       </td><td>2.000488</td></tr>\n",
       "</tbody>\n",
       "</table>\n"
      ],
      "text/latex": [
       "\\begin{tabular}{r|llllllllllllllllllllllllllllllllllllllllllllllllllllllllllllllllllllllllllllllllllllllllllllllllllllllllllllllllllllllllllllllllllllllllllllllllllllllllllllllllllllllllllllllllllllllllllllllllllllllllllllllllllllllllllllllllllllllllllllllllllllllllllllllllllllllllllllllllllllllllllllllllllllllllllllllllllllllllllllllllllllllllllllllllllllllllllllllllllllllllllllllllllllllllllllllllllllllllllllllllllllllllllllllllllllllllllllll}\n",
       "  & SAE725FACS1\\_1\\_1 & SAE725FACS1\\_1\\_2 & SAE725FACS1\\_1\\_3 & SAE725FACS1\\_1\\_4 & SAE725FACS1\\_1\\_5 & SAE725FACS1\\_1\\_6 & SAE725FACS1\\_1\\_7 & SAE725FACS1\\_1\\_8 & SAE725FACS1\\_1\\_9 & SAE725FACS1\\_1\\_10 & ⋯ & SAE725FACS8\\_8\\_129 & SAE725FACS8\\_8\\_145 & SAE725FACS8\\_8\\_148 & SAE725FACS8\\_8\\_154 & SAE725FACS8\\_8\\_161 & SAE725FACS8\\_8\\_164 & SAE725FACS8\\_8\\_169 & SAE725FACS8\\_8\\_173 & SAE725FACS8\\_8\\_177 & SAE725FACS8\\_8\\_180\\\\\n",
       "\\hline\n",
       "\t0610007P14Rik & 0.000000 & 0.000000 & 1.000122 & 4.001954 & 0.000000 & 1.000122 & 0        & 0        & 0        & 1.000122 & ⋯        & 2.000488 & 2.000488 & 0.000000 & 0        & 3.001099 & 0        & 0.000000 & 1.000122 & 0        & 1.000122\\\\\n",
       "\t0610009B22Rik & 0.000000 & 3.001099 & 4.001954 & 3.001099 & 1.000122 & 4.001954 & 0        & 0        & 0        & 1.000122 & ⋯        & 4.001954 & 1.000122 & 2.000488 & 0        & 2.000488 & 0        & 1.000122 & 0.000000 & 0        & 1.000122\\\\\n",
       "\t0610009E02Rik & 0.000000 & 0.000000 & 0.000000 & 0.000000 & 0.000000 & 0.000000 & 0        & 0        & 0        & 0.000000 & ⋯        & 0.000000 & 0.000000 & 0.000000 & 0        & 0.000000 & 0        & 0.000000 & 0.000000 & 0        & 0.000000\\\\\n",
       "\t0610009L18Rik & 0.000000 & 0.000000 & 0.000000 & 0.000000 & 0.000000 & 0.000000 & 0        & 0        & 0        & 0.000000 & ⋯        & 0.000000 & 0.000000 & 0.000000 & 0        & 0.000000 & 0        & 0.000000 & 0.000000 & 0        & 0.000000\\\\\n",
       "\t0610009O20Rik & 0.000000 & 1.000122 & 0.000000 & 0.000000 & 0.000000 & 1.000122 & 0        & 0        & 0        & 0.000000 & ⋯        & 0.000000 & 0.000000 & 0.000000 & 0        & 2.000488 & 0        & 0.000000 & 0.000000 & 0        & 1.000122\\\\\n",
       "\t0610010F05Rik & 1.000122 & 0.000000 & 0.000000 & 1.000122 & 0.000000 & 0.000000 & 0        & 0        & 0        & 0.000000 & ⋯        & 0.000000 & 0.000000 & 0.000000 & 0        & 0.000000 & 0        & 0.000000 & 1.000122 & 0        & 2.000488\\\\\n",
       "\\end{tabular}\n"
      ],
      "text/markdown": [
       "\n",
       "| <!--/--> | SAE725FACS1_1_1 | SAE725FACS1_1_2 | SAE725FACS1_1_3 | SAE725FACS1_1_4 | SAE725FACS1_1_5 | SAE725FACS1_1_6 | SAE725FACS1_1_7 | SAE725FACS1_1_8 | SAE725FACS1_1_9 | SAE725FACS1_1_10 | ⋯ | SAE725FACS8_8_129 | SAE725FACS8_8_145 | SAE725FACS8_8_148 | SAE725FACS8_8_154 | SAE725FACS8_8_161 | SAE725FACS8_8_164 | SAE725FACS8_8_169 | SAE725FACS8_8_173 | SAE725FACS8_8_177 | SAE725FACS8_8_180 | \n",
       "|---|---|---|---|---|---|\n",
       "| 0610007P14Rik | 0.000000 | 0.000000 | 1.000122 | 4.001954 | 0.000000 | 1.000122 | 0        | 0        | 0        | 1.000122 | ⋯        | 2.000488 | 2.000488 | 0.000000 | 0        | 3.001099 | 0        | 0.000000 | 1.000122 | 0        | 1.000122 | \n",
       "| 0610009B22Rik | 0.000000 | 3.001099 | 4.001954 | 3.001099 | 1.000122 | 4.001954 | 0        | 0        | 0        | 1.000122 | ⋯        | 4.001954 | 1.000122 | 2.000488 | 0        | 2.000488 | 0        | 1.000122 | 0.000000 | 0        | 1.000122 | \n",
       "| 0610009E02Rik | 0.000000 | 0.000000 | 0.000000 | 0.000000 | 0.000000 | 0.000000 | 0        | 0        | 0        | 0.000000 | ⋯        | 0.000000 | 0.000000 | 0.000000 | 0        | 0.000000 | 0        | 0.000000 | 0.000000 | 0        | 0.000000 | \n",
       "| 0610009L18Rik | 0.000000 | 0.000000 | 0.000000 | 0.000000 | 0.000000 | 0.000000 | 0        | 0        | 0        | 0.000000 | ⋯        | 0.000000 | 0.000000 | 0.000000 | 0        | 0.000000 | 0        | 0.000000 | 0.000000 | 0        | 0.000000 | \n",
       "| 0610009O20Rik | 0.000000 | 1.000122 | 0.000000 | 0.000000 | 0.000000 | 1.000122 | 0        | 0        | 0        | 0.000000 | ⋯        | 0.000000 | 0.000000 | 0.000000 | 0        | 2.000488 | 0        | 0.000000 | 0.000000 | 0        | 1.000122 | \n",
       "| 0610010F05Rik | 1.000122 | 0.000000 | 0.000000 | 1.000122 | 0.000000 | 0.000000 | 0        | 0        | 0        | 0.000000 | ⋯        | 0.000000 | 0.000000 | 0.000000 | 0        | 0.000000 | 0        | 0.000000 | 1.000122 | 0        | 2.000488 | \n",
       "\n",
       "\n"
      ],
      "text/plain": [
       "              SAE725FACS1_1_1 SAE725FACS1_1_2 SAE725FACS1_1_3 SAE725FACS1_1_4\n",
       "0610007P14Rik 0.000000        0.000000        1.000122        4.001954       \n",
       "0610009B22Rik 0.000000        3.001099        4.001954        3.001099       \n",
       "0610009E02Rik 0.000000        0.000000        0.000000        0.000000       \n",
       "0610009L18Rik 0.000000        0.000000        0.000000        0.000000       \n",
       "0610009O20Rik 0.000000        1.000122        0.000000        0.000000       \n",
       "0610010F05Rik 1.000122        0.000000        0.000000        1.000122       \n",
       "              SAE725FACS1_1_5 SAE725FACS1_1_6 SAE725FACS1_1_7 SAE725FACS1_1_8\n",
       "0610007P14Rik 0.000000        1.000122        0               0              \n",
       "0610009B22Rik 1.000122        4.001954        0               0              \n",
       "0610009E02Rik 0.000000        0.000000        0               0              \n",
       "0610009L18Rik 0.000000        0.000000        0               0              \n",
       "0610009O20Rik 0.000000        1.000122        0               0              \n",
       "0610010F05Rik 0.000000        0.000000        0               0              \n",
       "              SAE725FACS1_1_9 SAE725FACS1_1_10 ⋯ SAE725FACS8_8_129\n",
       "0610007P14Rik 0               1.000122         ⋯ 2.000488         \n",
       "0610009B22Rik 0               1.000122         ⋯ 4.001954         \n",
       "0610009E02Rik 0               0.000000         ⋯ 0.000000         \n",
       "0610009L18Rik 0               0.000000         ⋯ 0.000000         \n",
       "0610009O20Rik 0               0.000000         ⋯ 0.000000         \n",
       "0610010F05Rik 0               0.000000         ⋯ 0.000000         \n",
       "              SAE725FACS8_8_145 SAE725FACS8_8_148 SAE725FACS8_8_154\n",
       "0610007P14Rik 2.000488          0.000000          0                \n",
       "0610009B22Rik 1.000122          2.000488          0                \n",
       "0610009E02Rik 0.000000          0.000000          0                \n",
       "0610009L18Rik 0.000000          0.000000          0                \n",
       "0610009O20Rik 0.000000          0.000000          0                \n",
       "0610010F05Rik 0.000000          0.000000          0                \n",
       "              SAE725FACS8_8_161 SAE725FACS8_8_164 SAE725FACS8_8_169\n",
       "0610007P14Rik 3.001099          0                 0.000000         \n",
       "0610009B22Rik 2.000488          0                 1.000122         \n",
       "0610009E02Rik 0.000000          0                 0.000000         \n",
       "0610009L18Rik 0.000000          0                 0.000000         \n",
       "0610009O20Rik 2.000488          0                 0.000000         \n",
       "0610010F05Rik 0.000000          0                 0.000000         \n",
       "              SAE725FACS8_8_173 SAE725FACS8_8_177 SAE725FACS8_8_180\n",
       "0610007P14Rik 1.000122          0                 1.000122         \n",
       "0610009B22Rik 0.000000          0                 1.000122         \n",
       "0610009E02Rik 0.000000          0                 0.000000         \n",
       "0610009L18Rik 0.000000          0                 0.000000         \n",
       "0610009O20Rik 0.000000          0                 1.000122         \n",
       "0610010F05Rik 1.000122          0                 2.000488         "
      ]
     },
     "metadata": {},
     "output_type": "display_data"
    },
    {
     "name": "stderr",
     "output_type": "stream",
     "text": [
      "Sagar: 33901 genes and 430 cells.\n"
     ]
    }
   ],
   "source": [
    "xsagar <- readRDS(\"source/prdata.sagar\")         \n",
    "\n",
    "head(xsagar)\n",
    "message(\"Sagar: \", dim(xsagar)[1], \" genes and \", dim(xsagar)[2], \" cells.\")"
   ]
  },
  {
   "cell_type": "markdown",
   "metadata": {},
   "source": [
    "Immediately we can see:\n",
    " * Mine has more genes - 49671\n",
    " * Sagar has more cells - 430\n",
    " * Mine uses *Ensembl* IDs, and Sagar uses *MGI*\n",
    " \n",
    "\n",
    "## Differences in Genes\n",
    " \n",
    "In order to truly compare we must convert Sagar's MGI gene data to Ensemble and then perform an overlap. \n",
    "\n",
    "### BioMart\n",
    "\n",
    "To do the naming conversion, we must use BioMart. \n",
    "When it works it is a fantastic library, unfortunately it is an extremely unreliable when pulling data from the internet and so I have to write the following convoluted methods below to pull data at increments at a time and patch them together:"
   ]
  },
  {
   "cell_type": "code",
   "execution_count": 13,
   "metadata": {
    "ExecuteTime": {
     "end_time": "2018-03-26T16:37:41.660606Z",
     "start_time": "2018-03-26T16:37:20.184Z"
    }
   },
   "outputs": [
    {
     "name": "stderr",
     "output_type": "stream",
     "text": [
      "Loading required package: biomaRt\n"
     ]
    }
   ],
   "source": [
    "# Let us measure the overlap between his detected genes and my detected genes\n",
    "require(biomaRt)\n",
    "# listMarts()\n",
    "mart <- useMart(biomart = \"ENSEMBL_MART_ENSEMBL\", dataset = \"mmusculus_gene_ensembl\")"
   ]
  },
  {
   "cell_type": "code",
   "execution_count": 16,
   "metadata": {
    "ExecuteTime": {
     "end_time": "2018-03-26T16:38:17.575513Z",
     "start_time": "2018-03-26T16:38:00.419Z"
    }
   },
   "outputs": [],
   "source": [
    "# This here is just to find which MGI attributes we will need\n",
    "#listAttributes(mart)[65:68,]\n",
    "#head(rownames(xsagar))"
   ]
  },
  {
   "cell_type": "code",
   "execution_count": 45,
   "metadata": {
    "ExecuteTime": {
     "end_time": "2018-03-26T17:31:47.102159Z",
     "start_time": "2018-03-26T17:31:29.916Z"
    }
   },
   "outputs": [],
   "source": [
    "# Weird bug with BioMart which can't handle more than 5000 queries\n",
    "# at a time.\n",
    "\n",
    "# This is a waste of my time and they should patch this soon!!\n",
    "incremental_getBM <- function(names, filter_type, attribs){\n",
    "    \n",
    "    if (is.null(attribs)){\n",
    "        attribs <- c(\n",
    "            \"ensembl_gene_id\",              # Gene stable ID\n",
    "            \"external_gene_name\",           # Casual name\n",
    "            \"mgi_symbol\"                   # Mouse Genome Index name\n",
    "#            \"external_transcript_name\",     # Transcript-specific name\n",
    "#            \"gene_biotype\",                 # Gene biotype\n",
    "#            \"transcript_biotype\",           # Trans type\n",
    "#            \"description\",                  # Gene description\n",
    "#            \"band\",                         # Karyotype band\n",
    "#            \"refseq_mrna\",\n",
    "#            \"go_id\",                        # Go Term accession (cellular domains)\n",
    "#            \"go_linkage_type\",              # Go Term evidence code\n",
    "#            \"name_1006\"                    # Go Term name\n",
    "#            \"definition_1006\",              # Go Term definition\n",
    "#            \"namespace_1003\"                # Go domain                  \n",
    "        )\n",
    "    }\n",
    "    \n",
    "   \n",
    "    return(getBM(filters = filter_type, attributes = attribs, values = names, mart = mart))\n",
    "}\n",
    "\n",
    "populate_BMarray <- function(fullnames, bin_size, filter_type, attribs){\n",
    "    \n",
    "    success_bm <- list()\n",
    "    failed_bm <- list()\n",
    "\n",
    "    index_sta = 1\n",
    "    index_end = index_sta + bin_size - 1\n",
    "\n",
    "    # Initial pass over full set\n",
    "    while (index_end < length(fullnames) + bin_size){\n",
    "        key_name <- paste(index_sta, \"-\", index_end)\n",
    "       \n",
    "        bm_vals <- NULL\n",
    "        \n",
    "        tryCatch({\n",
    "            message(\"Trying \", key_name)\n",
    "            bm_vals <- incremental_getBM(\n",
    "                fullnames[index_sta:index_end],\n",
    "                filter_type, attribs\n",
    "            )\n",
    "        }, error = function(e){\n",
    "            message(\"Failed to retrieve values for \", key_name)\n",
    "            bm_vals <- NULL\n",
    "        });\n",
    "        \n",
    "        #print(length(bm_vals))\n",
    "        \n",
    "        if (!is.null(bm_vals)){\n",
    "            success_bm[[key_name]] <- bm_vals\n",
    "        }\n",
    "        else {\n",
    "            failed_bm[[key_name]] <- c(index_sta,index_end)\n",
    "            \n",
    "        }\n",
    "\n",
    "        index_sta = index_sta + bin_size\n",
    "        index_end = index_end + bin_size\n",
    "    }\n",
    "\n",
    "    # Second pass, repeat until there are no more entries in failed_bm\n",
    "    message(\"trying failed bms again\")\n",
    "    while (length(failed_bm) > 0)\n",
    "    {\n",
    "        fst_key <- names(failed_bm)[1]\n",
    "        index_sta <- failed_bm[fst_key][1]\n",
    "        index_end <- failed_bm[fst_key][2]\n",
    "        \n",
    "        bm_vals <- NULL\n",
    "        \n",
    "        tryCatch({\n",
    "            message(\"Trying \", fst_key)\n",
    "            bm_vals <- incremental_getBM(\n",
    "                fullnames[index_sta:index_end],\n",
    "                filter_type, attribs\n",
    "            )\n",
    "        }, error = function(e){\n",
    "            bm_vals <- NULL\n",
    "        });\n",
    "        \n",
    "\n",
    "        if (!is.null(bm_vals)){\n",
    "            success_bm[[key_name]] <- bm_vals\n",
    "            failed_bm[[key_name]] <- NULL\n",
    "        }\n",
    "        else {\n",
    "            message(\"Failed to retrieve values for \", key_name)\n",
    "        }\n",
    "    }\n",
    "    \n",
    "    message(\"Generating full K\")\n",
    "    # Bind together all tables to make a k\n",
    "    k <- c()\n",
    "    for (tabl in success_bm){\n",
    "        k <- rbind(k, tabl)\n",
    "    }    \n",
    "    \n",
    "    return(k)\n",
    "}\n",
    "\n",
    "\n",
    "\n"
   ]
  },
  {
   "cell_type": "code",
   "execution_count": 19,
   "metadata": {
    "ExecuteTime": {
     "end_time": "2018-03-26T16:39:41.901448Z",
     "start_time": "2018-03-26T16:38:50.912Z"
    },
    "cell_style": "split",
    "scrolled": true
   },
   "outputs": [
    {
     "name": "stderr",
     "output_type": "stream",
     "text": [
      "Trying 1 - 2000\n",
      "Trying 2001 - 4000\n",
      "Trying 4001 - 6000\n",
      "Trying 6001 - 8000\n",
      "Trying 8001 - 10000\n",
      "Trying 10001 - 12000\n",
      "Trying 12001 - 14000\n",
      "Trying 14001 - 16000\n",
      "Trying 16001 - 18000\n",
      "Trying 18001 - 20000\n",
      "Trying 20001 - 22000\n",
      "Trying 22001 - 24000\n",
      "Trying 24001 - 26000\n",
      "Trying 26001 - 28000\n",
      "Trying 28001 - 30000\n",
      "Trying 30001 - 32000\n",
      "Trying 32001 - 34000\n",
      "trying failed bms again\n",
      "Generating full K\n"
     ]
    }
   ],
   "source": [
    "ksagar <- populate_BMarray(\n",
    "    rownames(xsagar), 2000, \n",
    "    \"mgi_symbol\")"
   ]
  },
  {
   "cell_type": "code",
   "execution_count": 20,
   "metadata": {
    "ExecuteTime": {
     "end_time": "2018-03-26T16:40:13.487819Z",
     "start_time": "2018-03-26T16:38:52.231Z"
    },
    "cell_style": "split",
    "scrolled": true
   },
   "outputs": [
    {
     "name": "stderr",
     "output_type": "stream",
     "text": [
      "Trying 1 - 2000\n",
      "Trying 2001 - 4000\n",
      "Trying 4001 - 6000\n",
      "Trying 6001 - 8000\n",
      "Trying 8001 - 10000\n",
      "Trying 10001 - 12000\n",
      "Trying 12001 - 14000\n",
      "Trying 14001 - 16000\n",
      "Trying 16001 - 18000\n",
      "Trying 18001 - 20000\n",
      "Trying 20001 - 22000\n",
      "Trying 22001 - 24000\n",
      "Trying 24001 - 26000\n",
      "Trying 26001 - 28000\n",
      "Trying 28001 - 30000\n",
      "Trying 30001 - 32000\n",
      "Trying 32001 - 34000\n",
      "Trying 34001 - 36000\n",
      "Trying 36001 - 38000\n",
      "Trying 38001 - 40000\n",
      "Trying 40001 - 42000\n",
      "Trying 42001 - 44000\n",
      "Trying 44001 - 46000\n",
      "Trying 46001 - 48000\n",
      "Trying 48001 - 50000\n",
      "trying failed bms again\n",
      "Generating full K\n"
     ]
    }
   ],
   "source": [
    "kmine <- populate_BMarray(\n",
    "    rownames(xmine), 2000, \n",
    "    \"ensembl_gene_id\")"
   ]
  },
  {
   "cell_type": "markdown",
   "metadata": {},
   "source": [
    "Let's see exactly how much of the gene names produce by the aligners are valid against the `ENSEMBL_MART_ENSEMBL` database in the `mmusculus_gene_ensembl` dataset."
   ]
  },
  {
   "cell_type": "code",
   "execution_count": 29,
   "metadata": {
    "ExecuteTime": {
     "end_time": "2018-03-26T17:08:18.713833Z",
     "start_time": "2018-03-26T17:08:01.544Z"
    },
    "cell_style": "split"
   },
   "outputs": [
    {
     "name": "stderr",
     "output_type": "stream",
     "text": [
      "Mine: 49671 → 49516 valid genes discovered.\n"
     ]
    }
   ],
   "source": [
    "message(\"Mine: \", dim(xmine)[1], \" → \", dim(kmine)[1], \" valid genes discovered.\")"
   ]
  },
  {
   "cell_type": "code",
   "execution_count": 30,
   "metadata": {
    "ExecuteTime": {
     "end_time": "2018-03-26T17:08:23.256341Z",
     "start_time": "2018-03-26T17:08:06.081Z"
    },
    "cell_style": "split"
   },
   "outputs": [
    {
     "name": "stderr",
     "output_type": "stream",
     "text": [
      "Sagar: 33901 → 31650 valid genes discovered.\n"
     ]
    }
   ],
   "source": [
    "message(\"Sagar: \", dim(xsagar)[1], \" → \", dim(ksagar)[1], \" valid genes discovered.\")"
   ]
  },
  {
   "cell_type": "code",
   "execution_count": 32,
   "metadata": {
    "ExecuteTime": {
     "end_time": "2018-03-26T17:10:01.317765Z",
     "start_time": "2018-03-26T17:09:42.386Z"
    },
    "cell_style": "split"
   },
   "outputs": [
    {
     "data": {
      "image/png": "[encoded data removed]",
      "text/plain": [
       "plot without title"
      ]
     },
     "metadata": {},
     "output_type": "display_data"
    }
   ],
   "source": [
    "library(VennDiagram)\n",
    "\n",
    "ensembl_sagar <- ksagar$ensembl_gene_id\n",
    "ensembl_mine <- kmine$ensembl_gene_id\n",
    "\n",
    "venn.plot <- venn.diagram(\n",
    "    x = list(\n",
    "        \"(blue) sagar\" = ensembl_sagar,\n",
    "        \"(red) mine\" = ensembl_mine\n",
    "    ),\n",
    "    fill = c(\"blue\",\"red\"),\n",
    "    filename = NULL\n",
    ");\n",
    "grid.draw(venn.plot);"
   ]
  },
  {
   "cell_type": "markdown",
   "metadata": {
    "cell_style": "split"
   },
   "source": [
    "We seem to have an almost complete overlap between sets, where my genes almost fully encompass Sagar's with a small discrepancy of 130 genes that do not appear in my data.\n",
    "\n",
    "Let's examine some of these genes:"
   ]
  },
  {
   "cell_type": "code",
   "execution_count": 40,
   "metadata": {
    "ExecuteTime": {
     "end_time": "2018-03-26T17:12:32.358324Z",
     "start_time": "2018-03-26T17:12:15.151Z"
    },
    "cell_style": "center",
    "scrolled": false
   },
   "outputs": [
    {
     "data": {
      "text/html": [
       "<table>\n",
       "<thead><tr><th></th><th scope=col>ensembl_gene_id</th><th scope=col>external_gene_name</th></tr></thead>\n",
       "<tbody>\n",
       "\t<tr><th scope=row>11</th><td>ENSMUSG00000108680</td><td>0610030E20Rik     </td></tr>\n",
       "\t<tr><th scope=row>984</th><td>ENSMUSG00000112356</td><td>4930432B10Rik     </td></tr>\n",
       "\t<tr><th scope=row>1079</th><td>ENSMUSG00000112493</td><td>4930486F22Rik     </td></tr>\n",
       "\t<tr><th scope=row>1984</th><td>ENSMUSG00000110868</td><td>AA467197          </td></tr>\n",
       "\t<tr><th scope=row>2293</th><td>ENSMUSG00000113640</td><td>Adat3             </td></tr>\n",
       "\t<tr><th scope=row>2491</th><td>ENSMUSG00000097319</td><td>Aip               </td></tr>\n",
       "\t<tr><th scope=row>2575</th><td>ENSMUSG00000114515</td><td>Aldoa             </td></tr>\n",
       "\t<tr><th scope=row>3068</th><td>ENSMUSG00000110906</td><td>Arrdc2            </td></tr>\n",
       "\t<tr><th scope=row>3087</th><td>ENSMUSG00000098615</td><td>Arvcf             </td></tr>\n",
       "\t<tr><th scope=row>3188</th><td>ENSMUSG00000106907</td><td>Atg2a             </td></tr>\n",
       "\t<tr><th scope=row>3217</th><td>ENSMUSG00000108408</td><td>Atp11c            </td></tr>\n",
       "\t<tr><th scope=row>3926</th><td>ENSMUSG00000110961</td><td>C1qtnf4           </td></tr>\n",
       "\t<tr><th scope=row>4022</th><td>ENSMUSG00000097687</td><td>Cabp4             </td></tr>\n",
       "\t<tr><th scope=row>4053</th><td>ENSMUSG00000097894</td><td>Cacng6            </td></tr>\n",
       "</tbody>\n",
       "</table>\n"
      ],
      "text/latex": [
       "\\begin{tabular}{r|ll}\n",
       "  & ensembl\\_gene\\_id & external\\_gene\\_name\\\\\n",
       "\\hline\n",
       "\t11 & ENSMUSG00000108680 & 0610030E20Rik     \\\\\n",
       "\t984 & ENSMUSG00000112356 & 4930432B10Rik     \\\\\n",
       "\t1079 & ENSMUSG00000112493 & 4930486F22Rik     \\\\\n",
       "\t1984 & ENSMUSG00000110868 & AA467197          \\\\\n",
       "\t2293 & ENSMUSG00000113640 & Adat3             \\\\\n",
       "\t2491 & ENSMUSG00000097319 & Aip               \\\\\n",
       "\t2575 & ENSMUSG00000114515 & Aldoa             \\\\\n",
       "\t3068 & ENSMUSG00000110906 & Arrdc2            \\\\\n",
       "\t3087 & ENSMUSG00000098615 & Arvcf             \\\\\n",
       "\t3188 & ENSMUSG00000106907 & Atg2a             \\\\\n",
       "\t3217 & ENSMUSG00000108408 & Atp11c            \\\\\n",
       "\t3926 & ENSMUSG00000110961 & C1qtnf4           \\\\\n",
       "\t4022 & ENSMUSG00000097687 & Cabp4             \\\\\n",
       "\t4053 & ENSMUSG00000097894 & Cacng6            \\\\\n",
       "\\end{tabular}\n"
      ],
      "text/markdown": [
       "\n",
       "| <!--/--> | ensembl_gene_id | external_gene_name | \n",
       "|---|---|---|---|---|---|---|---|---|---|---|---|---|---|\n",
       "| 11 | ENSMUSG00000108680 | 0610030E20Rik      | \n",
       "| 984 | ENSMUSG00000112356 | 4930432B10Rik      | \n",
       "| 1079 | ENSMUSG00000112493 | 4930486F22Rik      | \n",
       "| 1984 | ENSMUSG00000110868 | AA467197           | \n",
       "| 2293 | ENSMUSG00000113640 | Adat3              | \n",
       "| 2491 | ENSMUSG00000097319 | Aip                | \n",
       "| 2575 | ENSMUSG00000114515 | Aldoa              | \n",
       "| 3068 | ENSMUSG00000110906 | Arrdc2             | \n",
       "| 3087 | ENSMUSG00000098615 | Arvcf              | \n",
       "| 3188 | ENSMUSG00000106907 | Atg2a              | \n",
       "| 3217 | ENSMUSG00000108408 | Atp11c             | \n",
       "| 3926 | ENSMUSG00000110961 | C1qtnf4            | \n",
       "| 4022 | ENSMUSG00000097687 | Cabp4              | \n",
       "| 4053 | ENSMUSG00000097894 | Cacng6             | \n",
       "\n",
       "\n"
      ],
      "text/plain": [
       "     ensembl_gene_id    external_gene_name\n",
       "11   ENSMUSG00000108680 0610030E20Rik     \n",
       "984  ENSMUSG00000112356 4930432B10Rik     \n",
       "1079 ENSMUSG00000112493 4930486F22Rik     \n",
       "1984 ENSMUSG00000110868 AA467197          \n",
       "2293 ENSMUSG00000113640 Adat3             \n",
       "2491 ENSMUSG00000097319 Aip               \n",
       "2575 ENSMUSG00000114515 Aldoa             \n",
       "3068 ENSMUSG00000110906 Arrdc2            \n",
       "3087 ENSMUSG00000098615 Arvcf             \n",
       "3188 ENSMUSG00000106907 Atg2a             \n",
       "3217 ENSMUSG00000108408 Atp11c            \n",
       "3926 ENSMUSG00000110961 C1qtnf4           \n",
       "4022 ENSMUSG00000097687 Cabp4             \n",
       "4053 ENSMUSG00000097894 Cacng6            "
      ]
     },
     "metadata": {},
     "output_type": "display_data"
    }
   ],
   "source": [
    "union_sets <- union(ensembl_mine, ensembl_sagar)\n",
    "onethirty <- union_sets[!union_sets %in% ensembl_mine]\n",
    "\n",
    "sagar_onethirty <- ksagar[ksagar$ensembl_gene_id %in% onethirty,c(1,2)]\n",
    "head(sagar_onethirty, 14)"
   ]
  },
  {
   "cell_type": "markdown",
   "metadata": {},
   "source": [
    "### How many of the 130 non-overlapping genes have non-zero expression?"
   ]
  },
  {
   "cell_type": "code",
   "execution_count": 41,
   "metadata": {
    "ExecuteTime": {
     "end_time": "2018-03-26T17:13:21.673864Z",
     "start_time": "2018-03-26T17:13:04.462Z"
    }
   },
   "outputs": [
    {
     "data": {
      "text/html": [
       "102"
      ],
      "text/latex": [
       "102"
      ],
      "text/markdown": [
       "102"
      ],
      "text/plain": [
       "[1] 102"
      ]
     },
     "metadata": {},
     "output_type": "display_data"
    }
   ],
   "source": [
    "sagar_rowsums <- rowSums(xsagar[rownames(xsagar) %in% sagar_onethirty$external_gene_name,])\n",
    "length(sagar_rowsums[sagar_rowsums > 0])"
   ]
  },
  {
   "cell_type": "markdown",
   "metadata": {},
   "source": [
    "So these genes cannot be easily ignored, since most have non-zero expression.\n",
    "\n",
    "### How many of the transcripts have been retired?"
   ]
  },
  {
   "cell_type": "code",
   "execution_count": 49,
   "metadata": {
    "ExecuteTime": {
     "end_time": "2018-03-26T17:46:37.629804Z",
     "start_time": "2018-03-26T17:44:43.794Z"
    }
   },
   "outputs": [
    {
     "ename": "ERROR",
     "evalue": "Error in data.table(alleg): could not find function \"data.table\"\n",
     "output_type": "error",
     "traceback": [
      "Error in data.table(alleg): could not find function \"data.table\"\nTraceback:\n"
     ]
    }
   ],
   "source": [
    "#reasons_for_130 <- populate_BMarray(\n",
    "#    sagar_onethirty$external_gene_name,\n",
    "#    2000, \"mgi_symbol\", c(\"mgi_symbol\", \"description\")\n",
    "#)\n",
    "\n",
    "## \n",
    "getexpr = function(s,g){substring(s,g,g+attr(g,'match.length')-1)}\n",
    "matcher <- '<div class=\"lhs\">Status</div><div class=\"rhs\"><p>([^<]*)</p>'\n",
    "\n",
    "checkStatus <- function(rname){\n",
    "    \n",
    "    url_name <- paste(\n",
    "        'http://www.ensembl.org/Mus_musculus/Gene/Idhistory?g=', rname,\n",
    "        sep=\"\"\n",
    "    )\n",
    "    page <- readLines(url_name)\n",
    "    \n",
    "    datalines <- grep(matcher, page, value=T)\n",
    "    gg = gregexpr(matcher,datalines)\n",
    "    matches = mapply(getexpr,datalines,gg)\n",
    "    result = gsub(matcher,'\\\\1',matches)\n",
    "    names(result) = NULL\n",
    "\n",
    "    return(result)\n",
    "}\n",
    "\n",
    "alleg <- list()\n",
    "for (mgi in sagar_onethirty$external_gene_name){\n",
    "    alleg <- rbind(alleg, c(mgi, checkStatus(mgi)))\n",
    "}\n",
    "colnames(alleg) <- c(\"MGI\", \"Status\")"
   ]
  },
  {
   "cell_type": "code",
   "execution_count": 62,
   "metadata": {
    "ExecuteTime": {
     "end_time": "2018-03-26T17:52:16.673851Z",
     "start_time": "2018-03-26T17:51:59.483Z"
    },
    "cell_style": "split"
   },
   "outputs": [
    {
     "data": {
      "text/html": [
       "<table>\n",
       "<thead><tr><th scope=col>MGI</th><th scope=col>Status</th></tr></thead>\n",
       "<tbody>\n",
       "\t<tr><td>0610030E20Rik</td><td>Current      </td></tr>\n",
       "\t<tr><td>4930432B10Rik</td><td>Current      </td></tr>\n",
       "\t<tr><td>4930486F22Rik</td><td>Current      </td></tr>\n",
       "\t<tr><td>AA467197</td><td>Current </td></tr>\n",
       "\t<tr><td>Adat3  </td><td>Current</td></tr>\n",
       "\t<tr><td>Aip    </td><td>Current</td></tr>\n",
       "</tbody>\n",
       "</table>\n"
      ],
      "text/latex": [
       "\\begin{tabular}{ll}\n",
       " MGI & Status\\\\\n",
       "\\hline\n",
       "\t 0610030E20Rik & Current      \\\\\n",
       "\t 4930432B10Rik & Current      \\\\\n",
       "\t 4930486F22Rik & Current      \\\\\n",
       "\t AA467197 & Current \\\\\n",
       "\t Adat3   & Current\\\\\n",
       "\t Aip     & Current\\\\\n",
       "\\end{tabular}\n"
      ],
      "text/markdown": [
       "\n",
       "MGI | Status | \n",
       "|---|---|---|---|---|---|\n",
       "| 0610030E20Rik | Current       | \n",
       "| 4930432B10Rik | Current       | \n",
       "| 4930486F22Rik | Current       | \n",
       "| AA467197 | Current  | \n",
       "| Adat3   | Current | \n",
       "| Aip     | Current | \n",
       "\n",
       "\n"
      ],
      "text/plain": [
       "     MGI           Status \n",
       "[1,] 0610030E20Rik Current\n",
       "[2,] 4930432B10Rik Current\n",
       "[3,] 4930486F22Rik Current\n",
       "[4,] AA467197      Current\n",
       "[5,] Adat3         Current\n",
       "[6,] Aip           Current"
      ]
     },
     "metadata": {},
     "output_type": "display_data"
    },
    {
     "data": {
      "text/html": [
       "<ol class=list-inline>\n",
       "\t<li>130</li>\n",
       "\t<li>2</li>\n",
       "</ol>\n"
      ],
      "text/latex": [
       "\\begin{enumerate*}\n",
       "\\item 130\n",
       "\\item 2\n",
       "\\end{enumerate*}\n"
      ],
      "text/markdown": [
       "1. 130\n",
       "2. 2\n",
       "\n",
       "\n"
      ],
      "text/plain": [
       "[1] 130   2"
      ]
     },
     "metadata": {},
     "output_type": "display_data"
    },
    {
     "data": {
      "text/html": [
       "130"
      ],
      "text/latex": [
       "130"
      ],
      "text/markdown": [
       "130"
      ],
      "text/plain": [
       "[1] 130"
      ]
     },
     "metadata": {},
     "output_type": "display_data"
    }
   ],
   "source": [
    "head(alleg)\n",
    "dim(alleg)\n",
    "length(grep(\"Current\", alleg))"
   ]
  },
  {
   "cell_type": "markdown",
   "metadata": {
    "cell_style": "center"
   },
   "source": [
    "The grep command shows that all transcripts are current. But we actually know this is not the case:\n",
    "\n",
    " * ENSMUSG00000112493 does not exist in the GTF file for mm10 or mm9 on Galaxy.\n",
    " * ENSMUSG00000112493 is also known as (MGI) 4930486F22Rik\n",
    "   * 4930486F22Rik does not exist in mm10 GTF, but does exist in mm9 GTF where it is given the identifier ENSMUSG00000085435, so we know that Sagar was using mm9.\n",
    "   * A search for ENSMUSG00000085435 produces a retired gene with no relevant successors (which is why it is not in mm10).\n",
    "   \n",
    " The same appears to be the case of Aip, which has a new identifier ENSMUSG00000024847 instead of the ENSMUSG00000097319 it is given.\n",
    "    "
   ]
  },
  {
   "cell_type": "markdown",
   "metadata": {
    "ExecuteTime": {
     "end_time": "2018-03-27T10:02:22.143188Z",
     "start_time": "2018-03-27T10:08:29.819Z"
    }
   },
   "source": [
    "### Conclusion\n",
    "\n",
    "The differences in gene numbers stem from the more recent mm10 GTF file used in my analysis which can demarkate more genes, and as seen by the Venn diagram above encapsulates more than 95% of Sagar's genes derived from the mm9 assembly. The 130 non-overlap in genes is due to this mm9 → mm10 transition where certain genes are depreciated/renamed.\n",
    "\n",
    "\n",
    "## Differences in Cells\n",
    "\n",
    "Let us now explore why the number of detected cells is so drastically different.\n",
    "\n",
    "### Mine\n",
    "\n",
    "My count matrix was derived using a barcode file from the initial 2017_12 data where I assumed that the barcodes would be the same if they came from the same platform.\n",
    "\n",
    "However, I realise now that the initial 2017_12 data was mouth-pippetted and the new 2018_03 data is FACS sorted/selected, and though they both likely used the same primer from the CelSeq2 protocol, there could be some differences in barcodes.\n",
    "\n",
    " * To explore this point further, I used the `umi_tools whitelist` command to try and estimate the barcodes based on the *NNNNNNCCCCCC* (6bp umi + 6bp barcode) format.\n",
    "  * This yielded a barcode file of 195 cells\n",
    "  * (I also tried this the other way (6C6N) and found 1096 cells which was clearly false.)\n",
    "\n",
    "A quick intersection of the estimated barcodes and the barcodes I had obtained previously yields:"
   ]
  },
  {
   "cell_type": "code",
   "execution_count": 17,
   "metadata": {
    "ExecuteTime": {
     "end_time": "2018-03-27T10:31:16.156353Z",
     "start_time": "2018-03-27T10:37:23.784Z"
    }
   },
   "outputs": [
    {
     "name": "stderr",
     "output_type": "stream",
     "text": [
      " Estimated barcodes:195\n",
      "  Obtained barcodes:192\n",
      "Estimate ^ Obtained:197\n"
     ]
    }
   ],
   "source": [
    "barcodes_estimated <- read.table('source/barcodes.whitelisted.6N6C')\n",
    "barcodes_obtained <- read.table('source/barcodes.provided')\n",
    "\n",
    "raw_estimated <- barcodes_estimated[,1]\n",
    "raw_obtained <- barcodes_obtained[,2]\n",
    "\n",
    "message(\" Estimated barcodes:\", length(raw_estimated))\n",
    "message(\"  Obtained barcodes:\", length(raw_obtained))\n",
    "\n",
    "message(\"Estimate ^ Obtained:\", length(unique(union(raw_estimated, raw_obtained))))"
   ]
  },
  {
   "cell_type": "code",
   "execution_count": 18,
   "metadata": {
    "ExecuteTime": {
     "end_time": "2018-03-27T10:37:12.531552Z",
     "start_time": "2018-03-27T10:43:19.097Z"
    },
    "cell_style": "split"
   },
   "outputs": [
    {
     "data": {
      "image/png": "[encoded data removed]",
      "text/plain": [
       "plot without title"
      ]
     },
     "metadata": {},
     "output_type": "display_data"
    }
   ],
   "source": [
    "library(VennDiagram)\n",
    "\n",
    "venn.plot <- venn.diagram(\n",
    "    x = list(\n",
    "        \"(blue) estimated\" = raw_estimated,\n",
    "        \"(red) obtained\" = raw_obtained\n",
    "    ),\n",
    "    fill = c(\"blue\",\"red\"),\n",
    "    filename = NULL\n",
    ");\n",
    "grid.draw(venn.plot);"
   ]
  },
  {
   "cell_type": "markdown",
   "metadata": {
    "cell_style": "split"
   },
   "source": [
    "So from this we can see that 190 cell barcodes match between estimated and obtained, and that the obtained barcodes has 2 cells that the estimated could not detect (likely due to zero counts).\n",
    "\n",
    "We can also see that the estimated barcodes have 5 cells that were not in the barcodes provided previously.\n",
    "\n",
    "This is troubling for two reasons:\n",
    " * The Estimated barcodes come from FACS sorted data. FACS uses 8x12 = 96-well plates, meaning we should expect no more than 192 cells for two plates, and that no barcodes were repeated.\n",
    " * The union of both sets provide us with 197 unique barcodes, which once again exceed the FACS mapping capacity.\n",
    " \n",
    "Something odd is happening, and to investigate we should pay attention to the cell headers used in the Sagar data"
   ]
  },
  {
   "cell_type": "markdown",
   "metadata": {},
   "source": [
    "### Sagar\n",
    "\n",
    "Let us simply print out all the names used in his matrix and see what we can deduce."
   ]
  },
  {
   "cell_type": "code",
   "execution_count": 37,
   "metadata": {
    "ExecuteTime": {
     "end_time": "2018-03-27T11:13:32.934122Z",
     "start_time": "2018-03-27T11:19:40.433Z"
    },
    "scrolled": false
   },
   "outputs": [
    {
     "name": "stderr",
     "output_type": "stream",
     "text": [
      "Warning message in matrix(snames, ncol = 20):\n",
      "“data length [430] is not a sub-multiple or multiple of the number of rows [22]”"
     ]
    },
    {
     "data": {
      "text/html": [
       "<table>\n",
       "<tbody>\n",
       "\t<tr><td>SAE725FACS1_1_1  </td><td>SAE725FACS1_1_25 </td><td>SAE725FACS1_1_55 </td><td>SAE725FACS1_1_82 </td><td>SAE725FACS2_2_109</td><td>SAE725FACS2_2_139</td><td>SAE725FACS2_2_164</td><td>SAE725FACS2_2_191</td><td>SAE725FACS3_3_33 </td><td>SAE725FACS3_3_63 </td><td>SAE725FACS3_3_90 </td><td>SAE725FACS4_4_117</td><td>SAE725FACS4_4_146</td><td>SAE725FACS4_4_180</td><td>SAE725FACS6_6_129</td><td>SAE725FACS6_6_185</td><td>SAE725FACS7_7_35 </td><td>SAE725FACS7_7_82 </td><td>SAE725FACS7_7_142</td><td>SAE725FACS8_8_121</td></tr>\n",
       "\t<tr><td>SAE725FACS1_1_2  </td><td>SAE725FACS1_1_26 </td><td>SAE725FACS1_1_56 </td><td>SAE725FACS1_1_83 </td><td>SAE725FACS2_2_110</td><td>SAE725FACS2_2_140</td><td>SAE725FACS2_2_166</td><td>SAE725FACS3_3_1  </td><td>SAE725FACS3_3_34 </td><td>SAE725FACS3_3_66 </td><td>SAE725FACS3_3_91 </td><td>SAE725FACS4_4_118</td><td>SAE725FACS4_4_151</td><td>SAE725FACS4_4_181</td><td>SAE725FACS6_6_130</td><td>SAE725FACS6_6_186</td><td>SAE725FACS7_7_41 </td><td>SAE725FACS7_7_83 </td><td>SAE725FACS7_7_145</td><td>SAE725FACS8_8_125</td></tr>\n",
       "\t<tr><td>SAE725FACS1_1_3  </td><td>SAE725FACS1_1_27 </td><td>SAE725FACS1_1_57 </td><td>SAE725FACS1_1_84 </td><td>SAE725FACS2_2_114</td><td>SAE725FACS2_2_142</td><td>SAE725FACS2_2_167</td><td>SAE725FACS3_3_2  </td><td>SAE725FACS3_3_35 </td><td>SAE725FACS3_3_67 </td><td>SAE725FACS3_3_92 </td><td>SAE725FACS4_4_119</td><td>SAE725FACS4_4_152</td><td>SAE725FACS4_4_182</td><td>SAE725FACS6_6_131</td><td>SAE725FACS6_6_192</td><td>SAE725FACS7_7_42 </td><td>SAE725FACS7_7_84 </td><td>SAE725FACS7_7_146</td><td>SAE725FACS8_8_129</td></tr>\n",
       "\t<tr><td>SAE725FACS1_1_4  </td><td>SAE725FACS1_1_28 </td><td>SAE725FACS1_1_58 </td><td>SAE725FACS1_1_85 </td><td>SAE725FACS2_2_116</td><td>SAE725FACS2_2_143</td><td>SAE725FACS2_2_168</td><td>SAE725FACS3_3_3  </td><td>SAE725FACS3_3_36 </td><td>SAE725FACS3_3_68 </td><td>SAE725FACS3_3_93 </td><td>SAE725FACS4_4_120</td><td>SAE725FACS4_4_154</td><td>SAE725FACS4_4_183</td><td>SAE725FACS6_6_137</td><td>SAE725FACS7_7_1  </td><td>SAE725FACS7_7_43 </td><td>SAE725FACS7_7_89 </td><td>SAE725FACS7_7_148</td><td>SAE725FACS8_8_145</td></tr>\n",
       "\t<tr><td>SAE725FACS1_1_5  </td><td>SAE725FACS1_1_30 </td><td>SAE725FACS1_1_59 </td><td>SAE725FACS1_1_86 </td><td>SAE725FACS2_2_118</td><td>SAE725FACS2_2_144</td><td>SAE725FACS2_2_169</td><td>SAE725FACS3_3_6  </td><td>SAE725FACS3_3_37 </td><td>SAE725FACS3_3_70 </td><td>SAE725FACS3_3_94 </td><td>SAE725FACS4_4_121</td><td>SAE725FACS4_4_155</td><td>SAE725FACS4_4_185</td><td>SAE725FACS6_6_138</td><td>SAE725FACS7_7_2  </td><td>SAE725FACS7_7_44 </td><td>SAE725FACS7_7_90 </td><td>SAE725FACS7_7_153</td><td>SAE725FACS8_8_148</td></tr>\n",
       "\t<tr><td>SAE725FACS1_1_6  </td><td>SAE725FACS1_1_31 </td><td>SAE725FACS1_1_60 </td><td>SAE725FACS1_1_87 </td><td>SAE725FACS2_2_119</td><td>SAE725FACS2_2_145</td><td>SAE725FACS2_2_170</td><td>SAE725FACS3_3_7  </td><td>SAE725FACS3_3_38 </td><td>SAE725FACS3_3_71 </td><td>SAE725FACS3_3_95 </td><td>SAE725FACS4_4_122</td><td>SAE725FACS4_4_157</td><td>SAE725FACS4_4_186</td><td>SAE725FACS6_6_141</td><td>SAE725FACS7_7_4  </td><td>SAE725FACS7_7_49 </td><td>SAE725FACS7_7_91 </td><td>SAE725FACS7_7_161</td><td>SAE725FACS8_8_154</td></tr>\n",
       "\t<tr><td>SAE725FACS1_1_7  </td><td>SAE725FACS1_1_33 </td><td>SAE725FACS1_1_61 </td><td>SAE725FACS1_1_88 </td><td>SAE725FACS2_2_121</td><td>SAE725FACS2_2_146</td><td>SAE725FACS2_2_172</td><td>SAE725FACS3_3_8  </td><td>SAE725FACS3_3_40 </td><td>SAE725FACS3_3_72 </td><td>SAE725FACS4_4_97 </td><td>SAE725FACS4_4_123</td><td>SAE725FACS4_4_158</td><td>SAE725FACS4_4_187</td><td>SAE725FACS6_6_142</td><td>SAE725FACS7_7_9  </td><td>SAE725FACS7_7_50 </td><td>SAE725FACS7_7_92 </td><td>SAE725FACS7_7_162</td><td>SAE725FACS8_8_161</td></tr>\n",
       "\t<tr><td>SAE725FACS1_1_8  </td><td>SAE725FACS1_1_34 </td><td>SAE725FACS1_1_62 </td><td>SAE725FACS1_1_89 </td><td>SAE725FACS2_2_122</td><td>SAE725FACS2_2_148</td><td>SAE725FACS2_2_173</td><td>SAE725FACS3_3_9  </td><td>SAE725FACS3_3_41 </td><td>SAE725FACS3_3_73 </td><td>SAE725FACS4_4_98 </td><td>SAE725FACS4_4_124</td><td>SAE725FACS4_4_159</td><td>SAE725FACS4_4_188</td><td>SAE725FACS6_6_145</td><td>SAE725FACS7_7_10 </td><td>SAE725FACS7_7_51 </td><td>SAE725FACS7_7_93 </td><td>SAE725FACS7_7_166</td><td>SAE725FACS8_8_164</td></tr>\n",
       "\t<tr><td>SAE725FACS1_1_9  </td><td>SAE725FACS1_1_35 </td><td>SAE725FACS1_1_66 </td><td>SAE725FACS1_1_90 </td><td>SAE725FACS2_2_124</td><td>SAE725FACS2_2_150</td><td>SAE725FACS2_2_174</td><td>SAE725FACS3_3_10 </td><td>SAE725FACS3_3_43 </td><td>SAE725FACS3_3_74 </td><td>SAE725FACS4_4_99 </td><td>SAE725FACS4_4_127</td><td>SAE725FACS4_4_161</td><td>SAE725FACS4_4_189</td><td>SAE725FACS6_6_146</td><td>SAE725FACS7_7_12 </td><td>SAE725FACS7_7_52 </td><td>SAE725FACS7_7_94 </td><td>SAE725FACS7_7_169</td><td>SAE725FACS8_8_169</td></tr>\n",
       "\t<tr><td>SAE725FACS1_1_10 </td><td>SAE725FACS1_1_36 </td><td>SAE725FACS1_1_67 </td><td>SAE725FACS1_1_92 </td><td>SAE725FACS2_2_125</td><td>SAE725FACS2_2_151</td><td>SAE725FACS2_2_177</td><td>SAE725FACS3_3_11 </td><td>SAE725FACS3_3_44 </td><td>SAE725FACS3_3_75 </td><td>SAE725FACS4_4_101</td><td>SAE725FACS4_4_130</td><td>SAE725FACS4_4_162</td><td>SAE725FACS4_4_190</td><td>SAE725FACS6_6_147</td><td>SAE725FACS7_7_13 </td><td>SAE725FACS7_7_57 </td><td>SAE725FACS7_7_97 </td><td>SAE725FACS7_7_170</td><td>SAE725FACS8_8_173</td></tr>\n",
       "\t<tr><td>SAE725FACS1_1_11 </td><td>SAE725FACS1_1_38 </td><td>SAE725FACS1_1_68 </td><td>SAE725FACS1_1_93 </td><td>SAE725FACS2_2_126</td><td>SAE725FACS2_2_152</td><td>SAE725FACS2_2_178</td><td>SAE725FACS3_3_12 </td><td>SAE725FACS3_3_45 </td><td>SAE725FACS3_3_76 </td><td>SAE725FACS4_4_102</td><td>SAE725FACS4_4_131</td><td>SAE725FACS4_4_163</td><td>SAE725FACS4_4_191</td><td>SAE725FACS6_6_148</td><td>SAE725FACS7_7_16 </td><td>SAE725FACS7_7_59 </td><td>SAE725FACS7_7_113</td><td>SAE725FACS7_7_171</td><td>SAE725FACS8_8_177</td></tr>\n",
       "\t<tr><td>SAE725FACS1_1_13 </td><td>SAE725FACS1_1_39 </td><td>SAE725FACS1_1_70 </td><td>SAE725FACS1_1_94 </td><td>SAE725FACS2_2_127</td><td>SAE725FACS2_2_153</td><td>SAE725FACS2_2_179</td><td>SAE725FACS3_3_13 </td><td>SAE725FACS3_3_46 </td><td>SAE725FACS3_3_77 </td><td>SAE725FACS4_4_103</td><td>SAE725FACS4_4_132</td><td>SAE725FACS4_4_164</td><td>SAE725FACS6_6_97 </td><td>SAE725FACS6_6_153</td><td>SAE725FACS7_7_17 </td><td>SAE725FACS7_7_60 </td><td>SAE725FACS7_7_114</td><td>SAE725FACS7_7_177</td><td>SAE725FACS8_8_180</td></tr>\n",
       "\t<tr><td>SAE725FACS1_1_14 </td><td>SAE725FACS1_1_42 </td><td>SAE725FACS1_1_71 </td><td>SAE725FACS1_1_95 </td><td>SAE725FACS2_2_129</td><td>SAE725FACS2_2_154</td><td>SAE725FACS2_2_180</td><td>SAE725FACS3_3_14 </td><td>SAE725FACS3_3_47 </td><td>SAE725FACS3_3_78 </td><td>SAE725FACS4_4_104</td><td>SAE725FACS4_4_133</td><td>SAE725FACS4_4_165</td><td>SAE725FACS6_6_98 </td><td>SAE725FACS6_6_161</td><td>SAE725FACS7_7_18 </td><td>SAE725FACS7_7_62 </td><td>SAE725FACS7_7_115</td><td>SAE725FACS7_7_180</td><td>SAE725FACS1_1_1  </td></tr>\n",
       "\t<tr><td>SAE725FACS1_1_15 </td><td>SAE725FACS1_1_44 </td><td>SAE725FACS1_1_72 </td><td>SAE725FACS1_1_96 </td><td>SAE725FACS2_2_130</td><td>SAE725FACS2_2_155</td><td>SAE725FACS2_2_181</td><td>SAE725FACS3_3_17 </td><td>SAE725FACS3_3_49 </td><td>SAE725FACS3_3_79 </td><td>SAE725FACS4_4_106</td><td>SAE725FACS4_4_134</td><td>SAE725FACS4_4_166</td><td>SAE725FACS6_6_105</td><td>SAE725FACS6_6_162</td><td>SAE725FACS7_7_19 </td><td>SAE725FACS7_7_65 </td><td>SAE725FACS7_7_121</td><td>SAE725FACS7_7_185</td><td>SAE725FACS1_1_2  </td></tr>\n",
       "\t<tr><td>SAE725FACS1_1_16 </td><td>SAE725FACS1_1_45 </td><td>SAE725FACS1_1_73 </td><td>SAE725FACS2_2_97 </td><td>SAE725FACS2_2_131</td><td>SAE725FACS2_2_156</td><td>SAE725FACS2_2_182</td><td>SAE725FACS3_3_20 </td><td>SAE725FACS3_3_51 </td><td>SAE725FACS3_3_81 </td><td>SAE725FACS4_4_107</td><td>SAE725FACS4_4_135</td><td>SAE725FACS4_4_167</td><td>SAE725FACS6_6_110</td><td>SAE725FACS6_6_166</td><td>SAE725FACS7_7_25 </td><td>SAE725FACS7_7_66 </td><td>SAE725FACS7_7_122</td><td>SAE725FACS7_7_186</td><td>SAE725FACS1_1_3  </td></tr>\n",
       "\t<tr><td>SAE725FACS1_1_17 </td><td>SAE725FACS1_1_46 </td><td>SAE725FACS1_1_74 </td><td>SAE725FACS2_2_98 </td><td>SAE725FACS2_2_132</td><td>SAE725FACS2_2_157</td><td>SAE725FACS2_2_183</td><td>SAE725FACS3_3_22 </td><td>SAE725FACS3_3_52 </td><td>SAE725FACS3_3_83 </td><td>SAE725FACS4_4_108</td><td>SAE725FACS4_4_136</td><td>SAE725FACS4_4_168</td><td>SAE725FACS6_6_113</td><td>SAE725FACS6_6_169</td><td>SAE725FACS7_7_26 </td><td>SAE725FACS7_7_67 </td><td>SAE725FACS7_7_124</td><td>SAE725FACS7_7_192</td><td>SAE725FACS1_1_4  </td></tr>\n",
       "\t<tr><td>SAE725FACS1_1_18 </td><td>SAE725FACS1_1_47 </td><td>SAE725FACS1_1_75 </td><td>SAE725FACS2_2_101</td><td>SAE725FACS2_2_133</td><td>SAE725FACS2_2_158</td><td>SAE725FACS2_2_184</td><td>SAE725FACS3_3_23 </td><td>SAE725FACS3_3_56 </td><td>SAE725FACS3_3_84 </td><td>SAE725FACS4_4_109</td><td>SAE725FACS4_4_137</td><td>SAE725FACS4_4_169</td><td>SAE725FACS6_6_114</td><td>SAE725FACS6_6_170</td><td>SAE725FACS7_7_27 </td><td>SAE725FACS7_7_73 </td><td>SAE725FACS7_7_125</td><td>SAE725FACS8_8_97 </td><td>SAE725FACS1_1_5  </td></tr>\n",
       "\t<tr><td>SAE725FACS1_1_19 </td><td>SAE725FACS1_1_48 </td><td>SAE725FACS1_1_76 </td><td>SAE725FACS2_2_102</td><td>SAE725FACS2_2_134</td><td>SAE725FACS2_2_159</td><td>SAE725FACS2_2_185</td><td>SAE725FACS3_3_25 </td><td>SAE725FACS3_3_57 </td><td>SAE725FACS3_3_85 </td><td>SAE725FACS4_4_110</td><td>SAE725FACS4_4_138</td><td>SAE725FACS4_4_170</td><td>SAE725FACS6_6_115</td><td>SAE725FACS6_6_171</td><td>SAE725FACS7_7_28 </td><td>SAE725FACS7_7_74 </td><td>SAE725FACS7_7_129</td><td>SAE725FACS8_8_98 </td><td>SAE725FACS1_1_6  </td></tr>\n",
       "\t<tr><td>SAE725FACS1_1_20 </td><td>SAE725FACS1_1_50 </td><td>SAE725FACS1_1_77 </td><td>SAE725FACS2_2_104</td><td>SAE725FACS2_2_135</td><td>SAE725FACS2_2_160</td><td>SAE725FACS2_2_186</td><td>SAE725FACS3_3_26 </td><td>SAE725FACS3_3_58 </td><td>SAE725FACS3_3_86 </td><td>SAE725FACS4_4_111</td><td>SAE725FACS4_4_141</td><td>SAE725FACS4_4_172</td><td>SAE725FACS6_6_121</td><td>SAE725FACS6_6_175</td><td>SAE725FACS7_7_29 </td><td>SAE725FACS7_7_75 </td><td>SAE725FACS7_7_130</td><td>SAE725FACS8_8_99 </td><td>SAE725FACS1_1_7  </td></tr>\n",
       "\t<tr><td>SAE725FACS1_1_21 </td><td>SAE725FACS1_1_52 </td><td>SAE725FACS1_1_78 </td><td>SAE725FACS2_2_105</td><td>SAE725FACS2_2_136</td><td>SAE725FACS2_2_161</td><td>SAE725FACS2_2_187</td><td>SAE725FACS3_3_27 </td><td>SAE725FACS3_3_60 </td><td>SAE725FACS3_3_87 </td><td>SAE725FACS4_4_113</td><td>SAE725FACS4_4_142</td><td>SAE725FACS4_4_174</td><td>SAE725FACS6_6_122</td><td>SAE725FACS6_6_177</td><td>SAE725FACS7_7_30 </td><td>SAE725FACS7_7_76 </td><td>SAE725FACS7_7_137</td><td>SAE725FACS8_8_100</td><td>SAE725FACS1_1_8  </td></tr>\n",
       "\t<tr><td>SAE725FACS1_1_22 </td><td>SAE725FACS1_1_53 </td><td>SAE725FACS1_1_79 </td><td>SAE725FACS2_2_106</td><td>SAE725FACS2_2_137</td><td>SAE725FACS2_2_162</td><td>SAE725FACS2_2_188</td><td>SAE725FACS3_3_28 </td><td>SAE725FACS3_3_61 </td><td>SAE725FACS3_3_88 </td><td>SAE725FACS4_4_114</td><td>SAE725FACS4_4_143</td><td>SAE725FACS4_4_178</td><td>SAE725FACS6_6_124</td><td>SAE725FACS6_6_178</td><td>SAE725FACS7_7_31 </td><td>SAE725FACS7_7_77 </td><td>SAE725FACS7_7_138</td><td>SAE725FACS8_8_105</td><td>SAE725FACS1_1_9  </td></tr>\n",
       "\t<tr><td>SAE725FACS1_1_24 </td><td>SAE725FACS1_1_54 </td><td>SAE725FACS1_1_81 </td><td>SAE725FACS2_2_108</td><td>SAE725FACS2_2_138</td><td>SAE725FACS2_2_163</td><td>SAE725FACS2_2_189</td><td>SAE725FACS3_3_30 </td><td>SAE725FACS3_3_62 </td><td>SAE725FACS3_3_89 </td><td>SAE725FACS4_4_115</td><td>SAE725FACS4_4_145</td><td>SAE725FACS4_4_179</td><td>SAE725FACS6_6_125</td><td>SAE725FACS6_6_180</td><td>SAE725FACS7_7_34 </td><td>SAE725FACS7_7_81 </td><td>SAE725FACS7_7_141</td><td>SAE725FACS8_8_113</td><td>SAE725FACS1_1_10 </td></tr>\n",
       "</tbody>\n",
       "</table>\n"
      ],
      "text/latex": [
       "\\begin{tabular}{llllllllllllllllllll}\n",
       "\t SAE725FACS1\\_1\\_1   & SAE725FACS1\\_1\\_25  & SAE725FACS1\\_1\\_55  & SAE725FACS1\\_1\\_82  & SAE725FACS2\\_2\\_109 & SAE725FACS2\\_2\\_139 & SAE725FACS2\\_2\\_164 & SAE725FACS2\\_2\\_191 & SAE725FACS3\\_3\\_33  & SAE725FACS3\\_3\\_63  & SAE725FACS3\\_3\\_90  & SAE725FACS4\\_4\\_117 & SAE725FACS4\\_4\\_146 & SAE725FACS4\\_4\\_180 & SAE725FACS6\\_6\\_129 & SAE725FACS6\\_6\\_185 & SAE725FACS7\\_7\\_35  & SAE725FACS7\\_7\\_82  & SAE725FACS7\\_7\\_142 & SAE725FACS8\\_8\\_121\\\\\n",
       "\t SAE725FACS1\\_1\\_2   & SAE725FACS1\\_1\\_26  & SAE725FACS1\\_1\\_56  & SAE725FACS1\\_1\\_83  & SAE725FACS2\\_2\\_110 & SAE725FACS2\\_2\\_140 & SAE725FACS2\\_2\\_166 & SAE725FACS3\\_3\\_1   & SAE725FACS3\\_3\\_34  & SAE725FACS3\\_3\\_66  & SAE725FACS3\\_3\\_91  & SAE725FACS4\\_4\\_118 & SAE725FACS4\\_4\\_151 & SAE725FACS4\\_4\\_181 & SAE725FACS6\\_6\\_130 & SAE725FACS6\\_6\\_186 & SAE725FACS7\\_7\\_41  & SAE725FACS7\\_7\\_83  & SAE725FACS7\\_7\\_145 & SAE725FACS8\\_8\\_125\\\\\n",
       "\t SAE725FACS1\\_1\\_3   & SAE725FACS1\\_1\\_27  & SAE725FACS1\\_1\\_57  & SAE725FACS1\\_1\\_84  & SAE725FACS2\\_2\\_114 & SAE725FACS2\\_2\\_142 & SAE725FACS2\\_2\\_167 & SAE725FACS3\\_3\\_2   & SAE725FACS3\\_3\\_35  & SAE725FACS3\\_3\\_67  & SAE725FACS3\\_3\\_92  & SAE725FACS4\\_4\\_119 & SAE725FACS4\\_4\\_152 & SAE725FACS4\\_4\\_182 & SAE725FACS6\\_6\\_131 & SAE725FACS6\\_6\\_192 & SAE725FACS7\\_7\\_42  & SAE725FACS7\\_7\\_84  & SAE725FACS7\\_7\\_146 & SAE725FACS8\\_8\\_129\\\\\n",
       "\t SAE725FACS1\\_1\\_4   & SAE725FACS1\\_1\\_28  & SAE725FACS1\\_1\\_58  & SAE725FACS1\\_1\\_85  & SAE725FACS2\\_2\\_116 & SAE725FACS2\\_2\\_143 & SAE725FACS2\\_2\\_168 & SAE725FACS3\\_3\\_3   & SAE725FACS3\\_3\\_36  & SAE725FACS3\\_3\\_68  & SAE725FACS3\\_3\\_93  & SAE725FACS4\\_4\\_120 & SAE725FACS4\\_4\\_154 & SAE725FACS4\\_4\\_183 & SAE725FACS6\\_6\\_137 & SAE725FACS7\\_7\\_1   & SAE725FACS7\\_7\\_43  & SAE725FACS7\\_7\\_89  & SAE725FACS7\\_7\\_148 & SAE725FACS8\\_8\\_145\\\\\n",
       "\t SAE725FACS1\\_1\\_5   & SAE725FACS1\\_1\\_30  & SAE725FACS1\\_1\\_59  & SAE725FACS1\\_1\\_86  & SAE725FACS2\\_2\\_118 & SAE725FACS2\\_2\\_144 & SAE725FACS2\\_2\\_169 & SAE725FACS3\\_3\\_6   & SAE725FACS3\\_3\\_37  & SAE725FACS3\\_3\\_70  & SAE725FACS3\\_3\\_94  & SAE725FACS4\\_4\\_121 & SAE725FACS4\\_4\\_155 & SAE725FACS4\\_4\\_185 & SAE725FACS6\\_6\\_138 & SAE725FACS7\\_7\\_2   & SAE725FACS7\\_7\\_44  & SAE725FACS7\\_7\\_90  & SAE725FACS7\\_7\\_153 & SAE725FACS8\\_8\\_148\\\\\n",
       "\t SAE725FACS1\\_1\\_6   & SAE725FACS1\\_1\\_31  & SAE725FACS1\\_1\\_60  & SAE725FACS1\\_1\\_87  & SAE725FACS2\\_2\\_119 & SAE725FACS2\\_2\\_145 & SAE725FACS2\\_2\\_170 & SAE725FACS3\\_3\\_7   & SAE725FACS3\\_3\\_38  & SAE725FACS3\\_3\\_71  & SAE725FACS3\\_3\\_95  & SAE725FACS4\\_4\\_122 & SAE725FACS4\\_4\\_157 & SAE725FACS4\\_4\\_186 & SAE725FACS6\\_6\\_141 & SAE725FACS7\\_7\\_4   & SAE725FACS7\\_7\\_49  & SAE725FACS7\\_7\\_91  & SAE725FACS7\\_7\\_161 & SAE725FACS8\\_8\\_154\\\\\n",
       "\t SAE725FACS1\\_1\\_7   & SAE725FACS1\\_1\\_33  & SAE725FACS1\\_1\\_61  & SAE725FACS1\\_1\\_88  & SAE725FACS2\\_2\\_121 & SAE725FACS2\\_2\\_146 & SAE725FACS2\\_2\\_172 & SAE725FACS3\\_3\\_8   & SAE725FACS3\\_3\\_40  & SAE725FACS3\\_3\\_72  & SAE725FACS4\\_4\\_97  & SAE725FACS4\\_4\\_123 & SAE725FACS4\\_4\\_158 & SAE725FACS4\\_4\\_187 & SAE725FACS6\\_6\\_142 & SAE725FACS7\\_7\\_9   & SAE725FACS7\\_7\\_50  & SAE725FACS7\\_7\\_92  & SAE725FACS7\\_7\\_162 & SAE725FACS8\\_8\\_161\\\\\n",
       "\t SAE725FACS1\\_1\\_8   & SAE725FACS1\\_1\\_34  & SAE725FACS1\\_1\\_62  & SAE725FACS1\\_1\\_89  & SAE725FACS2\\_2\\_122 & SAE725FACS2\\_2\\_148 & SAE725FACS2\\_2\\_173 & SAE725FACS3\\_3\\_9   & SAE725FACS3\\_3\\_41  & SAE725FACS3\\_3\\_73  & SAE725FACS4\\_4\\_98  & SAE725FACS4\\_4\\_124 & SAE725FACS4\\_4\\_159 & SAE725FACS4\\_4\\_188 & SAE725FACS6\\_6\\_145 & SAE725FACS7\\_7\\_10  & SAE725FACS7\\_7\\_51  & SAE725FACS7\\_7\\_93  & SAE725FACS7\\_7\\_166 & SAE725FACS8\\_8\\_164\\\\\n",
       "\t SAE725FACS1\\_1\\_9   & SAE725FACS1\\_1\\_35  & SAE725FACS1\\_1\\_66  & SAE725FACS1\\_1\\_90  & SAE725FACS2\\_2\\_124 & SAE725FACS2\\_2\\_150 & SAE725FACS2\\_2\\_174 & SAE725FACS3\\_3\\_10  & SAE725FACS3\\_3\\_43  & SAE725FACS3\\_3\\_74  & SAE725FACS4\\_4\\_99  & SAE725FACS4\\_4\\_127 & SAE725FACS4\\_4\\_161 & SAE725FACS4\\_4\\_189 & SAE725FACS6\\_6\\_146 & SAE725FACS7\\_7\\_12  & SAE725FACS7\\_7\\_52  & SAE725FACS7\\_7\\_94  & SAE725FACS7\\_7\\_169 & SAE725FACS8\\_8\\_169\\\\\n",
       "\t SAE725FACS1\\_1\\_10  & SAE725FACS1\\_1\\_36  & SAE725FACS1\\_1\\_67  & SAE725FACS1\\_1\\_92  & SAE725FACS2\\_2\\_125 & SAE725FACS2\\_2\\_151 & SAE725FACS2\\_2\\_177 & SAE725FACS3\\_3\\_11  & SAE725FACS3\\_3\\_44  & SAE725FACS3\\_3\\_75  & SAE725FACS4\\_4\\_101 & SAE725FACS4\\_4\\_130 & SAE725FACS4\\_4\\_162 & SAE725FACS4\\_4\\_190 & SAE725FACS6\\_6\\_147 & SAE725FACS7\\_7\\_13  & SAE725FACS7\\_7\\_57  & SAE725FACS7\\_7\\_97  & SAE725FACS7\\_7\\_170 & SAE725FACS8\\_8\\_173\\\\\n",
       "\t SAE725FACS1\\_1\\_11  & SAE725FACS1\\_1\\_38  & SAE725FACS1\\_1\\_68  & SAE725FACS1\\_1\\_93  & SAE725FACS2\\_2\\_126 & SAE725FACS2\\_2\\_152 & SAE725FACS2\\_2\\_178 & SAE725FACS3\\_3\\_12  & SAE725FACS3\\_3\\_45  & SAE725FACS3\\_3\\_76  & SAE725FACS4\\_4\\_102 & SAE725FACS4\\_4\\_131 & SAE725FACS4\\_4\\_163 & SAE725FACS4\\_4\\_191 & SAE725FACS6\\_6\\_148 & SAE725FACS7\\_7\\_16  & SAE725FACS7\\_7\\_59  & SAE725FACS7\\_7\\_113 & SAE725FACS7\\_7\\_171 & SAE725FACS8\\_8\\_177\\\\\n",
       "\t SAE725FACS1\\_1\\_13  & SAE725FACS1\\_1\\_39  & SAE725FACS1\\_1\\_70  & SAE725FACS1\\_1\\_94  & SAE725FACS2\\_2\\_127 & SAE725FACS2\\_2\\_153 & SAE725FACS2\\_2\\_179 & SAE725FACS3\\_3\\_13  & SAE725FACS3\\_3\\_46  & SAE725FACS3\\_3\\_77  & SAE725FACS4\\_4\\_103 & SAE725FACS4\\_4\\_132 & SAE725FACS4\\_4\\_164 & SAE725FACS6\\_6\\_97  & SAE725FACS6\\_6\\_153 & SAE725FACS7\\_7\\_17  & SAE725FACS7\\_7\\_60  & SAE725FACS7\\_7\\_114 & SAE725FACS7\\_7\\_177 & SAE725FACS8\\_8\\_180\\\\\n",
       "\t SAE725FACS1\\_1\\_14  & SAE725FACS1\\_1\\_42  & SAE725FACS1\\_1\\_71  & SAE725FACS1\\_1\\_95  & SAE725FACS2\\_2\\_129 & SAE725FACS2\\_2\\_154 & SAE725FACS2\\_2\\_180 & SAE725FACS3\\_3\\_14  & SAE725FACS3\\_3\\_47  & SAE725FACS3\\_3\\_78  & SAE725FACS4\\_4\\_104 & SAE725FACS4\\_4\\_133 & SAE725FACS4\\_4\\_165 & SAE725FACS6\\_6\\_98  & SAE725FACS6\\_6\\_161 & SAE725FACS7\\_7\\_18  & SAE725FACS7\\_7\\_62  & SAE725FACS7\\_7\\_115 & SAE725FACS7\\_7\\_180 & SAE725FACS1\\_1\\_1  \\\\\n",
       "\t SAE725FACS1\\_1\\_15  & SAE725FACS1\\_1\\_44  & SAE725FACS1\\_1\\_72  & SAE725FACS1\\_1\\_96  & SAE725FACS2\\_2\\_130 & SAE725FACS2\\_2\\_155 & SAE725FACS2\\_2\\_181 & SAE725FACS3\\_3\\_17  & SAE725FACS3\\_3\\_49  & SAE725FACS3\\_3\\_79  & SAE725FACS4\\_4\\_106 & SAE725FACS4\\_4\\_134 & SAE725FACS4\\_4\\_166 & SAE725FACS6\\_6\\_105 & SAE725FACS6\\_6\\_162 & SAE725FACS7\\_7\\_19  & SAE725FACS7\\_7\\_65  & SAE725FACS7\\_7\\_121 & SAE725FACS7\\_7\\_185 & SAE725FACS1\\_1\\_2  \\\\\n",
       "\t SAE725FACS1\\_1\\_16  & SAE725FACS1\\_1\\_45  & SAE725FACS1\\_1\\_73  & SAE725FACS2\\_2\\_97  & SAE725FACS2\\_2\\_131 & SAE725FACS2\\_2\\_156 & SAE725FACS2\\_2\\_182 & SAE725FACS3\\_3\\_20  & SAE725FACS3\\_3\\_51  & SAE725FACS3\\_3\\_81  & SAE725FACS4\\_4\\_107 & SAE725FACS4\\_4\\_135 & SAE725FACS4\\_4\\_167 & SAE725FACS6\\_6\\_110 & SAE725FACS6\\_6\\_166 & SAE725FACS7\\_7\\_25  & SAE725FACS7\\_7\\_66  & SAE725FACS7\\_7\\_122 & SAE725FACS7\\_7\\_186 & SAE725FACS1\\_1\\_3  \\\\\n",
       "\t SAE725FACS1\\_1\\_17  & SAE725FACS1\\_1\\_46  & SAE725FACS1\\_1\\_74  & SAE725FACS2\\_2\\_98  & SAE725FACS2\\_2\\_132 & SAE725FACS2\\_2\\_157 & SAE725FACS2\\_2\\_183 & SAE725FACS3\\_3\\_22  & SAE725FACS3\\_3\\_52  & SAE725FACS3\\_3\\_83  & SAE725FACS4\\_4\\_108 & SAE725FACS4\\_4\\_136 & SAE725FACS4\\_4\\_168 & SAE725FACS6\\_6\\_113 & SAE725FACS6\\_6\\_169 & SAE725FACS7\\_7\\_26  & SAE725FACS7\\_7\\_67  & SAE725FACS7\\_7\\_124 & SAE725FACS7\\_7\\_192 & SAE725FACS1\\_1\\_4  \\\\\n",
       "\t SAE725FACS1\\_1\\_18  & SAE725FACS1\\_1\\_47  & SAE725FACS1\\_1\\_75  & SAE725FACS2\\_2\\_101 & SAE725FACS2\\_2\\_133 & SAE725FACS2\\_2\\_158 & SAE725FACS2\\_2\\_184 & SAE725FACS3\\_3\\_23  & SAE725FACS3\\_3\\_56  & SAE725FACS3\\_3\\_84  & SAE725FACS4\\_4\\_109 & SAE725FACS4\\_4\\_137 & SAE725FACS4\\_4\\_169 & SAE725FACS6\\_6\\_114 & SAE725FACS6\\_6\\_170 & SAE725FACS7\\_7\\_27  & SAE725FACS7\\_7\\_73  & SAE725FACS7\\_7\\_125 & SAE725FACS8\\_8\\_97  & SAE725FACS1\\_1\\_5  \\\\\n",
       "\t SAE725FACS1\\_1\\_19  & SAE725FACS1\\_1\\_48  & SAE725FACS1\\_1\\_76  & SAE725FACS2\\_2\\_102 & SAE725FACS2\\_2\\_134 & SAE725FACS2\\_2\\_159 & SAE725FACS2\\_2\\_185 & SAE725FACS3\\_3\\_25  & SAE725FACS3\\_3\\_57  & SAE725FACS3\\_3\\_85  & SAE725FACS4\\_4\\_110 & SAE725FACS4\\_4\\_138 & SAE725FACS4\\_4\\_170 & SAE725FACS6\\_6\\_115 & SAE725FACS6\\_6\\_171 & SAE725FACS7\\_7\\_28  & SAE725FACS7\\_7\\_74  & SAE725FACS7\\_7\\_129 & SAE725FACS8\\_8\\_98  & SAE725FACS1\\_1\\_6  \\\\\n",
       "\t SAE725FACS1\\_1\\_20  & SAE725FACS1\\_1\\_50  & SAE725FACS1\\_1\\_77  & SAE725FACS2\\_2\\_104 & SAE725FACS2\\_2\\_135 & SAE725FACS2\\_2\\_160 & SAE725FACS2\\_2\\_186 & SAE725FACS3\\_3\\_26  & SAE725FACS3\\_3\\_58  & SAE725FACS3\\_3\\_86  & SAE725FACS4\\_4\\_111 & SAE725FACS4\\_4\\_141 & SAE725FACS4\\_4\\_172 & SAE725FACS6\\_6\\_121 & SAE725FACS6\\_6\\_175 & SAE725FACS7\\_7\\_29  & SAE725FACS7\\_7\\_75  & SAE725FACS7\\_7\\_130 & SAE725FACS8\\_8\\_99  & SAE725FACS1\\_1\\_7  \\\\\n",
       "\t SAE725FACS1\\_1\\_21  & SAE725FACS1\\_1\\_52  & SAE725FACS1\\_1\\_78  & SAE725FACS2\\_2\\_105 & SAE725FACS2\\_2\\_136 & SAE725FACS2\\_2\\_161 & SAE725FACS2\\_2\\_187 & SAE725FACS3\\_3\\_27  & SAE725FACS3\\_3\\_60  & SAE725FACS3\\_3\\_87  & SAE725FACS4\\_4\\_113 & SAE725FACS4\\_4\\_142 & SAE725FACS4\\_4\\_174 & SAE725FACS6\\_6\\_122 & SAE725FACS6\\_6\\_177 & SAE725FACS7\\_7\\_30  & SAE725FACS7\\_7\\_76  & SAE725FACS7\\_7\\_137 & SAE725FACS8\\_8\\_100 & SAE725FACS1\\_1\\_8  \\\\\n",
       "\t SAE725FACS1\\_1\\_22  & SAE725FACS1\\_1\\_53  & SAE725FACS1\\_1\\_79  & SAE725FACS2\\_2\\_106 & SAE725FACS2\\_2\\_137 & SAE725FACS2\\_2\\_162 & SAE725FACS2\\_2\\_188 & SAE725FACS3\\_3\\_28  & SAE725FACS3\\_3\\_61  & SAE725FACS3\\_3\\_88  & SAE725FACS4\\_4\\_114 & SAE725FACS4\\_4\\_143 & SAE725FACS4\\_4\\_178 & SAE725FACS6\\_6\\_124 & SAE725FACS6\\_6\\_178 & SAE725FACS7\\_7\\_31  & SAE725FACS7\\_7\\_77  & SAE725FACS7\\_7\\_138 & SAE725FACS8\\_8\\_105 & SAE725FACS1\\_1\\_9  \\\\\n",
       "\t SAE725FACS1\\_1\\_24  & SAE725FACS1\\_1\\_54  & SAE725FACS1\\_1\\_81  & SAE725FACS2\\_2\\_108 & SAE725FACS2\\_2\\_138 & SAE725FACS2\\_2\\_163 & SAE725FACS2\\_2\\_189 & SAE725FACS3\\_3\\_30  & SAE725FACS3\\_3\\_62  & SAE725FACS3\\_3\\_89  & SAE725FACS4\\_4\\_115 & SAE725FACS4\\_4\\_145 & SAE725FACS4\\_4\\_179 & SAE725FACS6\\_6\\_125 & SAE725FACS6\\_6\\_180 & SAE725FACS7\\_7\\_34  & SAE725FACS7\\_7\\_81  & SAE725FACS7\\_7\\_141 & SAE725FACS8\\_8\\_113 & SAE725FACS1\\_1\\_10 \\\\\n",
       "\\end{tabular}\n"
      ],
      "text/markdown": [
       "\n",
       "| SAE725FACS1_1_1   | SAE725FACS1_1_25  | SAE725FACS1_1_55  | SAE725FACS1_1_82  | SAE725FACS2_2_109 | SAE725FACS2_2_139 | SAE725FACS2_2_164 | SAE725FACS2_2_191 | SAE725FACS3_3_33  | SAE725FACS3_3_63  | SAE725FACS3_3_90  | SAE725FACS4_4_117 | SAE725FACS4_4_146 | SAE725FACS4_4_180 | SAE725FACS6_6_129 | SAE725FACS6_6_185 | SAE725FACS7_7_35  | SAE725FACS7_7_82  | SAE725FACS7_7_142 | SAE725FACS8_8_121 | \n",
       "| SAE725FACS1_1_2   | SAE725FACS1_1_26  | SAE725FACS1_1_56  | SAE725FACS1_1_83  | SAE725FACS2_2_110 | SAE725FACS2_2_140 | SAE725FACS2_2_166 | SAE725FACS3_3_1   | SAE725FACS3_3_34  | SAE725FACS3_3_66  | SAE725FACS3_3_91  | SAE725FACS4_4_118 | SAE725FACS4_4_151 | SAE725FACS4_4_181 | SAE725FACS6_6_130 | SAE725FACS6_6_186 | SAE725FACS7_7_41  | SAE725FACS7_7_83  | SAE725FACS7_7_145 | SAE725FACS8_8_125 | \n",
       "| SAE725FACS1_1_3   | SAE725FACS1_1_27  | SAE725FACS1_1_57  | SAE725FACS1_1_84  | SAE725FACS2_2_114 | SAE725FACS2_2_142 | SAE725FACS2_2_167 | SAE725FACS3_3_2   | SAE725FACS3_3_35  | SAE725FACS3_3_67  | SAE725FACS3_3_92  | SAE725FACS4_4_119 | SAE725FACS4_4_152 | SAE725FACS4_4_182 | SAE725FACS6_6_131 | SAE725FACS6_6_192 | SAE725FACS7_7_42  | SAE725FACS7_7_84  | SAE725FACS7_7_146 | SAE725FACS8_8_129 | \n",
       "| SAE725FACS1_1_4   | SAE725FACS1_1_28  | SAE725FACS1_1_58  | SAE725FACS1_1_85  | SAE725FACS2_2_116 | SAE725FACS2_2_143 | SAE725FACS2_2_168 | SAE725FACS3_3_3   | SAE725FACS3_3_36  | SAE725FACS3_3_68  | SAE725FACS3_3_93  | SAE725FACS4_4_120 | SAE725FACS4_4_154 | SAE725FACS4_4_183 | SAE725FACS6_6_137 | SAE725FACS7_7_1   | SAE725FACS7_7_43  | SAE725FACS7_7_89  | SAE725FACS7_7_148 | SAE725FACS8_8_145 | \n",
       "| SAE725FACS1_1_5   | SAE725FACS1_1_30  | SAE725FACS1_1_59  | SAE725FACS1_1_86  | SAE725FACS2_2_118 | SAE725FACS2_2_144 | SAE725FACS2_2_169 | SAE725FACS3_3_6   | SAE725FACS3_3_37  | SAE725FACS3_3_70  | SAE725FACS3_3_94  | SAE725FACS4_4_121 | SAE725FACS4_4_155 | SAE725FACS4_4_185 | SAE725FACS6_6_138 | SAE725FACS7_7_2   | SAE725FACS7_7_44  | SAE725FACS7_7_90  | SAE725FACS7_7_153 | SAE725FACS8_8_148 | \n",
       "| SAE725FACS1_1_6   | SAE725FACS1_1_31  | SAE725FACS1_1_60  | SAE725FACS1_1_87  | SAE725FACS2_2_119 | SAE725FACS2_2_145 | SAE725FACS2_2_170 | SAE725FACS3_3_7   | SAE725FACS3_3_38  | SAE725FACS3_3_71  | SAE725FACS3_3_95  | SAE725FACS4_4_122 | SAE725FACS4_4_157 | SAE725FACS4_4_186 | SAE725FACS6_6_141 | SAE725FACS7_7_4   | SAE725FACS7_7_49  | SAE725FACS7_7_91  | SAE725FACS7_7_161 | SAE725FACS8_8_154 | \n",
       "| SAE725FACS1_1_7   | SAE725FACS1_1_33  | SAE725FACS1_1_61  | SAE725FACS1_1_88  | SAE725FACS2_2_121 | SAE725FACS2_2_146 | SAE725FACS2_2_172 | SAE725FACS3_3_8   | SAE725FACS3_3_40  | SAE725FACS3_3_72  | SAE725FACS4_4_97  | SAE725FACS4_4_123 | SAE725FACS4_4_158 | SAE725FACS4_4_187 | SAE725FACS6_6_142 | SAE725FACS7_7_9   | SAE725FACS7_7_50  | SAE725FACS7_7_92  | SAE725FACS7_7_162 | SAE725FACS8_8_161 | \n",
       "| SAE725FACS1_1_8   | SAE725FACS1_1_34  | SAE725FACS1_1_62  | SAE725FACS1_1_89  | SAE725FACS2_2_122 | SAE725FACS2_2_148 | SAE725FACS2_2_173 | SAE725FACS3_3_9   | SAE725FACS3_3_41  | SAE725FACS3_3_73  | SAE725FACS4_4_98  | SAE725FACS4_4_124 | SAE725FACS4_4_159 | SAE725FACS4_4_188 | SAE725FACS6_6_145 | SAE725FACS7_7_10  | SAE725FACS7_7_51  | SAE725FACS7_7_93  | SAE725FACS7_7_166 | SAE725FACS8_8_164 | \n",
       "| SAE725FACS1_1_9   | SAE725FACS1_1_35  | SAE725FACS1_1_66  | SAE725FACS1_1_90  | SAE725FACS2_2_124 | SAE725FACS2_2_150 | SAE725FACS2_2_174 | SAE725FACS3_3_10  | SAE725FACS3_3_43  | SAE725FACS3_3_74  | SAE725FACS4_4_99  | SAE725FACS4_4_127 | SAE725FACS4_4_161 | SAE725FACS4_4_189 | SAE725FACS6_6_146 | SAE725FACS7_7_12  | SAE725FACS7_7_52  | SAE725FACS7_7_94  | SAE725FACS7_7_169 | SAE725FACS8_8_169 | \n",
       "| SAE725FACS1_1_10  | SAE725FACS1_1_36  | SAE725FACS1_1_67  | SAE725FACS1_1_92  | SAE725FACS2_2_125 | SAE725FACS2_2_151 | SAE725FACS2_2_177 | SAE725FACS3_3_11  | SAE725FACS3_3_44  | SAE725FACS3_3_75  | SAE725FACS4_4_101 | SAE725FACS4_4_130 | SAE725FACS4_4_162 | SAE725FACS4_4_190 | SAE725FACS6_6_147 | SAE725FACS7_7_13  | SAE725FACS7_7_57  | SAE725FACS7_7_97  | SAE725FACS7_7_170 | SAE725FACS8_8_173 | \n",
       "| SAE725FACS1_1_11  | SAE725FACS1_1_38  | SAE725FACS1_1_68  | SAE725FACS1_1_93  | SAE725FACS2_2_126 | SAE725FACS2_2_152 | SAE725FACS2_2_178 | SAE725FACS3_3_12  | SAE725FACS3_3_45  | SAE725FACS3_3_76  | SAE725FACS4_4_102 | SAE725FACS4_4_131 | SAE725FACS4_4_163 | SAE725FACS4_4_191 | SAE725FACS6_6_148 | SAE725FACS7_7_16  | SAE725FACS7_7_59  | SAE725FACS7_7_113 | SAE725FACS7_7_171 | SAE725FACS8_8_177 | \n",
       "| SAE725FACS1_1_13  | SAE725FACS1_1_39  | SAE725FACS1_1_70  | SAE725FACS1_1_94  | SAE725FACS2_2_127 | SAE725FACS2_2_153 | SAE725FACS2_2_179 | SAE725FACS3_3_13  | SAE725FACS3_3_46  | SAE725FACS3_3_77  | SAE725FACS4_4_103 | SAE725FACS4_4_132 | SAE725FACS4_4_164 | SAE725FACS6_6_97  | SAE725FACS6_6_153 | SAE725FACS7_7_17  | SAE725FACS7_7_60  | SAE725FACS7_7_114 | SAE725FACS7_7_177 | SAE725FACS8_8_180 | \n",
       "| SAE725FACS1_1_14  | SAE725FACS1_1_42  | SAE725FACS1_1_71  | SAE725FACS1_1_95  | SAE725FACS2_2_129 | SAE725FACS2_2_154 | SAE725FACS2_2_180 | SAE725FACS3_3_14  | SAE725FACS3_3_47  | SAE725FACS3_3_78  | SAE725FACS4_4_104 | SAE725FACS4_4_133 | SAE725FACS4_4_165 | SAE725FACS6_6_98  | SAE725FACS6_6_161 | SAE725FACS7_7_18  | SAE725FACS7_7_62  | SAE725FACS7_7_115 | SAE725FACS7_7_180 | SAE725FACS1_1_1   | \n",
       "| SAE725FACS1_1_15  | SAE725FACS1_1_44  | SAE725FACS1_1_72  | SAE725FACS1_1_96  | SAE725FACS2_2_130 | SAE725FACS2_2_155 | SAE725FACS2_2_181 | SAE725FACS3_3_17  | SAE725FACS3_3_49  | SAE725FACS3_3_79  | SAE725FACS4_4_106 | SAE725FACS4_4_134 | SAE725FACS4_4_166 | SAE725FACS6_6_105 | SAE725FACS6_6_162 | SAE725FACS7_7_19  | SAE725FACS7_7_65  | SAE725FACS7_7_121 | SAE725FACS7_7_185 | SAE725FACS1_1_2   | \n",
       "| SAE725FACS1_1_16  | SAE725FACS1_1_45  | SAE725FACS1_1_73  | SAE725FACS2_2_97  | SAE725FACS2_2_131 | SAE725FACS2_2_156 | SAE725FACS2_2_182 | SAE725FACS3_3_20  | SAE725FACS3_3_51  | SAE725FACS3_3_81  | SAE725FACS4_4_107 | SAE725FACS4_4_135 | SAE725FACS4_4_167 | SAE725FACS6_6_110 | SAE725FACS6_6_166 | SAE725FACS7_7_25  | SAE725FACS7_7_66  | SAE725FACS7_7_122 | SAE725FACS7_7_186 | SAE725FACS1_1_3   | \n",
       "| SAE725FACS1_1_17  | SAE725FACS1_1_46  | SAE725FACS1_1_74  | SAE725FACS2_2_98  | SAE725FACS2_2_132 | SAE725FACS2_2_157 | SAE725FACS2_2_183 | SAE725FACS3_3_22  | SAE725FACS3_3_52  | SAE725FACS3_3_83  | SAE725FACS4_4_108 | SAE725FACS4_4_136 | SAE725FACS4_4_168 | SAE725FACS6_6_113 | SAE725FACS6_6_169 | SAE725FACS7_7_26  | SAE725FACS7_7_67  | SAE725FACS7_7_124 | SAE725FACS7_7_192 | SAE725FACS1_1_4   | \n",
       "| SAE725FACS1_1_18  | SAE725FACS1_1_47  | SAE725FACS1_1_75  | SAE725FACS2_2_101 | SAE725FACS2_2_133 | SAE725FACS2_2_158 | SAE725FACS2_2_184 | SAE725FACS3_3_23  | SAE725FACS3_3_56  | SAE725FACS3_3_84  | SAE725FACS4_4_109 | SAE725FACS4_4_137 | SAE725FACS4_4_169 | SAE725FACS6_6_114 | SAE725FACS6_6_170 | SAE725FACS7_7_27  | SAE725FACS7_7_73  | SAE725FACS7_7_125 | SAE725FACS8_8_97  | SAE725FACS1_1_5   | \n",
       "| SAE725FACS1_1_19  | SAE725FACS1_1_48  | SAE725FACS1_1_76  | SAE725FACS2_2_102 | SAE725FACS2_2_134 | SAE725FACS2_2_159 | SAE725FACS2_2_185 | SAE725FACS3_3_25  | SAE725FACS3_3_57  | SAE725FACS3_3_85  | SAE725FACS4_4_110 | SAE725FACS4_4_138 | SAE725FACS4_4_170 | SAE725FACS6_6_115 | SAE725FACS6_6_171 | SAE725FACS7_7_28  | SAE725FACS7_7_74  | SAE725FACS7_7_129 | SAE725FACS8_8_98  | SAE725FACS1_1_6   | \n",
       "| SAE725FACS1_1_20  | SAE725FACS1_1_50  | SAE725FACS1_1_77  | SAE725FACS2_2_104 | SAE725FACS2_2_135 | SAE725FACS2_2_160 | SAE725FACS2_2_186 | SAE725FACS3_3_26  | SAE725FACS3_3_58  | SAE725FACS3_3_86  | SAE725FACS4_4_111 | SAE725FACS4_4_141 | SAE725FACS4_4_172 | SAE725FACS6_6_121 | SAE725FACS6_6_175 | SAE725FACS7_7_29  | SAE725FACS7_7_75  | SAE725FACS7_7_130 | SAE725FACS8_8_99  | SAE725FACS1_1_7   | \n",
       "| SAE725FACS1_1_21  | SAE725FACS1_1_52  | SAE725FACS1_1_78  | SAE725FACS2_2_105 | SAE725FACS2_2_136 | SAE725FACS2_2_161 | SAE725FACS2_2_187 | SAE725FACS3_3_27  | SAE725FACS3_3_60  | SAE725FACS3_3_87  | SAE725FACS4_4_113 | SAE725FACS4_4_142 | SAE725FACS4_4_174 | SAE725FACS6_6_122 | SAE725FACS6_6_177 | SAE725FACS7_7_30  | SAE725FACS7_7_76  | SAE725FACS7_7_137 | SAE725FACS8_8_100 | SAE725FACS1_1_8   | \n",
       "| SAE725FACS1_1_22  | SAE725FACS1_1_53  | SAE725FACS1_1_79  | SAE725FACS2_2_106 | SAE725FACS2_2_137 | SAE725FACS2_2_162 | SAE725FACS2_2_188 | SAE725FACS3_3_28  | SAE725FACS3_3_61  | SAE725FACS3_3_88  | SAE725FACS4_4_114 | SAE725FACS4_4_143 | SAE725FACS4_4_178 | SAE725FACS6_6_124 | SAE725FACS6_6_178 | SAE725FACS7_7_31  | SAE725FACS7_7_77  | SAE725FACS7_7_138 | SAE725FACS8_8_105 | SAE725FACS1_1_9   | \n",
       "| SAE725FACS1_1_24  | SAE725FACS1_1_54  | SAE725FACS1_1_81  | SAE725FACS2_2_108 | SAE725FACS2_2_138 | SAE725FACS2_2_163 | SAE725FACS2_2_189 | SAE725FACS3_3_30  | SAE725FACS3_3_62  | SAE725FACS3_3_89  | SAE725FACS4_4_115 | SAE725FACS4_4_145 | SAE725FACS4_4_179 | SAE725FACS6_6_125 | SAE725FACS6_6_180 | SAE725FACS7_7_34  | SAE725FACS7_7_81  | SAE725FACS7_7_141 | SAE725FACS8_8_113 | SAE725FACS1_1_10  | \n",
       "\n",
       "\n"
      ],
      "text/plain": [
       "      [,1]             [,2]             [,3]             [,4]             \n",
       " [1,] SAE725FACS1_1_1  SAE725FACS1_1_25 SAE725FACS1_1_55 SAE725FACS1_1_82 \n",
       " [2,] SAE725FACS1_1_2  SAE725FACS1_1_26 SAE725FACS1_1_56 SAE725FACS1_1_83 \n",
       " [3,] SAE725FACS1_1_3  SAE725FACS1_1_27 SAE725FACS1_1_57 SAE725FACS1_1_84 \n",
       " [4,] SAE725FACS1_1_4  SAE725FACS1_1_28 SAE725FACS1_1_58 SAE725FACS1_1_85 \n",
       " [5,] SAE725FACS1_1_5  SAE725FACS1_1_30 SAE725FACS1_1_59 SAE725FACS1_1_86 \n",
       " [6,] SAE725FACS1_1_6  SAE725FACS1_1_31 SAE725FACS1_1_60 SAE725FACS1_1_87 \n",
       " [7,] SAE725FACS1_1_7  SAE725FACS1_1_33 SAE725FACS1_1_61 SAE725FACS1_1_88 \n",
       " [8,] SAE725FACS1_1_8  SAE725FACS1_1_34 SAE725FACS1_1_62 SAE725FACS1_1_89 \n",
       " [9,] SAE725FACS1_1_9  SAE725FACS1_1_35 SAE725FACS1_1_66 SAE725FACS1_1_90 \n",
       "[10,] SAE725FACS1_1_10 SAE725FACS1_1_36 SAE725FACS1_1_67 SAE725FACS1_1_92 \n",
       "[11,] SAE725FACS1_1_11 SAE725FACS1_1_38 SAE725FACS1_1_68 SAE725FACS1_1_93 \n",
       "[12,] SAE725FACS1_1_13 SAE725FACS1_1_39 SAE725FACS1_1_70 SAE725FACS1_1_94 \n",
       "[13,] SAE725FACS1_1_14 SAE725FACS1_1_42 SAE725FACS1_1_71 SAE725FACS1_1_95 \n",
       "[14,] SAE725FACS1_1_15 SAE725FACS1_1_44 SAE725FACS1_1_72 SAE725FACS1_1_96 \n",
       "[15,] SAE725FACS1_1_16 SAE725FACS1_1_45 SAE725FACS1_1_73 SAE725FACS2_2_97 \n",
       "[16,] SAE725FACS1_1_17 SAE725FACS1_1_46 SAE725FACS1_1_74 SAE725FACS2_2_98 \n",
       "[17,] SAE725FACS1_1_18 SAE725FACS1_1_47 SAE725FACS1_1_75 SAE725FACS2_2_101\n",
       "[18,] SAE725FACS1_1_19 SAE725FACS1_1_48 SAE725FACS1_1_76 SAE725FACS2_2_102\n",
       "[19,] SAE725FACS1_1_20 SAE725FACS1_1_50 SAE725FACS1_1_77 SAE725FACS2_2_104\n",
       "[20,] SAE725FACS1_1_21 SAE725FACS1_1_52 SAE725FACS1_1_78 SAE725FACS2_2_105\n",
       "[21,] SAE725FACS1_1_22 SAE725FACS1_1_53 SAE725FACS1_1_79 SAE725FACS2_2_106\n",
       "[22,] SAE725FACS1_1_24 SAE725FACS1_1_54 SAE725FACS1_1_81 SAE725FACS2_2_108\n",
       "      [,5]              [,6]              [,7]              [,8]             \n",
       " [1,] SAE725FACS2_2_109 SAE725FACS2_2_139 SAE725FACS2_2_164 SAE725FACS2_2_191\n",
       " [2,] SAE725FACS2_2_110 SAE725FACS2_2_140 SAE725FACS2_2_166 SAE725FACS3_3_1  \n",
       " [3,] SAE725FACS2_2_114 SAE725FACS2_2_142 SAE725FACS2_2_167 SAE725FACS3_3_2  \n",
       " [4,] SAE725FACS2_2_116 SAE725FACS2_2_143 SAE725FACS2_2_168 SAE725FACS3_3_3  \n",
       " [5,] SAE725FACS2_2_118 SAE725FACS2_2_144 SAE725FACS2_2_169 SAE725FACS3_3_6  \n",
       " [6,] SAE725FACS2_2_119 SAE725FACS2_2_145 SAE725FACS2_2_170 SAE725FACS3_3_7  \n",
       " [7,] SAE725FACS2_2_121 SAE725FACS2_2_146 SAE725FACS2_2_172 SAE725FACS3_3_8  \n",
       " [8,] SAE725FACS2_2_122 SAE725FACS2_2_148 SAE725FACS2_2_173 SAE725FACS3_3_9  \n",
       " [9,] SAE725FACS2_2_124 SAE725FACS2_2_150 SAE725FACS2_2_174 SAE725FACS3_3_10 \n",
       "[10,] SAE725FACS2_2_125 SAE725FACS2_2_151 SAE725FACS2_2_177 SAE725FACS3_3_11 \n",
       "[11,] SAE725FACS2_2_126 SAE725FACS2_2_152 SAE725FACS2_2_178 SAE725FACS3_3_12 \n",
       "[12,] SAE725FACS2_2_127 SAE725FACS2_2_153 SAE725FACS2_2_179 SAE725FACS3_3_13 \n",
       "[13,] SAE725FACS2_2_129 SAE725FACS2_2_154 SAE725FACS2_2_180 SAE725FACS3_3_14 \n",
       "[14,] SAE725FACS2_2_130 SAE725FACS2_2_155 SAE725FACS2_2_181 SAE725FACS3_3_17 \n",
       "[15,] SAE725FACS2_2_131 SAE725FACS2_2_156 SAE725FACS2_2_182 SAE725FACS3_3_20 \n",
       "[16,] SAE725FACS2_2_132 SAE725FACS2_2_157 SAE725FACS2_2_183 SAE725FACS3_3_22 \n",
       "[17,] SAE725FACS2_2_133 SAE725FACS2_2_158 SAE725FACS2_2_184 SAE725FACS3_3_23 \n",
       "[18,] SAE725FACS2_2_134 SAE725FACS2_2_159 SAE725FACS2_2_185 SAE725FACS3_3_25 \n",
       "[19,] SAE725FACS2_2_135 SAE725FACS2_2_160 SAE725FACS2_2_186 SAE725FACS3_3_26 \n",
       "[20,] SAE725FACS2_2_136 SAE725FACS2_2_161 SAE725FACS2_2_187 SAE725FACS3_3_27 \n",
       "[21,] SAE725FACS2_2_137 SAE725FACS2_2_162 SAE725FACS2_2_188 SAE725FACS3_3_28 \n",
       "[22,] SAE725FACS2_2_138 SAE725FACS2_2_163 SAE725FACS2_2_189 SAE725FACS3_3_30 \n",
       "      [,9]             [,10]            [,11]             [,12]            \n",
       " [1,] SAE725FACS3_3_33 SAE725FACS3_3_63 SAE725FACS3_3_90  SAE725FACS4_4_117\n",
       " [2,] SAE725FACS3_3_34 SAE725FACS3_3_66 SAE725FACS3_3_91  SAE725FACS4_4_118\n",
       " [3,] SAE725FACS3_3_35 SAE725FACS3_3_67 SAE725FACS3_3_92  SAE725FACS4_4_119\n",
       " [4,] SAE725FACS3_3_36 SAE725FACS3_3_68 SAE725FACS3_3_93  SAE725FACS4_4_120\n",
       " [5,] SAE725FACS3_3_37 SAE725FACS3_3_70 SAE725FACS3_3_94  SAE725FACS4_4_121\n",
       " [6,] SAE725FACS3_3_38 SAE725FACS3_3_71 SAE725FACS3_3_95  SAE725FACS4_4_122\n",
       " [7,] SAE725FACS3_3_40 SAE725FACS3_3_72 SAE725FACS4_4_97  SAE725FACS4_4_123\n",
       " [8,] SAE725FACS3_3_41 SAE725FACS3_3_73 SAE725FACS4_4_98  SAE725FACS4_4_124\n",
       " [9,] SAE725FACS3_3_43 SAE725FACS3_3_74 SAE725FACS4_4_99  SAE725FACS4_4_127\n",
       "[10,] SAE725FACS3_3_44 SAE725FACS3_3_75 SAE725FACS4_4_101 SAE725FACS4_4_130\n",
       "[11,] SAE725FACS3_3_45 SAE725FACS3_3_76 SAE725FACS4_4_102 SAE725FACS4_4_131\n",
       "[12,] SAE725FACS3_3_46 SAE725FACS3_3_77 SAE725FACS4_4_103 SAE725FACS4_4_132\n",
       "[13,] SAE725FACS3_3_47 SAE725FACS3_3_78 SAE725FACS4_4_104 SAE725FACS4_4_133\n",
       "[14,] SAE725FACS3_3_49 SAE725FACS3_3_79 SAE725FACS4_4_106 SAE725FACS4_4_134\n",
       "[15,] SAE725FACS3_3_51 SAE725FACS3_3_81 SAE725FACS4_4_107 SAE725FACS4_4_135\n",
       "[16,] SAE725FACS3_3_52 SAE725FACS3_3_83 SAE725FACS4_4_108 SAE725FACS4_4_136\n",
       "[17,] SAE725FACS3_3_56 SAE725FACS3_3_84 SAE725FACS4_4_109 SAE725FACS4_4_137\n",
       "[18,] SAE725FACS3_3_57 SAE725FACS3_3_85 SAE725FACS4_4_110 SAE725FACS4_4_138\n",
       "[19,] SAE725FACS3_3_58 SAE725FACS3_3_86 SAE725FACS4_4_111 SAE725FACS4_4_141\n",
       "[20,] SAE725FACS3_3_60 SAE725FACS3_3_87 SAE725FACS4_4_113 SAE725FACS4_4_142\n",
       "[21,] SAE725FACS3_3_61 SAE725FACS3_3_88 SAE725FACS4_4_114 SAE725FACS4_4_143\n",
       "[22,] SAE725FACS3_3_62 SAE725FACS3_3_89 SAE725FACS4_4_115 SAE725FACS4_4_145\n",
       "      [,13]             [,14]             [,15]             [,16]            \n",
       " [1,] SAE725FACS4_4_146 SAE725FACS4_4_180 SAE725FACS6_6_129 SAE725FACS6_6_185\n",
       " [2,] SAE725FACS4_4_151 SAE725FACS4_4_181 SAE725FACS6_6_130 SAE725FACS6_6_186\n",
       " [3,] SAE725FACS4_4_152 SAE725FACS4_4_182 SAE725FACS6_6_131 SAE725FACS6_6_192\n",
       " [4,] SAE725FACS4_4_154 SAE725FACS4_4_183 SAE725FACS6_6_137 SAE725FACS7_7_1  \n",
       " [5,] SAE725FACS4_4_155 SAE725FACS4_4_185 SAE725FACS6_6_138 SAE725FACS7_7_2  \n",
       " [6,] SAE725FACS4_4_157 SAE725FACS4_4_186 SAE725FACS6_6_141 SAE725FACS7_7_4  \n",
       " [7,] SAE725FACS4_4_158 SAE725FACS4_4_187 SAE725FACS6_6_142 SAE725FACS7_7_9  \n",
       " [8,] SAE725FACS4_4_159 SAE725FACS4_4_188 SAE725FACS6_6_145 SAE725FACS7_7_10 \n",
       " [9,] SAE725FACS4_4_161 SAE725FACS4_4_189 SAE725FACS6_6_146 SAE725FACS7_7_12 \n",
       "[10,] SAE725FACS4_4_162 SAE725FACS4_4_190 SAE725FACS6_6_147 SAE725FACS7_7_13 \n",
       "[11,] SAE725FACS4_4_163 SAE725FACS4_4_191 SAE725FACS6_6_148 SAE725FACS7_7_16 \n",
       "[12,] SAE725FACS4_4_164 SAE725FACS6_6_97  SAE725FACS6_6_153 SAE725FACS7_7_17 \n",
       "[13,] SAE725FACS4_4_165 SAE725FACS6_6_98  SAE725FACS6_6_161 SAE725FACS7_7_18 \n",
       "[14,] SAE725FACS4_4_166 SAE725FACS6_6_105 SAE725FACS6_6_162 SAE725FACS7_7_19 \n",
       "[15,] SAE725FACS4_4_167 SAE725FACS6_6_110 SAE725FACS6_6_166 SAE725FACS7_7_25 \n",
       "[16,] SAE725FACS4_4_168 SAE725FACS6_6_113 SAE725FACS6_6_169 SAE725FACS7_7_26 \n",
       "[17,] SAE725FACS4_4_169 SAE725FACS6_6_114 SAE725FACS6_6_170 SAE725FACS7_7_27 \n",
       "[18,] SAE725FACS4_4_170 SAE725FACS6_6_115 SAE725FACS6_6_171 SAE725FACS7_7_28 \n",
       "[19,] SAE725FACS4_4_172 SAE725FACS6_6_121 SAE725FACS6_6_175 SAE725FACS7_7_29 \n",
       "[20,] SAE725FACS4_4_174 SAE725FACS6_6_122 SAE725FACS6_6_177 SAE725FACS7_7_30 \n",
       "[21,] SAE725FACS4_4_178 SAE725FACS6_6_124 SAE725FACS6_6_178 SAE725FACS7_7_31 \n",
       "[22,] SAE725FACS4_4_179 SAE725FACS6_6_125 SAE725FACS6_6_180 SAE725FACS7_7_34 \n",
       "      [,17]            [,18]             [,19]             [,20]            \n",
       " [1,] SAE725FACS7_7_35 SAE725FACS7_7_82  SAE725FACS7_7_142 SAE725FACS8_8_121\n",
       " [2,] SAE725FACS7_7_41 SAE725FACS7_7_83  SAE725FACS7_7_145 SAE725FACS8_8_125\n",
       " [3,] SAE725FACS7_7_42 SAE725FACS7_7_84  SAE725FACS7_7_146 SAE725FACS8_8_129\n",
       " [4,] SAE725FACS7_7_43 SAE725FACS7_7_89  SAE725FACS7_7_148 SAE725FACS8_8_145\n",
       " [5,] SAE725FACS7_7_44 SAE725FACS7_7_90  SAE725FACS7_7_153 SAE725FACS8_8_148\n",
       " [6,] SAE725FACS7_7_49 SAE725FACS7_7_91  SAE725FACS7_7_161 SAE725FACS8_8_154\n",
       " [7,] SAE725FACS7_7_50 SAE725FACS7_7_92  SAE725FACS7_7_162 SAE725FACS8_8_161\n",
       " [8,] SAE725FACS7_7_51 SAE725FACS7_7_93  SAE725FACS7_7_166 SAE725FACS8_8_164\n",
       " [9,] SAE725FACS7_7_52 SAE725FACS7_7_94  SAE725FACS7_7_169 SAE725FACS8_8_169\n",
       "[10,] SAE725FACS7_7_57 SAE725FACS7_7_97  SAE725FACS7_7_170 SAE725FACS8_8_173\n",
       "[11,] SAE725FACS7_7_59 SAE725FACS7_7_113 SAE725FACS7_7_171 SAE725FACS8_8_177\n",
       "[12,] SAE725FACS7_7_60 SAE725FACS7_7_114 SAE725FACS7_7_177 SAE725FACS8_8_180\n",
       "[13,] SAE725FACS7_7_62 SAE725FACS7_7_115 SAE725FACS7_7_180 SAE725FACS1_1_1  \n",
       "[14,] SAE725FACS7_7_65 SAE725FACS7_7_121 SAE725FACS7_7_185 SAE725FACS1_1_2  \n",
       "[15,] SAE725FACS7_7_66 SAE725FACS7_7_122 SAE725FACS7_7_186 SAE725FACS1_1_3  \n",
       "[16,] SAE725FACS7_7_67 SAE725FACS7_7_124 SAE725FACS7_7_192 SAE725FACS1_1_4  \n",
       "[17,] SAE725FACS7_7_73 SAE725FACS7_7_125 SAE725FACS8_8_97  SAE725FACS1_1_5  \n",
       "[18,] SAE725FACS7_7_74 SAE725FACS7_7_129 SAE725FACS8_8_98  SAE725FACS1_1_6  \n",
       "[19,] SAE725FACS7_7_75 SAE725FACS7_7_130 SAE725FACS8_8_99  SAE725FACS1_1_7  \n",
       "[20,] SAE725FACS7_7_76 SAE725FACS7_7_137 SAE725FACS8_8_100 SAE725FACS1_1_8  \n",
       "[21,] SAE725FACS7_7_77 SAE725FACS7_7_138 SAE725FACS8_8_105 SAE725FACS1_1_9  \n",
       "[22,] SAE725FACS7_7_81 SAE725FACS7_7_141 SAE725FACS8_8_113 SAE725FACS1_1_10 "
      ]
     },
     "metadata": {},
     "output_type": "display_data"
    },
    {
     "name": "stderr",
     "output_type": "stream",
     "text": [
      "Number of cells: 430\n",
      "- matching !'SAE725': 0\n",
      "- matching  'SAE725': 430\n",
      "  - of which 'FACS1': 80\n",
      "  - of which 'FACS2': 75\n",
      "  - of which 'FACS3': 71\n",
      "  - of which 'FACS4': 71\n",
      "  - of which 'FACS5': 0\n",
      "  - of which 'FACS6': 36\n",
      "  - of which 'FACS7': 79\n",
      "  - of which 'FACS8': 18\n"
     ]
    }
   ],
   "source": [
    "# Matrix for neatness\n",
    "snames <- colnames(xsagar)\n",
    "matrix(snames, ncol=20)\n",
    "message(\"Number of cells: \", length(snames))\n",
    "message(\"- matching !'SAE725': \", sum(!grepl(\"SAE725\", snames)))\n",
    "message(\"- matching  'SAE725': \", sum(grepl(\"SAE725\", snames)))\n",
    "message(\"  - of which 'FACS1': \", sum(grepl(\"SAE725FACS1\", snames)))\n",
    "message(\"  - of which 'FACS2': \", sum(grepl(\"SAE725FACS2\", snames)))\n",
    "message(\"  - of which 'FACS3': \", sum(grepl(\"SAE725FACS3\", snames)))\n",
    "message(\"  - of which 'FACS4': \", sum(grepl(\"SAE725FACS4\", snames)))\n",
    "message(\"  - of which 'FACS5': \", sum(grepl(\"SAE725FACS5\", snames)))\n",
    "message(\"  - of which 'FACS6': \", sum(grepl(\"SAE725FACS6\", snames)))\n",
    "message(\"  - of which 'FACS7': \", sum(grepl(\"SAE725FACS7\", snames)))\n",
    "message(\"  - of which 'FACS8': \", sum(grepl(\"SAE725FACS8\", snames)))\n"
   ]
  },
  {
   "cell_type": "markdown",
   "metadata": {},
   "source": [
    "From this we can see that there are 430 cells, all from the E725 source, and that they were spread over 8 different batches with not one batch exceeding 96 wells. Batch 5 failed to detect any transcripts at all in any of its cells, and Batch 6+8 detected poorly too.\n",
    "\n",
    "The maximum potential was 8 * 96 = 768 cells, and we instead have 430. Given the low-seq depth coverage and the tiny amount of RNA needed to be amplified (<10pg), this type of loss is normal.\n",
    "\n",
    "#### How do these correlate to the source FASTQ?\n",
    "\n",
    "The source FASTQ data we were given have the following filenames for the R1:\n",
    "\n",
    "```\n",
    "./Sample_17L003268/SA_E725_FACS_1_R1.fastq.gz\n",
    "./Sample_17L003269/SA_E725_FACS_2_R1.fastq.gz\n",
    "./Sample_17L003270/SA_E725_FACS_3_R1.fastq.gz\n",
    "./Sample_17L003271/SA_E725_FACS_4_R1.fastq.gz\n",
    "./Sample_17L003272/SA_E725_FACS_5_R1.fastq.gz\n",
    "./Sample_17L003273/SA_E725_FACS_6_R1.fastq.gz\n",
    "./Sample_17L003274/SA_E725_FACS_7_R1.fastq.gz\n",
    "./Sample_17L003275/SA_E725_FACS_8_R1.fastq.gz\n",
    "\n",
    "```\n",
    "\n",
    "It seems as though my assumption that barcodes are unique across multiple was wrong. Here was my reasoning:\n",
    "\n",
    " * CelSeq2 Barcodes are 6bp long and each barcode differs in 2bp from each other in order to account for sequencing errors. This means that for 4^6 = there are 4096 unique barcodes, 1024 that differ by 2bp from one another for use in CelSeq2.\n",
    " * 1024 unique barcodes means 1024 unique cells so you can easily use different barcodes over 10 FACS batches and not have to worry about conflicts.\n",
    " \n",
    "I now realise that this is not true. In reality, each FACS 96-well plate uses its own set of barcodes and cell names are **NOT** unique to the barcode, but are unique **ONLY** to the position in the plate and the plate number.\n",
    "\n",
    "# Actions to Take\n",
    "\n",
    " 1. Fix the demultiplex workflow\n",
    "   1. Do not concatenate FASTQ files from different FACS plates. Let me just say that again:   \n",
    "   DO **NOT** CONCATENATE FASTQ FILES FROM **DIFFERENT** FACS PLATES.  \n",
    "   2. Perform demultiplexing on *batch input* where each input is data from a single FACS plate.\n",
    " 2. Fix the quantification workflow\n",
    "  * Do not replace headers with those used by the barcodes, replace headers with FACS-specific names.\n",
    " 3. Create a final merge workflow\n",
    "   * This will perform union over all the different count matrices performed in the different quantification stages, and there should be NO name clashes whatsoever.    \n",
    "   * There should also be some kind of quality metric to show how many cells were detected in each plate.\n",
    " 4. Recreate the Sagar count matrix for E725.\n",
    "   * Replicate clustering results in RaceID"
   ]
  }
 ],
 "metadata": {
  "hide_input": false,
  "kernelspec": {
   "display_name": "R 3.3",
   "language": "R",
   "name": "ir33"
  },
  "language_info": {
   "codemirror_mode": "r",
   "file_extension": ".r",
   "mimetype": "text/x-r-source",
   "name": "R",
   "pygments_lexer": "r",
   "version": "3.4.4"
  },
  "toc": {
   "nav_menu": {
    "height": "411px",
    "width": "272px"
   },
   "number_sections": true,
   "sideBar": true,
   "skip_h1_title": false,
   "title_cell": "Table of Contents",
   "title_sidebar": "Contents",
   "toc_cell": false,
   "toc_position": {},
   "toc_section_display": true,
   "toc_window_display": false
  },
  "varInspector": {
   "cols": {
    "lenName": 16,
    "lenType": 16,
    "lenVar": 40
   },
   "kernels_config": {
    "python": {
     "delete_cmd_postfix": "",
     "delete_cmd_prefix": "del ",
     "library": "var_list.py",
     "varRefreshCmd": "print(var_dic_list())"
    },
    "r": {
     "delete_cmd_postfix": ") ",
     "delete_cmd_prefix": "rm(",
     "library": "var_list.r",
     "varRefreshCmd": "cat(var_dic_list()) "
    }
   },
   "types_to_exclude": [
    "module",
    "function",
    "builtin_function_or_method",
    "instance",
    "_Feature"
   ],
   "window_display": false
  }
 },
 "nbformat": 4,
 "nbformat_minor": 2
}
