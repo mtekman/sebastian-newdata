{
 "cells": [
  {
   "cell_type": "code",
   "execution_count": 60,
   "metadata": {
    "scrolled": true
   },
   "outputs": [
    {
     "name": "stderr",
     "output_type": "stream",
     "text": [
      "Regenerating matrix from source file matrix.rds...\n",
      "Warning message in is.na(feature_info_full$feature_symbol):\n",
      "“is.na() applied to non-(list or vector) of type 'NULL'”49671 genes x 192 cells. (192) unique barcodes.\n"
     ]
    }
   ],
   "source": [
    "generate_matrix = T\n",
    "source(\"load_matrix.R\")\n",
    "\n",
    "# We have the sce object, scater, and singlecellexperiment, fully annotated\n",
    "library(SingleCellExperiment)"
   ]
  },
  {
   "cell_type": "code",
   "execution_count": 62,
   "metadata": {
    "scrolled": false
   },
   "outputs": [
    {
     "data": {
      "text/html": [
       "<table>\n",
       "<thead><tr><th></th><th scope=col>GGTAGA</th><th scope=col>ATCGTG</th><th scope=col>ATGGAC</th><th scope=col>AGTAGG</th><th scope=col>CCATCA</th><th scope=col>AGTACC</th><th scope=col>CCAGTA</th><th scope=col>CGTTAC</th><th scope=col>GAGGTA</th><th scope=col>TTGGCA</th><th scope=col>⋯</th><th scope=col>CGTCTA</th><th scope=col>CCATAG</th><th scope=col>TTCCAG</th><th scope=col>GGACAA</th><th scope=col>ACTTCG</th><th scope=col>TTGTGC</th><th scope=col>GGTATG</th><th scope=col>CTGCTA</th><th scope=col>ATGAGG</th><th scope=col>ACGTTG</th></tr></thead>\n",
       "<tbody>\n",
       "\t<tr><th scope=row>ENSMUSG00000000001</th><td> 8 </td><td> 7 </td><td> 3 </td><td> 3 </td><td>1  </td><td> 1 </td><td> 0 </td><td>16 </td><td>  4</td><td> 9 </td><td>⋯  </td><td> 2 </td><td> 1 </td><td> 4 </td><td> 3 </td><td> 4 </td><td> 4 </td><td> 0 </td><td> 2 </td><td> 10</td><td> 2 </td></tr>\n",
       "\t<tr><th scope=row>ENSMUSG00000000003</th><td> 0 </td><td> 0 </td><td> 0 </td><td> 0 </td><td>0  </td><td> 0 </td><td> 0 </td><td> 0 </td><td>  0</td><td> 0 </td><td>⋯  </td><td> 0 </td><td> 0 </td><td> 0 </td><td> 0 </td><td> 0 </td><td> 0 </td><td> 0 </td><td> 0 </td><td>  0</td><td> 0 </td></tr>\n",
       "\t<tr><th scope=row>ENSMUSG00000000028</th><td> 0 </td><td> 0 </td><td> 1 </td><td> 1 </td><td>0  </td><td> 8 </td><td> 3 </td><td> 1 </td><td>  2</td><td> 1 </td><td>⋯  </td><td> 2 </td><td> 0 </td><td> 2 </td><td> 2 </td><td> 5 </td><td> 1 </td><td> 1 </td><td> 0 </td><td>  3</td><td> 2 </td></tr>\n",
       "\t<tr><th scope=row>ENSMUSG00000000031</th><td>61 </td><td>94 </td><td>47 </td><td>66 </td><td>5  </td><td>37 </td><td>38 </td><td>60 </td><td>101</td><td>78 </td><td>⋯  </td><td>50 </td><td>45 </td><td>74 </td><td>51 </td><td>77 </td><td>84 </td><td>40 </td><td>48 </td><td>110</td><td>26 </td></tr>\n",
       "\t<tr><th scope=row>ENSMUSG00000000037</th><td> 0 </td><td> 0 </td><td> 0 </td><td> 0 </td><td>0  </td><td> 0 </td><td> 0 </td><td> 0 </td><td>  0</td><td> 0 </td><td>⋯  </td><td> 0 </td><td> 2 </td><td> 0 </td><td> 0 </td><td> 0 </td><td> 0 </td><td> 0 </td><td> 0 </td><td>  0</td><td> 0 </td></tr>\n",
       "\t<tr><th scope=row>ENSMUSG00000000049</th><td> 0 </td><td> 0 </td><td> 0 </td><td> 0 </td><td>0  </td><td> 0 </td><td> 0 </td><td> 0 </td><td>  0</td><td> 0 </td><td>⋯  </td><td> 0 </td><td> 0 </td><td> 0 </td><td> 0 </td><td> 0 </td><td> 0 </td><td> 0 </td><td> 0 </td><td>  0</td><td> 0 </td></tr>\n",
       "</tbody>\n",
       "</table>\n"
      ],
      "text/latex": [
       "\\begin{tabular}{r|llllllllllllllllllllllllllllllllllllllllllllllllllllllllllllllllllllllllllllllllllllllllllllllllllllllllllllllllllllllllllllllllllllllllllllllllllllllllllllllllllllllllllllllllllllllllllllllll}\n",
       "  & GGTAGA & ATCGTG & ATGGAC & AGTAGG & CCATCA & AGTACC & CCAGTA & CGTTAC & GAGGTA & TTGGCA & ⋯ & CGTCTA & CCATAG & TTCCAG & GGACAA & ACTTCG & TTGTGC & GGTATG & CTGCTA & ATGAGG & ACGTTG\\\\\n",
       "\\hline\n",
       "\tENSMUSG00000000001 &  8  &  7  &  3  &  3  & 1   &  1  &  0  & 16  &   4 &  9  & ⋯   &  2  &  1  &  4  &  3  &  4  &  4  &  0  &  2  &  10 &  2 \\\\\n",
       "\tENSMUSG00000000003 &  0  &  0  &  0  &  0  & 0   &  0  &  0  &  0  &   0 &  0  & ⋯   &  0  &  0  &  0  &  0  &  0  &  0  &  0  &  0  &   0 &  0 \\\\\n",
       "\tENSMUSG00000000028 &  0  &  0  &  1  &  1  & 0   &  8  &  3  &  1  &   2 &  1  & ⋯   &  2  &  0  &  2  &  2  &  5  &  1  &  1  &  0  &   3 &  2 \\\\\n",
       "\tENSMUSG00000000031 & 61  & 94  & 47  & 66  & 5   & 37  & 38  & 60  & 101 & 78  & ⋯   & 50  & 45  & 74  & 51  & 77  & 84  & 40  & 48  & 110 & 26 \\\\\n",
       "\tENSMUSG00000000037 &  0  &  0  &  0  &  0  & 0   &  0  &  0  &  0  &   0 &  0  & ⋯   &  0  &  2  &  0  &  0  &  0  &  0  &  0  &  0  &   0 &  0 \\\\\n",
       "\tENSMUSG00000000049 &  0  &  0  &  0  &  0  & 0   &  0  &  0  &  0  &   0 &  0  & ⋯   &  0  &  0  &  0  &  0  &  0  &  0  &  0  &  0  &   0 &  0 \\\\\n",
       "\\end{tabular}\n"
      ],
      "text/markdown": [
       "\n",
       "| <!--/--> | GGTAGA | ATCGTG | ATGGAC | AGTAGG | CCATCA | AGTACC | CCAGTA | CGTTAC | GAGGTA | TTGGCA | ⋯ | CGTCTA | CCATAG | TTCCAG | GGACAA | ACTTCG | TTGTGC | GGTATG | CTGCTA | ATGAGG | ACGTTG | \n",
       "|---|---|---|---|---|---|\n",
       "| ENSMUSG00000000001 |  8  |  7  |  3  |  3  | 1   |  1  |  0  | 16  |   4 |  9  | ⋯   |  2  |  1  |  4  |  3  |  4  |  4  |  0  |  2  |  10 |  2  | \n",
       "| ENSMUSG00000000003 |  0  |  0  |  0  |  0  | 0   |  0  |  0  |  0  |   0 |  0  | ⋯   |  0  |  0  |  0  |  0  |  0  |  0  |  0  |  0  |   0 |  0  | \n",
       "| ENSMUSG00000000028 |  0  |  0  |  1  |  1  | 0   |  8  |  3  |  1  |   2 |  1  | ⋯   |  2  |  0  |  2  |  2  |  5  |  1  |  1  |  0  |   3 |  2  | \n",
       "| ENSMUSG00000000031 | 61  | 94  | 47  | 66  | 5   | 37  | 38  | 60  | 101 | 78  | ⋯   | 50  | 45  | 74  | 51  | 77  | 84  | 40  | 48  | 110 | 26  | \n",
       "| ENSMUSG00000000037 |  0  |  0  |  0  |  0  | 0   |  0  |  0  |  0  |   0 |  0  | ⋯   |  0  |  2  |  0  |  0  |  0  |  0  |  0  |  0  |   0 |  0  | \n",
       "| ENSMUSG00000000049 |  0  |  0  |  0  |  0  | 0   |  0  |  0  |  0  |   0 |  0  | ⋯   |  0  |  0  |  0  |  0  |  0  |  0  |  0  |  0  |   0 |  0  | \n",
       "\n",
       "\n"
      ],
      "text/plain": [
       "                   GGTAGA ATCGTG ATGGAC AGTAGG CCATCA AGTACC CCAGTA CGTTAC\n",
       "ENSMUSG00000000001  8      7      3      3     1       1      0     16    \n",
       "ENSMUSG00000000003  0      0      0      0     0       0      0      0    \n",
       "ENSMUSG00000000028  0      0      1      1     0       8      3      1    \n",
       "ENSMUSG00000000031 61     94     47     66     5      37     38     60    \n",
       "ENSMUSG00000000037  0      0      0      0     0       0      0      0    \n",
       "ENSMUSG00000000049  0      0      0      0     0       0      0      0    \n",
       "                   GAGGTA TTGGCA ⋯ CGTCTA CCATAG TTCCAG GGACAA ACTTCG TTGTGC\n",
       "ENSMUSG00000000001   4     9     ⋯  2      1      4      3      4      4    \n",
       "ENSMUSG00000000003   0     0     ⋯  0      0      0      0      0      0    \n",
       "ENSMUSG00000000028   2     1     ⋯  2      0      2      2      5      1    \n",
       "ENSMUSG00000000031 101    78     ⋯ 50     45     74     51     77     84    \n",
       "ENSMUSG00000000037   0     0     ⋯  0      2      0      0      0      0    \n",
       "ENSMUSG00000000049   0     0     ⋯  0      0      0      0      0      0    \n",
       "                   GGTATG CTGCTA ATGAGG ACGTTG\n",
       "ENSMUSG00000000001  0      2      10     2    \n",
       "ENSMUSG00000000003  0      0       0     0    \n",
       "ENSMUSG00000000028  1      0       3     2    \n",
       "ENSMUSG00000000031 40     48     110    26    \n",
       "ENSMUSG00000000037  0      0       0     0    \n",
       "ENSMUSG00000000049  0      0       0     0    "
      ]
     },
     "metadata": {},
     "output_type": "display_data"
    }
   ],
   "source": [
    "head(counts(sce))"
   ]
  },
  {
   "cell_type": "markdown",
   "metadata": {},
   "source": [
    "# 1. Filter cells"
   ]
  },
  {
   "cell_type": "code",
   "execution_count": 115,
   "metadata": {
    "scrolled": false
   },
   "outputs": [
    {
     "name": "stderr",
     "output_type": "stream",
     "text": [
      "Max seq depth before drop in cell numbers: 4140\n"
     ]
    },
    {
     "data": {
      "image/png": "[encoded data removed]",
      "text/plain": [
       "Plot with title “Histogram of sce$total_counts”"
      ]
     },
     "metadata": {},
     "output_type": "display_data"
    }
   ],
   "source": [
    "sce <- calculateQCMetrics(sce)\n",
    "hist(sce$total_counts, breaks = 100)\n",
    "ab_gruen = 3000\n",
    "abline(v = ab_gruen, col = \"blue\")\n",
    "\n",
    "num_cells_above_depth <- function(object, depth){\n",
    "    return(dim(object[,colSums(counts(object)) > depth])[[2]])\n",
    "}\n",
    "\n",
    "determine_maxseqdepth_beforeloss <- function(obj)\n",
    "{\n",
    "    # At bare minimum we want over 0 total trans.\n",
    "    original_num <- num_cells_above_depth(obj, 0)     \n",
    "    \n",
    "    running_depth = 0\n",
    "    iterate_step = 5000\n",
    "       \n",
    "    while (iterate_step > 100){\n",
    "        current_count  = num_cells_above_depth(obj, running_depth)\n",
    "        \n",
    "        #message(current_count, \"     \", running_depth, \"     \", iterate_step)\n",
    "              \n",
    "        # Reduction, we need to step back 1/2\n",
    "        if (original_num > current_count){\n",
    "            running_depth = running_depth - iterate_step\n",
    "            iterate_step = as.integer(iterate_step / 2)\n",
    "        }\n",
    "        \n",
    "        running_depth = running_depth + iterate_step       \n",
    "    }\n",
    "    return(running_depth)\n",
    "}\n",
    "\n",
    "cutoff <- determine_maxseqdepth_beforeloss(sce)\n",
    "abline(v = cutoff, col = 'red')\n",
    "\n",
    "message(\"Max seq depth before drop in cell numbers: \", cutoff)\n",
    "\n",
    "\n",
    "#hist(sce$total_features, breaks = 100)\n",
    "#abline(v = 3500, col = \"red\")\n",
    "#cells_filtered_hem <- \n",
    "#cells_filtered_hem"
   ]
  },
  {
   "cell_type": "markdown",
   "metadata": {},
   "source": [
    "Here we will clear any cells with total transcripts less than 4140 (red) despite Grün removing only 3000 (blue) from his sets. 4140 is automatically derived from the max seq depth before the number of cells drop below the original amount (192)"
   ]
  },
  {
   "cell_type": "code",
   "execution_count": null,
   "metadata": {},
   "outputs": [],
   "source": [
    "# Fill this with gene filtering\n",
    "\n",
    "# Okay, tonight - try to run this under raceID2 with default settings and raceID3 with default settings and see\n",
    "# if you can recapitulate the results with this data set\n",
    "#\n",
    "# Todo:\n",
    "#   - RaceID2 filtering\n",
    "#   - RaceID3 filtering\n",
    "#   - Scater filtering settings for RaceID2\n",
    "#   - Scater filtering settings for RaceID3\n",
    "#     -- Make sure the overlap of cell NAMES and gene NAMES are the same\n",
    "#       not just the numbers\n",
    "\n",
    " - Grun does median based normalisation before filtering for cells\n",
    " - He adds a pseudocount of 0.1\n",
    " - and then filters out genes that don't have a 5 transcripts across all\n",
    " - Highlty expressed genes with more than 500 (!) transcripts after normalisation are discarded."
   ]
  },
  {
   "cell_type": "markdown",
   "metadata": {},
   "source": []
  },
  {
   "cell_type": "code",
   "execution_count": null,
   "metadata": {
    "scrolled": false
   },
   "outputs": [],
   "source": []
  },
  {
   "cell_type": "markdown",
   "metadata": {},
   "source": [
    "   The variation in our reads is pretty evenly distributed. Also the number of cells does not change if we filter for a sequencing depth higher than 4000. "
   ]
  },
  {
   "cell_type": "code",
   "execution_count": null,
   "metadata": {},
   "outputs": [],
   "source": []
  }
 ],
 "metadata": {
  "kernelspec": {
   "display_name": "R",
   "language": "R",
   "name": "ir"
  },
  "language_info": {
   "codemirror_mode": "r",
   "file_extension": ".r",
   "mimetype": "text/x-r-source",
   "name": "R",
   "pygments_lexer": "r",
   "version": "3.4.4"
  }
 },
 "nbformat": 4,
 "nbformat_minor": 2
}
