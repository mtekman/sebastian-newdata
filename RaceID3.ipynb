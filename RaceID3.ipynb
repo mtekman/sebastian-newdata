{
 "cells": [
  {
   "cell_type": "code",
   "execution_count": 1,
   "metadata": {
    "scrolled": true
   },
   "outputs": [
    {
     "name": "stderr",
     "output_type": "stream",
     "text": [
      "Loading required package: tsne\n",
      "Loading required package: pheatmap\n",
      "Loading required package: MASS\n",
      "Loading required package: cluster\n",
      "Loading required package: mclust\n",
      "Package 'mclust' version 5.4\n",
      "Type 'citation(\"mclust\")' for citing this R package in publications.\n",
      "Loading required package: flexmix\n",
      "Loading required package: lattice\n",
      "Loading required package: fpc\n",
      "Loading required package: amap\n",
      "Loading required package: RColorBrewer\n",
      "Loading required package: locfit\n",
      "locfit 1.5-9.1 \t 2013-03-22\n",
      "Loading required package: vegan\n",
      "Loading required package: permute\n",
      "This is vegan 2.4-6\n",
      "Loading required package: Rtsne\n",
      "Loading required package: scran\n",
      "Loading required package: BiocParallel\n",
      "Loading required package: SingleCellExperiment\n",
      "Loading required package: SummarizedExperiment\n",
      "Loading required package: GenomicRanges\n",
      "Loading required package: stats4\n",
      "Loading required package: BiocGenerics\n",
      "Loading required package: parallel\n",
      "\n",
      "Attaching package: ‘BiocGenerics’\n",
      "\n",
      "The following objects are masked from ‘package:parallel’:\n",
      "\n",
      "    clusterApply, clusterApplyLB, clusterCall, clusterEvalQ,\n",
      "    clusterExport, clusterMap, parApply, parCapply, parLapply,\n",
      "    parLapplyLB, parRapply, parSapply, parSapplyLB\n",
      "\n",
      "The following object is masked from ‘package:flexmix’:\n",
      "\n",
      "    unique\n",
      "\n",
      "The following objects are masked from ‘package:stats’:\n",
      "\n",
      "    IQR, mad, sd, var, xtabs\n",
      "\n",
      "The following objects are masked from ‘package:base’:\n",
      "\n",
      "    anyDuplicated, append, as.data.frame, cbind, colMeans, colnames,\n",
      "    colSums, do.call, duplicated, eval, evalq, Filter, Find, get, grep,\n",
      "    grepl, intersect, is.unsorted, lapply, lengths, Map, mapply, match,\n",
      "    mget, order, paste, pmax, pmax.int, pmin, pmin.int, Position, rank,\n",
      "    rbind, Reduce, rowMeans, rownames, rowSums, sapply, setdiff, sort,\n",
      "    table, tapply, union, unique, unsplit, which, which.max, which.min\n",
      "\n",
      "Loading required package: S4Vectors\n",
      "\n",
      "Attaching package: ‘S4Vectors’\n",
      "\n",
      "The following object is masked from ‘package:base’:\n",
      "\n",
      "    expand.grid\n",
      "\n",
      "Loading required package: IRanges\n",
      "Loading required package: GenomeInfoDb\n",
      "Loading required package: Biobase\n",
      "Welcome to Bioconductor\n",
      "\n",
      "    Vignettes contain introductory material; view with\n",
      "    'browseVignettes()'. To cite Bioconductor, see\n",
      "    'citation(\"Biobase\")', and for packages 'citation(\"pkgname\")'.\n",
      "\n",
      "Loading required package: DelayedArray\n",
      "Loading required package: matrixStats\n",
      "\n",
      "Attaching package: ‘matrixStats’\n",
      "\n",
      "The following objects are masked from ‘package:Biobase’:\n",
      "\n",
      "    anyMissing, rowMedians\n",
      "\n",
      "\n",
      "Attaching package: ‘DelayedArray’\n",
      "\n",
      "The following objects are masked from ‘package:matrixStats’:\n",
      "\n",
      "    colMaxs, colMins, colRanges, rowMaxs, rowMins, rowRanges\n",
      "\n",
      "The following object is masked from ‘package:base’:\n",
      "\n",
      "    apply\n",
      "\n",
      "Loading required package: DESeq2\n",
      "Loading required package: randomForest\n",
      "randomForest 4.6-12\n",
      "Type rfNews() to see new features/changes/bug fixes.\n",
      "\n",
      "Attaching package: ‘randomForest’\n",
      "\n",
      "The following object is masked from ‘package:Biobase’:\n",
      "\n",
      "    combine\n",
      "\n",
      "The following object is masked from ‘package:BiocGenerics’:\n",
      "\n",
      "    combine\n",
      "\n"
     ]
    }
   ],
   "source": [
    "source(\"source/RaceID3_StemID2_class.R\")"
   ]
  },
  {
   "cell_type": "code",
   "execution_count": 8,
   "metadata": {},
   "outputs": [],
   "source": [
    "x <- read.csv(\"source/E725.matrix.Seb_NewData_E725.3.quantif\",sep=\"\\t\",header=TRUE, row.name=1)"
   ]
  },
  {
   "cell_type": "code",
   "execution_count": 21,
   "metadata": {},
   "outputs": [
    {
     "data": {
      "text/html": [
       "<ol class=list-inline>\n",
       "\t<li>49671</li>\n",
       "\t<li>192</li>\n",
       "</ol>\n"
      ],
      "text/latex": [
       "\\begin{enumerate*}\n",
       "\\item 49671\n",
       "\\item 192\n",
       "\\end{enumerate*}\n"
      ],
      "text/markdown": [
       "1. 49671\n",
       "2. 192\n",
       "\n",
       "\n"
      ],
      "text/plain": [
       "[1] 49671   192"
      ]
     },
     "metadata": {},
     "output_type": "display_data"
    },
    {
     "data": {
      "text/html": [
       "<ol class=list-inline>\n",
       "\t<li>49671</li>\n",
       "\t<li>192</li>\n",
       "</ol>\n"
      ],
      "text/latex": [
       "\\begin{enumerate*}\n",
       "\\item 49671\n",
       "\\item 192\n",
       "\\end{enumerate*}\n"
      ],
      "text/markdown": [
       "1. 49671\n",
       "2. 192\n",
       "\n",
       "\n"
      ],
      "text/plain": [
       "[1] 49671   192"
      ]
     },
     "metadata": {},
     "output_type": "display_data"
    }
   ],
   "source": [
    "prdata <- x[grep(\"ERCC\",rownames(x),invert=TRUE),]\n",
    "dim(x)\n",
    "dim(prdata)\n",
    "\n",
    "sc <- SCseq(prdata)"
   ]
  },
  {
   "cell_type": "markdown",
   "metadata": {},
   "source": [
    "# Normalisation\n",
    "\n",
    "There is no real way to see whether a normalisation is \"good\" or \"bad\" without performing the subsequent analysis and clustering stages and seeing how noisy the clustering performs.\n",
    "\n",
    "For this reason, we will iterate over the various possible normalisation strategies in RaceID3 and perform analyses in parallel.\n",
    "\n",
    "### RaceID3 Normalisation strategies:\n",
    "\n",
    " 1. **Minimum rescaling** - Divide all elements in a cell column by the total number of transcripts in that column, repeat for each column, and then multiply all elements in the entire matrix by the cell column with the minimum number of transcripts.\n",
    " \n",
    " 2. **Downsampling** - All cell columns are downsampled to match the cell with the minimum number of transcripts. This is repeated `dsn` times and then averaged. If `dsn` is = 1, then sampling noise is comparable across cells, otherwise the data resembles Minimum rescaling for higher values. It is recommended to only use downsampling if batch effects due to different library complexities are observed in the data.\n",
    " \n",
    " 3. **(Experimental) Size-factor** - This is a method that pools transcript data from genes across all cells in order to remove the issue of dealing with zero-inflated data. The following steps are performed:\n",
    "   a. Pools of similarly sized cells are defined:\n",
    "      i. Cells are split into groups of odd and even total transcript numbers (as a form of random splitting?) and then placed in a line adjacent to each other so that cells with similar number of transcripts are next to each to other. (This is to reduce transcript abundance bias within a pool).\n",
    "      ii. This line is then looped to form a ring. Starting from the 12:00 position of the ring, a sliding window approach is undertaken, where a group of adjacent cells form a 'pool' of N cells, each cell belonging to N other pools as the window passes over them in clockwise fashion.\n",
    "   b. Expression values are summed across all cells in a pool\n",
    "   c. Cells in a given pool are normalised to an average pseudo-cell generated from the average expression profiles of these cells.\n",
    "   d. Each cell is part of N pools, assuming that each pool has N cells, and so each cell can be described by a linear system of N average pseudo-cells.\n",
    "  \n",
    " 4. **(Experimental) Housekeeping Normalisation** - Recaling is applied to a group of housekeeping genes that are essentially any genes known to minimize variability across all cells. Only genes with at least 1 transcript in 50% of all cells are considered. A background variance-mean dependence model is fitted, and any genes that are within 25%-90% expression profile are extracted, and only those underneath a minimum baseline of variability (i.e. below the regression line).\n",
    " \n",
    "### Filtering parameters\n",
    "\n",
    " - `mintotal` - Total transcript for a cell must exceed this value to not be discarded\n",
    " - `minexpr` - Minimum expression a gene must have across `minnumber` of cells to be flagged for detection\n",
    " - `maxexpr` - Max expression a gene must have \"...\" detection.\n",
    "     \n",
    "  \n",
    "### Questions:\n",
    "\n",
    " - Why is the sampling noise more comparable across all cells for lower dsn values?\n",
    " - CelSeq2 data are read off 192 plates. Do separate plates constitute different batches, or is there more to it than just the plates? (e.g. is it is possible to 1/2 a plate on one day, and 1/2 a plate on another day?)\n",
    " "
   ]
  },
  {
   "cell_type": "code",
   "execution_count": 35,
   "metadata": {},
   "outputs": [
    {
     "name": "stderr",
     "output_type": "stream",
     "text": [
      "Warning message in seq_len(ncol(assay)):\n",
      "“first element used of 'length.out' argument”"
     ]
    },
    {
     "ename": "ERROR",
     "evalue": "Error in seq_len(ncol(assay)): argument must be coercible to non-negative integer\n",
     "output_type": "error",
     "traceback": [
      "Error in seq_len(ncol(assay)): argument must be coercible to non-negative integer\nTraceback:\n",
      "1. SingleCellExperiment(assays = list(counts = x))",
      "2. SummarizedExperiment(...)",
      "3. SummarizedExperiment(...)",
      "4. SummarizedExperiment(do.call(SimpleList, assays), ...)",
      "5. SummarizedExperiment(do.call(SimpleList, assays), ...)",
      "6. .local(assays, ...)",
      "7. DataFrame(x = seq_len(ncol(assay)), row.names = nms)"
     ]
    }
   ],
   "source": [
    "# A quick profile of our data via SCATER\n",
    "library(SingleCellExperiment)\n",
    "\n",
    "sce <- SingleCellExperiment(assays= list(counts = x))\n",
    "\n"
   ]
  },
  {
   "cell_type": "markdown",
   "metadata": {},
   "source": [
    "Let us determine how many genes are lost by varying:\n",
    " 1. minexpr ( 1, 2, 5, 10 )\n",
    " 2. maxexpr ( 100, 500, 1000 )\n",
    " 3."
   ]
  },
  {
   "cell_type": "markdown",
   "metadata": {},
   "source": [
    "Hello Wendy, Amy and Kerstin,\n",
    "\n",
    "\n",
    "**It** has been some time since I asked if there were job vacancies at your language school. I started working as **a** German teacher in January and the sudden workload kept me from applying **to** other language schools. However, I'm still very much interested in working at your language school since I like working with creative teaching strategies and not being bound **to** a book.  I studied English and **History** to become a teacher and did a DaF course at the TTI in Freiburg last **October**. I'm currently working at Euer Sprachzentrum, teaching **classes 20hrs/week** and enjoy everything about the job. Attached to this **e-mail** you can find my CV.\n",
    "\n",
    "In case you are interested I would be happy to introduce myself in person or send any additional information you might need!\n",
    "\n",
    "Best wishes,\n",
    "\n",
    "Katharina"
   ]
  },
  {
   "cell_type": "markdown",
   "metadata": {},
   "source": [
    "Hello Wendy, Amy and Kerstin,\n",
    "\n",
    "It has been some time since I last asked if there were job vacancies at your language school. I had began working as a German teacher in January, but the sudden demanding workload kept me from applying to other language schools. However, I'm still very much interested in working at your school since I enjoy engaging in creative teaching strategies that would not require me to be bound so rigidly to a book. \n",
    "\n",
    "I have studied English and History to become a teacher and recently undertook a DaF course at the TTI in Freiburg last October. Currently, I am working at the Euer Sprachzentrum where I teach classes 20hrs/week and enjoying every aspect of it.\n",
    "\n",
    "If I have roused your interest, I would be more than happy to further introduce myself in person or to send along any additional information that you might need! Attached below is my CV.\n",
    "\n",
    "Best,\n",
    "\n",
    "Katharina\n",
    "\n",
    "(some notes: \n",
    " - it's not good to start two consecutive sentences with 'I'\n",
    " )"
   ]
  },
  {
   "cell_type": "code",
   "execution_count": 25,
   "metadata": {},
   "outputs": [],
   "source": [
    "\n",
    "res <- filterdata(sc, mintotal=3000, minexpr=1, maxexpr=500, \n",
    "           downsample = F, sfn = F, hkn = F,\n",
    "           dsn = 1, rseed = 17000, CGenes = NULL, FGenes = NULL\n",
    ")\n",
    "\n"
   ]
  },
  {
   "cell_type": "code",
   "execution_count": 26,
   "metadata": {},
   "outputs": [
    {
     "data": {
      "text/html": [
       "<ol class=list-inline>\n",
       "\t<li>10352</li>\n",
       "\t<li>192</li>\n",
       "</ol>\n"
      ],
      "text/latex": [
       "\\begin{enumerate*}\n",
       "\\item 10352\n",
       "\\item 192\n",
       "\\end{enumerate*}\n"
      ],
      "text/markdown": [
       "1. 10352\n",
       "2. 192\n",
       "\n",
       "\n"
      ],
      "text/plain": [
       "[1] 10352   192"
      ]
     },
     "metadata": {},
     "output_type": "display_data"
    }
   ],
   "source": [
    "dim(res@fdata)"
   ]
  },
  {
   "cell_type": "code",
   "execution_count": 20,
   "metadata": {},
   "outputs": [
    {
     "ename": "ERROR",
     "evalue": "Error in filterdata(sc, mintotal = 3000, minexpr = 5, minnumber = 1, maxexpr = Inf, : object 'sc' not found\n",
     "output_type": "error",
     "traceback": [
      "Error in filterdata(sc, mintotal = 3000, minexpr = 5, minnumber = 1, maxexpr = Inf, : object 'sc' not found\nTraceback:\n",
      "1. filterdata(sc, mintotal = 3000, minexpr = 5, minnumber = 1, maxexpr = Inf, \n .     downsample = FALSE, sfn = FALSE, hkn = FALSE, dsn = 1, rseed = 17000, \n .     CGenes = NULL, FGenes = NULL, ccor = 0.4)"
     ]
    }
   ],
   "source": [
    "test_minexpr <- function(obj, min_total, min_nummer, min_expr, max_expr){\n",
    "    return(\n",
    "        filterdata(\n",
    "            obj, mintotal= min_total, \n",
    "            minexpr= min_expr, minnumber= min_nummer, maxexpr=max_expr, \n",
    "            downsample=FALSE, sfn=FALSE, hkn=FALSE, \n",
    "            dsn=1, rseed=17000, CGenes=NULL, FGenes=NULL, ccor=.4\n",
    "        )\n",
    "    )\n",
    "}\n",
    "\n",
    "## min_expr = 5, minnumber = 1, maxexpr = 500\n",
    "test_downsample_defaults <- function(obj, dsn_val){\n",
    "    return(\n",
    "        filterdata(\n",
    "            obj, downsample=T, sfn=FALSE, hkn=FALSE, \n",
    "            dsn= dsn_val, rseed=17000, CGenes=NULL, FGenes=NULL, ccor=.4\n",
    "        )\n",
    "    )\n",
    "}\n",
    "\n",
    "\n",
    "# Vary min number of cells\n",
    "# minexpr 3000, 1, 5, 500\n",
    "# minexpr 3000, 2, 5, 500\n",
    "# minexpr 3000, 5, 5, 500\n",
    "\n",
    "# Var min expression\n",
    "# minexpr 3000, 1, 1, 500\n",
    "# minexpr 3000, 1, 2, 500\n",
    "# minexpr 3000, 1, 5, 500\n",
    "\n",
    "\n",
    "\n",
    "# minexpr 4000, 1, 5, 500\n",
    "\n",
    "\n",
    "\n",
    "test_hkn <- function(obj) filterdata(\n",
    "\n",
    ")\n",
    "\n",
    "\n",
    "\n",
    "sc_minrescale <- filterdata(\n",
    "    sc, mintotal=3000, \n",
    "    minexpr=5, minnumber=1, maxexpr=500, \n",
    "    downsample=FALSE, sfn=FALSE, hkn=FALSE, \n",
    "    dsn=1, rseed=17000, CGenes=NULL, FGenes=NULL, ccor=.4\n",
    ")\n",
    "\n",
    "sc_downsample <- filterdata(\n",
    "    sc, mintotal=3000, \n",
    "    minexpr=5, minnumber=1, maxexpr=500, \n",
    "    downsample=T, sfn=FALSE, hkn=FALSE, \n",
    "    dsn=1, rseed=17000, CGenes=NULL, FGenes=NULL, ccor=.4\n",
    ")\n",
    "\n",
    "sc_sfn <- filterdata(\n",
    "    sc, mintotal=3000, \n",
    "    minexpr=5, minnumber=1, maxexpr=500, \n",
    "    downsample=FALSE, sfn=T, hkn=FALSE, \n",
    "    dsn=1, rseed=17000, CGenes=NULL, FGenes=NULL, ccor=.4\n",
    ")\n",
    "\n",
    "sc_hkn <- filterdata(\n",
    "    sc, mintotal=3000,\n",
    "    minexpr=5, minnumber=1, maxexpr=500,\n",
    "    downsample=FALSE, sfn=FALSE, hkn=T,\n",
    "    dsn=1, rseed=17000, CGenes=NULL, FGenes=NULL, ccor=.4\n",
    ")\n",
    "\n",
    "sc_sfn_hkn <- filterdata(\n",
    "    sc, mintotal=3000,\n",
    "    minexpr=5, minnumber=1, maxexpr=500,\n",
    "    downsample=FALSE, sfn=T, hkn=T,\n",
    "    dsn=1, rseed=17000, CGenes=NULL, FGenes=NULL, ccor=.4\n",
    ")\n"
   ]
  }
 ],
 "metadata": {
  "kernelspec": {
   "display_name": "R",
   "language": "R",
   "name": "ir"
  },
  "language_info": {
   "codemirror_mode": "r",
   "file_extension": ".r",
   "mimetype": "text/x-r-source",
   "name": "R",
   "pygments_lexer": "r",
   "version": "3.4.4"
  }
 },
 "nbformat": 4,
 "nbformat_minor": 2
}
