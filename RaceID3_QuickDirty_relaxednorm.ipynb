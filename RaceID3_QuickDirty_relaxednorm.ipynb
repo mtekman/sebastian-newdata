{
 "cells": [
  {
   "cell_type": "markdown",
   "metadata": {},
   "source": [
    "# E65 analysis with relaxed Norm params\n",
    "\n",
    "Here we will repeat the previous analysis but only progressing past the normalisation when we can see our marker genes of interest."
   ]
  },
  {
   "cell_type": "code",
   "execution_count": 3,
   "metadata": {
    "scrolled": true
   },
   "outputs": [],
   "source": [
    "# Load scripts and source data\n",
    "suppressPackageStartupMessages(\n",
    "    source(\"source/RaceID3_StemID2_class.R\")\n",
    ") \n",
    "\n",
    "x <- read.csv(\"source/E725.matrix.Seb_NewData_E725.3.quantif\",sep=\"\\t\",header=TRUE, row.name=1)\n",
    "prdata <- x[grep(\"ERCC\",rownames(x),invert=TRUE),]"
   ]
  },
  {
   "cell_type": "code",
   "execution_count": 4,
   "metadata": {
    "scrolled": true
   },
   "outputs": [
    {
     "data": {
      "text/html": [
       "<ol class=list-inline>\n",
       "\t<li>49671</li>\n",
       "\t<li>192</li>\n",
       "</ol>\n"
      ],
      "text/latex": [
       "\\begin{enumerate*}\n",
       "\\item 49671\n",
       "\\item 192\n",
       "\\end{enumerate*}\n"
      ],
      "text/markdown": [
       "1. 49671\n",
       "2. 192\n",
       "\n",
       "\n"
      ],
      "text/plain": [
       "[1] 49671   192"
      ]
     },
     "metadata": {},
     "output_type": "display_data"
    },
    {
     "data": {
      "text/html": [
       "<ol class=list-inline>\n",
       "\t<li>49671</li>\n",
       "\t<li>192</li>\n",
       "</ol>\n"
      ],
      "text/latex": [
       "\\begin{enumerate*}\n",
       "\\item 49671\n",
       "\\item 192\n",
       "\\end{enumerate*}\n"
      ],
      "text/markdown": [
       "1. 49671\n",
       "2. 192\n",
       "\n",
       "\n"
      ],
      "text/plain": [
       "[1] 49671   192"
      ]
     },
     "metadata": {},
     "output_type": "display_data"
    }
   ],
   "source": [
    "# Check that our raw data and filtered out ERCC data match dimensions\n",
    "dim(x)\n",
    "dim(prdata)\n"
   ]
  },
  {
   "cell_type": "code",
   "execution_count": 5,
   "metadata": {
    "scrolled": true
   },
   "outputs": [
    {
     "name": "stderr",
     "output_type": "stream",
     "text": [
      "49671 genes and 192 cells.\n"
     ]
    }
   ],
   "source": [
    "sc <- SCseq(prdata)\n",
    "message(dim(sc@fdata)[[1]], \" genes and \", dim(sc@fdata)[[2]], \" cells.\")"
   ]
  },
  {
   "cell_type": "markdown",
   "metadata": {},
   "source": [
    "# Obtain a full Biomart\n",
    "\n",
    "Let's get a biomart of ALL genes in our data, instead of just the filtered ones, and then we will test it against our genes of interest to see if they still persist after filtering."
   ]
  },
  {
   "cell_type": "code",
   "execution_count": 7,
   "metadata": {},
   "outputs": [
    {
     "name": "stderr",
     "output_type": "stream",
     "text": [
      "Loading required package: biomaRt\n"
     ]
    }
   ],
   "source": [
    "require(biomaRt)\n",
    "# Annotate the data before adding SC experiment\n",
    "\n",
    "mart <- useMart(biomart = \"ENSEMBL_MART_ENSEMBL\", dataset = \"mmusculus_gene_ensembl\")"
   ]
  },
  {
   "cell_type": "code",
   "execution_count": null,
   "metadata": {},
   "outputs": [],
   "source": [
    "k <- getBM(\n",
    "    filters = \"ensembl_gene_id\",\n",
    "    attributes = c(\n",
    "            \"ensembl_gene_id\",              # Gene stable ID\n",
    "            \"external_gene_name\",           # Casual name\n",
    "#            \"external_transcript_name\",     # Transcript-specific name\n",
    "#            \"gene_biotype\",                 # Gene biotype\n",
    "#            \"transcript_biotype\",           # Trans type\n",
    "#            \"description\",                  # Gene description\n",
    "#            \"band\",                         # Karyotype band\n",
    "#            \"refseq_mrna\",\n",
    "            \"go_id\",                        # Go Term accession (cellular domains)\n",
    "#            \"go_linkage_type\",              # Go Term evidence code\n",
    "            \"name_1006\"                    # Go Term name\n",
    "#            \"definition_1006\",              # Go Term definition\n",
    "#            \"namespace_1003\"                # Go domain                  \n",
    "    ),\n",
    "    values = rownames(sc@fdata),\n",
    "    mart = mart\n",
    ")"
   ]
  },
  {
   "cell_type": "code",
   "execution_count": null,
   "metadata": {},
   "outputs": [],
   "source": [
    "dim(k)\n",
    "head(k)"
   ]
  },
  {
   "cell_type": "code",
   "execution_count": null,
   "metadata": {},
   "outputs": [],
   "source": [
    "# Our main marker genes of interest\n",
    "# Note that \"Brachyury\" is not a gene name but is related to 'T' and 'T2' genes\n",
    "mesoderm <- c(\"Eomes\", \"Mesp1\" ,\"T\", \"T2\")\n",
    "pluripotent <-c(\"Pou5f1\", \"Nanog\")\n",
    "neuroectoderm <-c(\"Sox1\", \"Sox2\", \"Pou3f1\", \"Zfp462\", \"Slc7a3\")\n",
    "\n",
    "# Find their ensembl ids and replace the names in sc@ndata\n",
    "findID <- function(name){\n",
    "    res <- (unique(k[k$external_gene_name == name,]$ensembl_gene_id))\n",
    "    if (length(res) == 0){\n",
    "        message(\"Missing: [\",name, \"] in Ensembl biomart\")\n",
    "    }\n",
    "    return(res)\n",
    "}\n",
    "\n",
    "findID_array <- function(array){\n",
    "    ids <- c()\n",
    "    for (elem in array){\n",
    "        e_id <- findID(elem)\n",
    "        ids <- append(ids, e_id)\n",
    "    }\n",
    "    return(ids)\n",
    "}\n",
    "\n",
    "ids_exist_in_data <- function(obj, array){\n",
    "    missing_genes = c()\n",
    "    for (elem in array){\n",
    "        res <- grep(elem, rownames(obj@fdata))\n",
    "        if (length(res) == 0){\n",
    "            missing_genes <- append(missing_genes, elem)\n",
    "        }\n",
    "    }\n",
    "    if (length(missing_genes) > 0){\n",
    "        message(\"Missing \", \n",
    "                length(missing_genes),\"/\", length(array),\n",
    "                \" [\", paste(missing_genes, collapse=\", \"), \n",
    "                \"] in filtered data\")\n",
    "    }\n",
    "}\n",
    "\n",
    "mesod_ids <- findID_array(mesoderm)\n",
    "pluri_ids <- findID_array(pluripotent)\n",
    "neuro_ids <- findID_array(neuroectoderm)"
   ]
  },
  {
   "cell_type": "markdown",
   "metadata": {},
   "source": [
    "No warning messages means that we have indeed found the ensemble IDs for our genes of interest in the biomart. Let us see if this still persists after filtering."
   ]
  },
  {
   "cell_type": "code",
   "execution_count": null,
   "metadata": {},
   "outputs": [],
   "source": [
    "# Defaults\n",
    "sc1 <- filterdata(\n",
    "    sc, mintotal=3000, minexpr=5, maxexpr=500, \n",
    "    downsample = F, sfn = F, hkn = F,\n",
    "    dsn = 1, rseed = 17000, CGenes = NULL, FGenes = NULL\n",
    ")\n",
    "message(dim(sc@fdata)[[1]], \" genes and \", dim(sc@fdata)[[2]], \" cells.\")\n",
    "\n",
    "ids_exist_in_data(sc1, mesod_ids)\n",
    "ids_exist_in_data(sc1, pluri_ids)\n",
    "ids_exist_in_data(sc1, neuro_ids)"
   ]
  },
  {
   "cell_type": "code",
   "execution_count": null,
   "metadata": {},
   "outputs": [],
   "source": [
    "# Defaults, reduced minexpr 5→1\n",
    "sc2 <- filterdata(\n",
    "    sc, mintotal=3000, minexpr=1, maxexpr=500, \n",
    "    downsample = F, sfn = F, hkn = F,\n",
    "    dsn = 1, rseed = 17000, CGenes = NULL, FGenes = NULL\n",
    ")\n",
    "message(dim(sc@fdata)[[1]], \" genes and \", dim(sc@fdata)[[2]], \" cells.\")\n",
    "\n",
    "ids_exist_in_data(sc2, mesod_ids)\n",
    "ids_exist_in_data(sc2, pluri_ids)\n",
    "ids_exist_in_data(sc2, neuro_ids)"
   ]
  },
  {
   "cell_type": "code",
   "execution_count": null,
   "metadata": {},
   "outputs": [],
   "source": [
    "# Defaults, reduced minexpr 5→1, increase maxexpr 500→Inf\n",
    "sc3 <- filterdata(\n",
    "    sc, mintotal=4000, minexpr=1, maxexpr=Inf, \n",
    "    downsample = F, sfn = F, hkn = F,\n",
    "    dsn = 1, rseed = 17000, CGenes = NULL, FGenes = NULL\n",
    ")\n",
    "message(dim(sc@fdata)[[1]], \" genes and \", dim(sc@fdata)[[2]], \" cells.\")\n",
    "\n",
    "ids_exist_in_data(sc3, mesod_ids)\n",
    "ids_exist_in_data(sc3, pluri_ids)\n",
    "ids_exist_in_data(sc3, neuro_ids)"
   ]
  },
  {
   "cell_type": "code",
   "execution_count": null,
   "metadata": {},
   "outputs": [],
   "source": []
  },
  {
   "cell_type": "code",
   "execution_count": null,
   "metadata": {},
   "outputs": [],
   "source": [
    "x <- CCcorrect(\n",
    "    sc@fdata,\n",
    "    vset=vset,\n",
    "    CGenes=NULL, nComp=NULL,\n",
    "    ccor=.4, pvalue=.05, quant=.01,\n",
    "    mode=\"pca\")"
   ]
  },
  {
   "cell_type": "code",
   "execution_count": null,
   "metadata": {},
   "outputs": [],
   "source": [
    "x$n\n",
    "# Inspect the loadings assosciated with each PC\n",
    "#y <- x$pca$rotation[,x$n[1]]\n",
    "#tail(y[order(y,decreating=T)],10)"
   ]
  },
  {
   "cell_type": "markdown",
   "metadata": {},
   "source": [
    "`NULL` - The function runs properly as evidences by `x$pca` and `x$xcor`, but `x$n` yields nothing because there were likely no genes in our data known to have a significant effect towards Cell Proliferation or to the Cell Cycle effect.\n",
    "\n",
    "We can still apply what little correction computed agains this affect onto our set. If we look below we can see what effect this would have (answer: none):"
   ]
  },
  {
   "cell_type": "code",
   "execution_count": null,
   "metadata": {},
   "outputs": [],
   "source": [
    "message(\"Before correction\")\n",
    "head(sc@fdata)\n",
    "message(\"After correction\")\n",
    "head(x$xcor)\n",
    "message(\"No visible change...\")"
   ]
  },
  {
   "cell_type": "markdown",
   "metadata": {},
   "source": [
    "# K-mediods clustering\n",
    "\n",
    "We will now perform the initial clustering with default settings."
   ]
  },
  {
   "cell_type": "code",
   "execution_count": null,
   "metadata": {
    "scrolled": true
   },
   "outputs": [],
   "source": [
    "sc <- clustexp(\n",
    "    sc, clustnr=30, bootnr=50, metric=\"pearson\",\n",
    "    do.gap=T, sat=TRUE, SE.method=\"Tibs2001SEmax\",\n",
    "    SE.factor=.25, B.gap=50,\n",
    "    cln=0,rseed=17000, FUNcluster=\"kmedoids\",FSelect=TRUE\n",
    ")"
   ]
  },
  {
   "cell_type": "markdown",
   "metadata": {},
   "source": [
    "Let us examine just how effective the clustering was and whether the clusters are stable."
   ]
  },
  {
   "cell_type": "code",
   "execution_count": null,
   "metadata": {
    "scrolled": true
   },
   "outputs": [],
   "source": [
    "plotsaturation(sc, disp=T)"
   ]
  },
  {
   "cell_type": "markdown",
   "metadata": {},
   "source": [
    "As we can see, there is a significant drop between k=1 and k=2, and then the addition of more clusters only leads to a linear decrease in the cluster-dispersion.\n",
    "\n",
    "Circled is the cluster number that is inferred based upon the saturation of the average within-cluster dispersion.\n",
    "\n",
    "Let us confirm this with this with the:\n",
    "  1. Gap statistic, which once again shows a significant dispersion (outside of the error bars) between k=1 and k=2.\n",
    "  2. Silhoutte plot, which defines the resolution of the clustering where each point is assigned a score based on the average similarity it has to each point in that cluster, and another score where it computes the same in comparison to all points in the closest neighbouring cluster. The difference in these scores takes on a value between -1 (bad) and 1 (good). Below we see only positive values in each cluster, representing good clustering.\n",
    "  3. Jaccard similarty, which is the intersection over the union of two sets (or in this case, two neighbouring clusters). Stable clusters should have a similarity greater than 0.6. Below we see scores well above 0.8."
   ]
  },
  {
   "cell_type": "code",
   "execution_count": null,
   "metadata": {
    "scrolled": true
   },
   "outputs": [],
   "source": [
    "plotgap(sc)\n",
    "# silhouette of k-medoids clusters\n",
    "plotsilhouette(sc)\n",
    "# Jaccard's similarity of k-medoids clusters\n",
    "plotjaccard(sc)"
   ]
  },
  {
   "cell_type": "markdown",
   "metadata": {},
   "source": [
    "## Outlier cell identification\n",
    "\n",
    "The distribution of counts in each gene is modelled as a negative binomial distribution, with the mean as the average gene expression across all cells in a cluster, and the dispersion is a second order log polynomial that describes the variability of a gene being expressed differently between different clusters (where the majority of biologically insignificant genes should have low variability).\n",
    "\n",
    "Outlier cells are then identified based on their deviation from this model, where any cells with genes with a variability above this model are flagged.  \n",
    "\n"
   ]
  },
  {
   "cell_type": "code",
   "execution_count": null,
   "metadata": {},
   "outputs": [],
   "source": [
    "sc <- findoutliers(sc, outminc=5, outlg=2, probthr=1e-3, \n",
    "                   thr=2**-(1:40), outdistquant=0.95)"
   ]
  },
  {
   "cell_type": "code",
   "execution_count": null,
   "metadata": {
    "scrolled": true
   },
   "outputs": [],
   "source": [
    "plotbackground(sc)"
   ]
  },
  {
   "cell_type": "markdown",
   "metadata": {},
   "source": [
    "We can see here that the regression of the variance of the mean (red) fits the local regression (orange dashed), which likely indicates a lack of outlier types in our data."
   ]
  },
  {
   "cell_type": "code",
   "execution_count": null,
   "metadata": {
    "scrolled": true
   },
   "outputs": [],
   "source": [
    "plotsensitivity(sc)\n",
    "plotoutlierprobs(sc)"
   ]
  },
  {
   "cell_type": "markdown",
   "metadata": {},
   "source": [
    "Here we can define our outlier probability cutoff as -log10(3), and plot this limit against the observed outlier probabilites observed for each cell in each cluster."
   ]
  },
  {
   "cell_type": "markdown",
   "metadata": {},
   "source": [
    "## Clustering: heatmap and tSNE\n",
    "\n",
    "We can further examine the cell-to-cell distances with a clustering heatmap for both initial clustering and that derived from outlier detection"
   ]
  },
  {
   "cell_type": "code",
   "execution_count": null,
   "metadata": {
    "scrolled": true
   },
   "outputs": [],
   "source": [
    "x <- clustheatmap(sc, final=F, hmethod=\"single\")\n",
    "x <- clustheatmap(sc, final=T, hmethod=\"single\")\n",
    "\n",
    "sc <- comptsne(\n",
    "    sc, rseed=15555, sammonmap=FALSE,\n",
    "    initial_cmd=TRUE,fast=TRUE,perplexity=30\n",
    ")\n",
    "\n",
    "plottsne(sc, final = F)\n",
    "plottsne(sc, final = T)"
   ]
  },
  {
   "cell_type": "markdown",
   "metadata": {},
   "source": [
    "Outlier cells are identified in each of the two main clusters but we can see that there does not seem to be any significant outlier clusters due to how spread out they appear."
   ]
  },
  {
   "cell_type": "markdown",
   "metadata": {},
   "source": [
    "## Applying Random forest correction to cell outliers\n",
    "\n",
    "Cells are reclassified into clusters, using RF method to test for robustness of the original clustering. We can see with a heatmap that the final clustering has reduced some of original \n"
   ]
  },
  {
   "cell_type": "code",
   "execution_count": null,
   "metadata": {},
   "outputs": [],
   "source": [
    "sc <- rfcorrect(sc, rfseed=12345, final=T, nbfactor=5)"
   ]
  },
  {
   "cell_type": "code",
   "execution_count": null,
   "metadata": {
    "scrolled": true
   },
   "outputs": [],
   "source": [
    "x <- clustheatmap(sc, final=T, hmethod=\"single\")\n",
    "plottsne(sc, final = T)"
   ]
  },
  {
   "cell_type": "markdown",
   "metadata": {},
   "source": [
    "## Repeating the random  forest correction to see if there is improvement in clustering.\n",
    "\n",
    "We will try again, this time with a different seed and a significantly increased number of trees (500) to see if there is better outlier clustering.\n"
   ]
  },
  {
   "cell_type": "code",
   "execution_count": null,
   "metadata": {},
   "outputs": [],
   "source": [
    "sc <- rfcorrect(sc, rfseed=12345, final=T, nbfactor=500)"
   ]
  },
  {
   "cell_type": "code",
   "execution_count": null,
   "metadata": {
    "scrolled": true
   },
   "outputs": [],
   "source": [
    "x <- clustheatmap(sc, final=T, hmethod=\"single\")\n",
    "plottsne(sc, final = T)"
   ]
  },
  {
   "cell_type": "markdown",
   "metadata": {},
   "source": [
    "Once again cells assigned to a given outlier cluster seem to be quite displaced from one another, although there does seem to be a consistency in the outlier cells being on the fringes of the two main clusters."
   ]
  },
  {
   "cell_type": "markdown",
   "metadata": {},
   "source": [
    "### Marker Gene analysis\n",
    "\n",
    "Let us examine our marker genes of interest to see if there is any pattern of expression that is consistent with the observed clustering."
   ]
  },
  {
   "cell_type": "code",
   "execution_count": null,
   "metadata": {},
   "outputs": [],
   "source": [
    "\n",
    "#grep(\"Brachyury\", (unique(k$external_gene_name)))\n",
    "#tail(k)\n",
    "#grep(\"ENSMUSG00000032446\", rownames(sc@fdata))\n",
    "#grep(\"ENSMUSG00000110344\", rownames(sc@expdata))\n",
    "head(k)"
   ]
  },
  {
   "cell_type": "code",
   "execution_count": null,
   "metadata": {},
   "outputs": [],
   "source": [
    "# Our main marker genes of interest\n",
    "mesoderm <- c(\"Eomes\", \"Brachyury\", \"Mesp1\")\n",
    "pluripotent <-c(\"Pou5f1\", \"nanog\")\n",
    "neuroectoderm <-c(\"Sox1\", \"Sox2\", \"Pou3f1\", \"zfp462\", \"slc7a3\")\n",
    "\n",
    "# Find their ensembl ids and replace the names in sc@ndata\n",
    "findID <- function(name){\n",
    "    res <- (unique(k[k$external_gene_name == name,]$ensembl_gene_id))\n",
    "    if (length(res) == 0){\n",
    "        message(\"Missing: [\",name, \"]: most likely was filtered out\")\n",
    "    }\n",
    "    return(res)\n",
    "}\n",
    "\n",
    "findID_array <- function(array){\n",
    "    ids <- c()\n",
    "    for (elem in array){\n",
    "        e_id <- findID(elem)\n",
    "        ids <- append(ids, e_id)\n",
    "    }\n",
    "    return(ids)\n",
    "}\n",
    "\n",
    "\n",
    "findID_array(mesoderm)\n",
    "findID_array(pluripotent)\n",
    "findID_array(neuroectoderm)\n"
   ]
  },
  {
   "cell_type": "markdown",
   "metadata": {},
   "source": [
    "It appears that our genes of interest were most likely filtered out during the normalisation/filtering process, so either these genes are not biologically significant, OR our filtering was too stringent.\n",
    "\n",
    "We will repeat the analysis using relaxed filtering criterion."
   ]
  },
  {
   "cell_type": "code",
   "execution_count": null,
   "metadata": {},
   "outputs": [],
   "source": [
    "#plotexptsne(sc,mesoderm,n=\"Mesoderm genes\",logsc=TRUE)\n",
    "#plotexptsne(sc,pluripotent,n=\"Pluripotency genes\",logsc=TRUE)\n",
    "#plotexptsne(sc,neuroectoderm,n=\"Neuro-ectoderm genes\",logsc=TRUE)"
   ]
  }
 ],
 "metadata": {
  "hide_input": false,
  "kernelspec": {
   "display_name": "R 3.3",
   "language": "R",
   "name": "ir33"
  },
  "language_info": {
   "codemirror_mode": "r",
   "file_extension": ".r",
   "mimetype": "text/x-r-source",
   "name": "R",
   "pygments_lexer": "r",
   "version": "3.4.4"
  },
  "toc": {
   "nav_menu": {},
   "number_sections": true,
   "sideBar": true,
   "skip_h1_title": false,
   "title_cell": "Table of Contents",
   "title_sidebar": "Contents",
   "toc_cell": false,
   "toc_position": {},
   "toc_section_display": true,
   "toc_window_display": false
  }
 },
 "nbformat": 4,
 "nbformat_minor": 2
}
