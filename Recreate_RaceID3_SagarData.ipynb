{
 "cells": [
  {
   "cell_type": "markdown",
   "metadata": {},
   "source": [
    "# Recreating Sagar analysis using Sagar Data\n",
    "\n",
    "Currently taking too long to generate his source matrix manually, so I will here attempt to recreate his clustering using his own data and see what is what.\n",
    "\n",
    "By looking at `sc@filterpar` we can see that dsn and sfn were not used, which were only introduced in RaceID3, so we know that Sagar generated the following tsne plot using RaceID3\n",
    "\n",
    " ![img](source/sagar_tsne_plot.png)\n",
    " \n",
    " "
   ]
  },
  {
   "cell_type": "code",
   "execution_count": 1,
   "metadata": {
    "ExecuteTime": {
     "end_time": "2018-04-08T16:43:36.698747Z",
     "start_time": "2018-04-08T16:42:54.644Z"
    }
   },
   "outputs": [
    {
     "data": {
      "text/html": [
       "<ol class=list-inline>\n",
       "\t<li>865</li>\n",
       "\t<li>304</li>\n",
       "</ol>\n"
      ],
      "text/latex": [
       "\\begin{enumerate*}\n",
       "\\item 865\n",
       "\\item 304\n",
       "\\end{enumerate*}\n"
      ],
      "text/markdown": [
       "1. 865\n",
       "2. 304\n",
       "\n",
       "\n"
      ],
      "text/plain": [
       "[1] 865 304"
      ]
     },
     "metadata": {},
     "output_type": "display_data"
    }
   ],
   "source": [
    "prdata <- readRDS(\"source//prdata.sagar\")\n",
    "control_sc <- readRDS(\"source//sc.sagar\")\n",
    "dim(control_sc@fdata)"
   ]
  },
  {
   "cell_type": "code",
   "execution_count": 2,
   "metadata": {
    "ExecuteTime": {
     "end_time": "2018-04-08T16:43:47.076330Z",
     "start_time": "2018-04-08T16:42:54.651Z"
    },
    "scrolled": true
   },
   "outputs": [
    {
     "name": "stderr",
     "output_type": "stream",
     "text": [
      "Loading required package: tsne\n",
      "Loading required package: pheatmap\n",
      "Loading required package: MASS\n",
      "Loading required package: cluster\n",
      "Loading required package: mclust\n",
      "Package 'mclust' version 5.4\n",
      "Type 'citation(\"mclust\")' for citing this R package in publications.\n",
      "Loading required package: flexmix\n",
      "Loading required package: lattice\n",
      "Loading required package: fpc\n",
      "Loading required package: amap\n",
      "Loading required package: RColorBrewer\n",
      "Loading required package: locfit\n",
      "locfit 1.5-9.1 \t 2013-03-22\n",
      "Loading required package: vegan\n",
      "Loading required package: permute\n",
      "This is vegan 2.4-6\n",
      "Loading required package: Rtsne\n",
      "Loading required package: scran\n",
      "Loading required package: BiocParallel\n",
      "Loading required package: SingleCellExperiment\n",
      "Loading required package: SummarizedExperiment\n",
      "Loading required package: GenomicRanges\n",
      "Loading required package: stats4\n",
      "Loading required package: BiocGenerics\n",
      "Loading required package: parallel\n",
      "\n",
      "Attaching package: ‘BiocGenerics’\n",
      "\n",
      "The following objects are masked from ‘package:parallel’:\n",
      "\n",
      "    clusterApply, clusterApplyLB, clusterCall, clusterEvalQ,\n",
      "    clusterExport, clusterMap, parApply, parCapply, parLapply,\n",
      "    parLapplyLB, parRapply, parSapply, parSapplyLB\n",
      "\n",
      "The following object is masked from ‘package:flexmix’:\n",
      "\n",
      "    unique\n",
      "\n",
      "The following objects are masked from ‘package:stats’:\n",
      "\n",
      "    IQR, mad, sd, var, xtabs\n",
      "\n",
      "The following objects are masked from ‘package:base’:\n",
      "\n",
      "    anyDuplicated, append, as.data.frame, cbind, colMeans, colnames,\n",
      "    colSums, do.call, duplicated, eval, evalq, Filter, Find, get, grep,\n",
      "    grepl, intersect, is.unsorted, lapply, lengths, Map, mapply, match,\n",
      "    mget, order, paste, pmax, pmax.int, pmin, pmin.int, Position, rank,\n",
      "    rbind, Reduce, rowMeans, rownames, rowSums, sapply, setdiff, sort,\n",
      "    table, tapply, union, unique, unsplit, which, which.max, which.min\n",
      "\n",
      "Loading required package: S4Vectors\n",
      "\n",
      "Attaching package: ‘S4Vectors’\n",
      "\n",
      "The following object is masked from ‘package:base’:\n",
      "\n",
      "    expand.grid\n",
      "\n",
      "Loading required package: IRanges\n",
      "Loading required package: GenomeInfoDb\n",
      "Loading required package: Biobase\n",
      "Welcome to Bioconductor\n",
      "\n",
      "    Vignettes contain introductory material; view with\n",
      "    'browseVignettes()'. To cite Bioconductor, see\n",
      "    'citation(\"Biobase\")', and for packages 'citation(\"pkgname\")'.\n",
      "\n",
      "Loading required package: DelayedArray\n",
      "Loading required package: matrixStats\n",
      "\n",
      "Attaching package: ‘matrixStats’\n",
      "\n",
      "The following objects are masked from ‘package:Biobase’:\n",
      "\n",
      "    anyMissing, rowMedians\n",
      "\n",
      "\n",
      "Attaching package: ‘DelayedArray’\n",
      "\n",
      "The following objects are masked from ‘package:matrixStats’:\n",
      "\n",
      "    colMaxs, colMins, colRanges, rowMaxs, rowMins, rowRanges\n",
      "\n",
      "The following object is masked from ‘package:base’:\n",
      "\n",
      "    apply\n",
      "\n",
      "Loading required package: DESeq2\n",
      "Loading required package: randomForest\n",
      "randomForest 4.6-12\n",
      "Type rfNews() to see new features/changes/bug fixes.\n",
      "\n",
      "Attaching package: ‘randomForest’\n",
      "\n",
      "The following object is masked from ‘package:Biobase’:\n",
      "\n",
      "    combine\n",
      "\n",
      "The following object is masked from ‘package:BiocGenerics’:\n",
      "\n",
      "    combine\n",
      "\n"
     ]
    }
   ],
   "source": [
    "source(\"source/RaceID3_StemID2_class.R\")"
   ]
  },
  {
   "cell_type": "code",
   "execution_count": 3,
   "metadata": {
    "ExecuteTime": {
     "end_time": "2018-04-08T16:43:47.383106Z",
     "start_time": "2018-04-08T16:42:54.683Z"
    }
   },
   "outputs": [
    {
     "data": {
      "text/html": [
       "<table>\n",
       "<thead><tr><th></th><th scope=col>SAE725FACS1_1_1</th><th scope=col>SAE725FACS1_1_2</th><th scope=col>SAE725FACS1_1_3</th><th scope=col>SAE725FACS1_1_4</th><th scope=col>SAE725FACS1_1_5</th><th scope=col>SAE725FACS1_1_6</th><th scope=col>SAE725FACS1_1_7</th><th scope=col>SAE725FACS1_1_8</th><th scope=col>SAE725FACS1_1_9</th><th scope=col>SAE725FACS1_1_10</th><th scope=col>⋯</th><th scope=col>SAE725FACS8_8_129</th><th scope=col>SAE725FACS8_8_145</th><th scope=col>SAE725FACS8_8_148</th><th scope=col>SAE725FACS8_8_154</th><th scope=col>SAE725FACS8_8_161</th><th scope=col>SAE725FACS8_8_164</th><th scope=col>SAE725FACS8_8_169</th><th scope=col>SAE725FACS8_8_173</th><th scope=col>SAE725FACS8_8_177</th><th scope=col>SAE725FACS8_8_180</th></tr></thead>\n",
       "<tbody>\n",
       "\t<tr><th scope=row>0610007P14Rik</th><td>0.000000</td><td>0.000000</td><td>1.000122</td><td>4.001954</td><td>0.000000</td><td>1.000122</td><td>0       </td><td>0       </td><td>0       </td><td>1.000122</td><td>⋯       </td><td>2.000488</td><td>2.000488</td><td>0.000000</td><td>0       </td><td>3.001099</td><td>0       </td><td>0.000000</td><td>1.000122</td><td>0       </td><td>1.000122</td></tr>\n",
       "\t<tr><th scope=row>0610009B22Rik</th><td>0.000000</td><td>3.001099</td><td>4.001954</td><td>3.001099</td><td>1.000122</td><td>4.001954</td><td>0       </td><td>0       </td><td>0       </td><td>1.000122</td><td>⋯       </td><td>4.001954</td><td>1.000122</td><td>2.000488</td><td>0       </td><td>2.000488</td><td>0       </td><td>1.000122</td><td>0.000000</td><td>0       </td><td>1.000122</td></tr>\n",
       "\t<tr><th scope=row>0610009E02Rik</th><td>0.000000</td><td>0.000000</td><td>0.000000</td><td>0.000000</td><td>0.000000</td><td>0.000000</td><td>0       </td><td>0       </td><td>0       </td><td>0.000000</td><td>⋯       </td><td>0.000000</td><td>0.000000</td><td>0.000000</td><td>0       </td><td>0.000000</td><td>0       </td><td>0.000000</td><td>0.000000</td><td>0       </td><td>0.000000</td></tr>\n",
       "\t<tr><th scope=row>0610009L18Rik</th><td>0.000000</td><td>0.000000</td><td>0.000000</td><td>0.000000</td><td>0.000000</td><td>0.000000</td><td>0       </td><td>0       </td><td>0       </td><td>0.000000</td><td>⋯       </td><td>0.000000</td><td>0.000000</td><td>0.000000</td><td>0       </td><td>0.000000</td><td>0       </td><td>0.000000</td><td>0.000000</td><td>0       </td><td>0.000000</td></tr>\n",
       "\t<tr><th scope=row>0610009O20Rik</th><td>0.000000</td><td>1.000122</td><td>0.000000</td><td>0.000000</td><td>0.000000</td><td>1.000122</td><td>0       </td><td>0       </td><td>0       </td><td>0.000000</td><td>⋯       </td><td>0.000000</td><td>0.000000</td><td>0.000000</td><td>0       </td><td>2.000488</td><td>0       </td><td>0.000000</td><td>0.000000</td><td>0       </td><td>1.000122</td></tr>\n",
       "\t<tr><th scope=row>0610010F05Rik</th><td>1.000122</td><td>0.000000</td><td>0.000000</td><td>1.000122</td><td>0.000000</td><td>0.000000</td><td>0       </td><td>0       </td><td>0       </td><td>0.000000</td><td>⋯       </td><td>0.000000</td><td>0.000000</td><td>0.000000</td><td>0       </td><td>0.000000</td><td>0       </td><td>0.000000</td><td>1.000122</td><td>0       </td><td>2.000488</td></tr>\n",
       "</tbody>\n",
       "</table>\n"
      ],
      "text/latex": [
       "\\begin{tabular}{r|llllllllllllllllllllllllllllllllllllllllllllllllllllllllllllllllllllllllllllllllllllllllllllllllllllllllllllllllllllllllllllllllllllllllllllllllllllllllllllllllllllllllllllllllllllllllllllllllllllllllllllllllllllllllllllllllllllllllllllllllllllllllllllllllllllllllllllllllllllllllllllllllllllllllllllllllllllllllllllllllllllllllllllllllllllllllllllllllllllllllllllllllllllllllllllllllllllllllllllllllllllllllllllllllllllllllllllll}\n",
       "  & SAE725FACS1\\_1\\_1 & SAE725FACS1\\_1\\_2 & SAE725FACS1\\_1\\_3 & SAE725FACS1\\_1\\_4 & SAE725FACS1\\_1\\_5 & SAE725FACS1\\_1\\_6 & SAE725FACS1\\_1\\_7 & SAE725FACS1\\_1\\_8 & SAE725FACS1\\_1\\_9 & SAE725FACS1\\_1\\_10 & ⋯ & SAE725FACS8\\_8\\_129 & SAE725FACS8\\_8\\_145 & SAE725FACS8\\_8\\_148 & SAE725FACS8\\_8\\_154 & SAE725FACS8\\_8\\_161 & SAE725FACS8\\_8\\_164 & SAE725FACS8\\_8\\_169 & SAE725FACS8\\_8\\_173 & SAE725FACS8\\_8\\_177 & SAE725FACS8\\_8\\_180\\\\\n",
       "\\hline\n",
       "\t0610007P14Rik & 0.000000 & 0.000000 & 1.000122 & 4.001954 & 0.000000 & 1.000122 & 0        & 0        & 0        & 1.000122 & ⋯        & 2.000488 & 2.000488 & 0.000000 & 0        & 3.001099 & 0        & 0.000000 & 1.000122 & 0        & 1.000122\\\\\n",
       "\t0610009B22Rik & 0.000000 & 3.001099 & 4.001954 & 3.001099 & 1.000122 & 4.001954 & 0        & 0        & 0        & 1.000122 & ⋯        & 4.001954 & 1.000122 & 2.000488 & 0        & 2.000488 & 0        & 1.000122 & 0.000000 & 0        & 1.000122\\\\\n",
       "\t0610009E02Rik & 0.000000 & 0.000000 & 0.000000 & 0.000000 & 0.000000 & 0.000000 & 0        & 0        & 0        & 0.000000 & ⋯        & 0.000000 & 0.000000 & 0.000000 & 0        & 0.000000 & 0        & 0.000000 & 0.000000 & 0        & 0.000000\\\\\n",
       "\t0610009L18Rik & 0.000000 & 0.000000 & 0.000000 & 0.000000 & 0.000000 & 0.000000 & 0        & 0        & 0        & 0.000000 & ⋯        & 0.000000 & 0.000000 & 0.000000 & 0        & 0.000000 & 0        & 0.000000 & 0.000000 & 0        & 0.000000\\\\\n",
       "\t0610009O20Rik & 0.000000 & 1.000122 & 0.000000 & 0.000000 & 0.000000 & 1.000122 & 0        & 0        & 0        & 0.000000 & ⋯        & 0.000000 & 0.000000 & 0.000000 & 0        & 2.000488 & 0        & 0.000000 & 0.000000 & 0        & 1.000122\\\\\n",
       "\t0610010F05Rik & 1.000122 & 0.000000 & 0.000000 & 1.000122 & 0.000000 & 0.000000 & 0        & 0        & 0        & 0.000000 & ⋯        & 0.000000 & 0.000000 & 0.000000 & 0        & 0.000000 & 0        & 0.000000 & 1.000122 & 0        & 2.000488\\\\\n",
       "\\end{tabular}\n"
      ],
      "text/markdown": [
       "\n",
       "| <!--/--> | SAE725FACS1_1_1 | SAE725FACS1_1_2 | SAE725FACS1_1_3 | SAE725FACS1_1_4 | SAE725FACS1_1_5 | SAE725FACS1_1_6 | SAE725FACS1_1_7 | SAE725FACS1_1_8 | SAE725FACS1_1_9 | SAE725FACS1_1_10 | ⋯ | SAE725FACS8_8_129 | SAE725FACS8_8_145 | SAE725FACS8_8_148 | SAE725FACS8_8_154 | SAE725FACS8_8_161 | SAE725FACS8_8_164 | SAE725FACS8_8_169 | SAE725FACS8_8_173 | SAE725FACS8_8_177 | SAE725FACS8_8_180 | \n",
       "|---|---|---|---|---|---|\n",
       "| 0610007P14Rik | 0.000000 | 0.000000 | 1.000122 | 4.001954 | 0.000000 | 1.000122 | 0        | 0        | 0        | 1.000122 | ⋯        | 2.000488 | 2.000488 | 0.000000 | 0        | 3.001099 | 0        | 0.000000 | 1.000122 | 0        | 1.000122 | \n",
       "| 0610009B22Rik | 0.000000 | 3.001099 | 4.001954 | 3.001099 | 1.000122 | 4.001954 | 0        | 0        | 0        | 1.000122 | ⋯        | 4.001954 | 1.000122 | 2.000488 | 0        | 2.000488 | 0        | 1.000122 | 0.000000 | 0        | 1.000122 | \n",
       "| 0610009E02Rik | 0.000000 | 0.000000 | 0.000000 | 0.000000 | 0.000000 | 0.000000 | 0        | 0        | 0        | 0.000000 | ⋯        | 0.000000 | 0.000000 | 0.000000 | 0        | 0.000000 | 0        | 0.000000 | 0.000000 | 0        | 0.000000 | \n",
       "| 0610009L18Rik | 0.000000 | 0.000000 | 0.000000 | 0.000000 | 0.000000 | 0.000000 | 0        | 0        | 0        | 0.000000 | ⋯        | 0.000000 | 0.000000 | 0.000000 | 0        | 0.000000 | 0        | 0.000000 | 0.000000 | 0        | 0.000000 | \n",
       "| 0610009O20Rik | 0.000000 | 1.000122 | 0.000000 | 0.000000 | 0.000000 | 1.000122 | 0        | 0        | 0        | 0.000000 | ⋯        | 0.000000 | 0.000000 | 0.000000 | 0        | 2.000488 | 0        | 0.000000 | 0.000000 | 0        | 1.000122 | \n",
       "| 0610010F05Rik | 1.000122 | 0.000000 | 0.000000 | 1.000122 | 0.000000 | 0.000000 | 0        | 0        | 0        | 0.000000 | ⋯        | 0.000000 | 0.000000 | 0.000000 | 0        | 0.000000 | 0        | 0.000000 | 1.000122 | 0        | 2.000488 | \n",
       "\n",
       "\n"
      ],
      "text/plain": [
       "              SAE725FACS1_1_1 SAE725FACS1_1_2 SAE725FACS1_1_3 SAE725FACS1_1_4\n",
       "0610007P14Rik 0.000000        0.000000        1.000122        4.001954       \n",
       "0610009B22Rik 0.000000        3.001099        4.001954        3.001099       \n",
       "0610009E02Rik 0.000000        0.000000        0.000000        0.000000       \n",
       "0610009L18Rik 0.000000        0.000000        0.000000        0.000000       \n",
       "0610009O20Rik 0.000000        1.000122        0.000000        0.000000       \n",
       "0610010F05Rik 1.000122        0.000000        0.000000        1.000122       \n",
       "              SAE725FACS1_1_5 SAE725FACS1_1_6 SAE725FACS1_1_7 SAE725FACS1_1_8\n",
       "0610007P14Rik 0.000000        1.000122        0               0              \n",
       "0610009B22Rik 1.000122        4.001954        0               0              \n",
       "0610009E02Rik 0.000000        0.000000        0               0              \n",
       "0610009L18Rik 0.000000        0.000000        0               0              \n",
       "0610009O20Rik 0.000000        1.000122        0               0              \n",
       "0610010F05Rik 0.000000        0.000000        0               0              \n",
       "              SAE725FACS1_1_9 SAE725FACS1_1_10 ⋯ SAE725FACS8_8_129\n",
       "0610007P14Rik 0               1.000122         ⋯ 2.000488         \n",
       "0610009B22Rik 0               1.000122         ⋯ 4.001954         \n",
       "0610009E02Rik 0               0.000000         ⋯ 0.000000         \n",
       "0610009L18Rik 0               0.000000         ⋯ 0.000000         \n",
       "0610009O20Rik 0               0.000000         ⋯ 0.000000         \n",
       "0610010F05Rik 0               0.000000         ⋯ 0.000000         \n",
       "              SAE725FACS8_8_145 SAE725FACS8_8_148 SAE725FACS8_8_154\n",
       "0610007P14Rik 2.000488          0.000000          0                \n",
       "0610009B22Rik 1.000122          2.000488          0                \n",
       "0610009E02Rik 0.000000          0.000000          0                \n",
       "0610009L18Rik 0.000000          0.000000          0                \n",
       "0610009O20Rik 0.000000          0.000000          0                \n",
       "0610010F05Rik 0.000000          0.000000          0                \n",
       "              SAE725FACS8_8_161 SAE725FACS8_8_164 SAE725FACS8_8_169\n",
       "0610007P14Rik 3.001099          0                 0.000000         \n",
       "0610009B22Rik 2.000488          0                 1.000122         \n",
       "0610009E02Rik 0.000000          0                 0.000000         \n",
       "0610009L18Rik 0.000000          0                 0.000000         \n",
       "0610009O20Rik 2.000488          0                 0.000000         \n",
       "0610010F05Rik 0.000000          0                 0.000000         \n",
       "              SAE725FACS8_8_173 SAE725FACS8_8_177 SAE725FACS8_8_180\n",
       "0610007P14Rik 1.000122          0                 1.000122         \n",
       "0610009B22Rik 0.000000          0                 1.000122         \n",
       "0610009E02Rik 0.000000          0                 0.000000         \n",
       "0610009L18Rik 0.000000          0                 0.000000         \n",
       "0610009O20Rik 0.000000          0                 1.000122         \n",
       "0610010F05Rik 1.000122          0                 2.000488         "
      ]
     },
     "metadata": {},
     "output_type": "display_data"
    }
   ],
   "source": [
    "head(prdata)"
   ]
  },
  {
   "cell_type": "markdown",
   "metadata": {},
   "source": [
    "## Filtering\n",
    "\n",
    "Using RaceID2, Sagar managed to get a matrix of 865x304, according to the @filterpar he used:\n",
    "\n",
    "mintotal: 5000  \n",
    "minexpr: 5  \n",
    "minnumber: 1  \n",
    "maxexpr: Inf  \n",
    "downsample: FALSE  \n",
    "dsn: 1  \n",
    "sfn: FALSE  \n",
    "CGenes: \"Malat1\"   \"Lars2\"    \"Mki67\"    \"Pcna-ps2\"  \n",
    "FGenes: \"Hsp90aa1\" \"Jun\"      \"Fos\" "
   ]
  },
  {
   "cell_type": "code",
   "execution_count": 4,
   "metadata": {
    "ExecuteTime": {
     "end_time": "2018-04-08T16:43:49.250784Z",
     "start_time": "2018-04-08T16:42:54.691Z"
    }
   },
   "outputs": [],
   "source": [
    "sc <- SCseq(prdata)"
   ]
  },
  {
   "cell_type": "code",
   "execution_count": 5,
   "metadata": {
    "ExecuteTime": {
     "end_time": "2018-04-08T16:44:04.961199Z",
     "start_time": "2018-04-08T16:42:54.703Z"
    }
   },
   "outputs": [],
   "source": [
    "sc3 <- filterdata(\n",
    "    sc, mintotal=3000, minexpr=5, maxexpr=500, \n",
    "    downsample = F, sfn = F, hkn = F,\n",
    "    dsn = 1, rseed = 17000, CGenes = NULL, FGenes = NULL\n",
    ")\n",
    "sc3Inf <- filterdata(\n",
    "    sc, mintotal=3000, minexpr=5, maxexpr=Inf,\n",
    "    downsample = F, sfn = F, hkn = F,\n",
    "    dsn = 1, rseed = 17000, CGenes = NULL, FGenes = NULL\n",
    ")\n",
    "\n",
    "\n",
    "sc4 <- filterdata(\n",
    "    sc, mintotal=4000, minexpr=5, maxexpr=500, \n",
    "    downsample = F, sfn = F, hkn = F,\n",
    "    dsn = 1, rseed = 17000, CGenes = NULL, FGenes = NULL\n",
    ")\n",
    "\n",
    "sc4Inf <- filterdata(\n",
    "    sc, mintotal=4000, minexpr=5, maxexpr=Inf,\n",
    "    downsample = F, sfn = F, hkn = F,\n",
    "    dsn = 1, rseed = 17000, CGenes = NULL, FGenes = NULL\n",
    ")\n",
    "\n",
    "sc5 <- filterdata(\n",
    "    sc, mintotal=5000, minexpr=5, maxexpr=500,\n",
    "    downsample = F, sfn = F, hkn = F,\n",
    "    dsn = 1, rseed = 17000, CGenes = NULL, FGenes = NULL\n",
    ")\n",
    "\n",
    "sc5Inf <- filterdata(\n",
    "    sc, mintotal=5000, minexpr=5, maxexpr=Inf,\n",
    "    downsample = F, sfn = F, hkn = F,\n",
    "    dsn = 1, rseed = 17000, CGenes = NULL, FGenes = NULL\n",
    ")\n",
    "\n"
   ]
  },
  {
   "cell_type": "code",
   "execution_count": 6,
   "metadata": {
    "ExecuteTime": {
     "end_time": "2018-04-08T16:44:04.996974Z",
     "start_time": "2018-04-08T16:42:54.713Z"
    }
   },
   "outputs": [
    {
     "data": {
      "text/html": [
       "<table>\n",
       "<thead><tr><th></th><th scope=col>Genes</th><th scope=col>Cells</th></tr></thead>\n",
       "<tbody>\n",
       "\t<tr><th scope=row>sc</th><td>33901</td><td>430  </td></tr>\n",
       "\t<tr><th scope=row>sc3</th><td>  393</td><td>326  </td></tr>\n",
       "\t<tr><th scope=row>sc3+Inf</th><td>  393</td><td>326  </td></tr>\n",
       "\t<tr><th scope=row>sc4</th><td>  571</td><td>314  </td></tr>\n",
       "\t<tr><th scope=row>sc4+Inf</th><td>  571</td><td>314  </td></tr>\n",
       "\t<tr><th scope=row>sc5</th><td>  868</td><td>304  </td></tr>\n",
       "\t<tr><th scope=row>sc5+Inf</th><td>  868</td><td>304  </td></tr>\n",
       "\t<tr><th scope=row>Sagar</th><td>  865</td><td>304  </td></tr>\n",
       "</tbody>\n",
       "</table>\n"
      ],
      "text/latex": [
       "\\begin{tabular}{r|ll}\n",
       "  & Genes & Cells\\\\\n",
       "\\hline\n",
       "\tsc & 33901 & 430  \\\\\n",
       "\tsc3 &   393 & 326  \\\\\n",
       "\tsc3+Inf &   393 & 326  \\\\\n",
       "\tsc4 &   571 & 314  \\\\\n",
       "\tsc4+Inf &   571 & 314  \\\\\n",
       "\tsc5 &   868 & 304  \\\\\n",
       "\tsc5+Inf &   868 & 304  \\\\\n",
       "\tSagar &   865 & 304  \\\\\n",
       "\\end{tabular}\n"
      ],
      "text/markdown": [
       "\n",
       "| <!--/--> | Genes | Cells | \n",
       "|---|---|---|---|---|---|---|---|\n",
       "| sc | 33901 | 430   | \n",
       "| sc3 |   393 | 326   | \n",
       "| sc3+Inf |   393 | 326   | \n",
       "| sc4 |   571 | 314   | \n",
       "| sc4+Inf |   571 | 314   | \n",
       "| sc5 |   868 | 304   | \n",
       "| sc5+Inf |   868 | 304   | \n",
       "| Sagar |   865 | 304   | \n",
       "\n",
       "\n"
      ],
      "text/plain": [
       "        Genes Cells\n",
       "sc      33901 430  \n",
       "sc3       393 326  \n",
       "sc3+Inf   393 326  \n",
       "sc4       571 314  \n",
       "sc4+Inf   571 314  \n",
       "sc5       868 304  \n",
       "sc5+Inf   868 304  \n",
       "Sagar     865 304  "
      ]
     },
     "metadata": {},
     "output_type": "display_data"
    }
   ],
   "source": [
    "out <- rbind(\n",
    "    dim(sc@fdata),\n",
    "    dim(sc3@fdata),\n",
    "    dim(sc3Inf@fdata),\n",
    "    dim(sc4@fdata),\n",
    "    dim(sc4Inf@fdata),\n",
    "    dim(sc5@fdata),\n",
    "    dim(sc5Inf@fdata),\n",
    "    dim(control_sc@fdata)\n",
    ")\n",
    "rownames(out) <- c(\"sc\",\"sc3\",\"sc3+Inf\", \"sc4\", \"sc4+Inf\", \"sc5\", \"sc5+Inf\", \"Sagar\")\n",
    "colnames(out) <- c(\"Genes\", \"Cells\")\n",
    "\n",
    "out\n"
   ]
  },
  {
   "cell_type": "markdown",
   "metadata": {},
   "source": [
    "Above we compared minimum levels of filtering thresholds, each one with the max expression set to either 500 or infinity.\n",
    "\n",
    "We did not apply the CGenes (cell-cycle genes) or FGenes (genes with high expression that we don't want)\n",
    "\n",
    "As we can see, Sagar's filtering almost perfectly matches the sc5 (minexpr=5000) scenario and the setting of the max expression at 500 or Infinity has no effect.\n",
    "\n",
    " 1. What is the overlap of sc5 and Sagar?\n",
    "    * Which genes were excluded?\n",
    " 2. Why did Sagar choose those genes to be excluded?\n",
    "    * Can we recreate Sagar without using CGenes, but using \"ccRemover\" (not Grün's CCcorrect)?\n",
    " 3. What led to the choice of those filtering parameters (why 5000, why Inf)?\n",
    " "
   ]
  },
  {
   "cell_type": "markdown",
   "metadata": {},
   "source": [
    "## To answer Q1:"
   ]
  },
  {
   "cell_type": "code",
   "execution_count": 7,
   "metadata": {
    "ExecuteTime": {
     "end_time": "2018-04-08T16:44:06.292187Z",
     "start_time": "2018-04-08T16:42:54.723Z"
    }
   },
   "outputs": [
    {
     "name": "stderr",
     "output_type": "stream",
     "text": [
      "Loading required package: grid\n",
      "Loading required package: futile.logger\n"
     ]
    },
    {
     "data": {
      "text/html": [
       "<ol class=list-inline>\n",
       "\t<li>'Hsp90aa1'</li>\n",
       "\t<li>'Lars2'</li>\n",
       "\t<li>'Pcna-ps2'</li>\n",
       "</ol>\n"
      ],
      "text/latex": [
       "\\begin{enumerate*}\n",
       "\\item 'Hsp90aa1'\n",
       "\\item 'Lars2'\n",
       "\\item 'Pcna-ps2'\n",
       "\\end{enumerate*}\n"
      ],
      "text/markdown": [
       "1. 'Hsp90aa1'\n",
       "2. 'Lars2'\n",
       "3. 'Pcna-ps2'\n",
       "\n",
       "\n"
      ],
      "text/plain": [
       "[1] \"Hsp90aa1\" \"Lars2\"    \"Pcna-ps2\""
      ]
     },
     "metadata": {},
     "output_type": "display_data"
    },
    {
     "data": {
      "image/png": "[encoded data removed]",
      "text/plain": [
       "plot without title"
      ]
     },
     "metadata": {},
     "output_type": "display_data"
    }
   ],
   "source": [
    "library(VennDiagram)\n",
    "\n",
    "venn.plot <- venn.diagram(\n",
    "    x = list(\n",
    "        \"(blue) sagar\" = rownames(control_sc@fdata),\n",
    "        \"(red) sc5\" = rownames(sc5@fdata)\n",
    "    ),\n",
    "    fill = c(\"blue\",\"red\"),\n",
    "    filename = NULL\n",
    ");\n",
    "grid.draw(venn.plot);\n",
    "\n",
    "rownames(sc5@fdata)[!rownames(sc5@fdata) %in% rownames(control_sc@fdata)]\n"
   ]
  },
  {
   "cell_type": "markdown",
   "metadata": {},
   "source": [
    "As we can see, perfect overlap with all but 3 genes between sagar and the sc5 data.\n",
    "\n",
    "It seems as if the discrepancy is simply given by the FGenes or the CGenes; 'Hsp90aa1' 'Lars2' 'Pcna-ps2'.\n",
    "\n",
    "If we remind ourselves again of the genes Sagar filtered:\n",
    "\n",
    "CGenes: \"Malat1\" \"Lars2\" \"Mki67\" \"Pcna-ps2\"  \n",
    "FGenes: \"Hsp90aa1\" \"Jun\" \"Fos\" \n",
    "\n",
    "It seems as if these genes were known beforehand, so we will attempt to find them using other tools such as ccCleaner + Biomart, and ccRemover.\n",
    "\n",
    "### ccCleaner + Biomart"
   ]
  },
  {
   "cell_type": "code",
   "execution_count": 8,
   "metadata": {
    "ExecuteTime": {
     "end_time": "2018-04-08T16:44:16.387431Z",
     "start_time": "2018-04-08T16:42:54.729Z"
    }
   },
   "outputs": [
    {
     "name": "stderr",
     "output_type": "stream",
     "text": [
      "Loading required package: biomaRt\n"
     ]
    }
   ],
   "source": [
    "require(biomaRt)\n",
    "# Annotate the data before adding SC experiment\n",
    "\n",
    "mart <- useMart(biomart = \"ENSEMBL_MART_ENSEMBL\", \n",
    "                dataset = \"mmusculus_gene_ensembl\")\n",
    "\n",
    "k <- getBM(\n",
    "    filters = \"mgi_symbol\",\n",
    "    attributes = c(\n",
    "            \"ensembl_gene_id\",              # Gene stable ID\n",
    "            \"external_gene_name\",           # Casual name\n",
    "            \"mgi_symbol\",\n",
    "#            \"external_transcript_name\",     # Transcript-specific name\n",
    "#            \"gene_biotype\",                 # Gene biotype\n",
    "#            \"transcript_biotype\",           # Trans type\n",
    "#            \"description\",                  # Gene description\n",
    "#            \"band\",                         # Karyotype band\n",
    "#            \"refseq_mrna\",\n",
    "            \"go_id\",                        # Go Term accession (cellular domains)\n",
    "#            \"go_linkage_type\",              # Go Term evidence code\n",
    "            \"name_1006\"                    # Go Term name\n",
    "#            \"definition_1006\",              # Go Term definition\n",
    "#            \"namespace_1003\"                # Go domain                  \n",
    "    ),\n",
    "    values = rownames(sc5@fdata),\n",
    "    mart = mart\n",
    ")"
   ]
  },
  {
   "cell_type": "code",
   "execution_count": 10,
   "metadata": {
    "ExecuteTime": {
     "end_time": "2018-04-08T16:45:08.785273Z",
     "start_time": "2018-04-08T16:44:31.856Z"
    }
   },
   "outputs": [
    {
     "data": {
      "text/html": [
       "64"
      ],
      "text/latex": [
       "64"
      ],
      "text/markdown": [
       "64"
      ],
      "text/plain": [
       "[1] 64"
      ]
     },
     "metadata": {},
     "output_type": "display_data"
    },
    {
     "data": {
      "text/html": [
       "30"
      ],
      "text/latex": [
       "30"
      ],
      "text/markdown": [
       "30"
      ],
      "text/plain": [
       "[1] 30"
      ]
     },
     "metadata": {},
     "output_type": "display_data"
    },
    {
     "data": {
      "text/html": [
       "<ol class=list-inline>\n",
       "\t<li>FALSE</li>\n",
       "\t<li>FALSE</li>\n",
       "\t<li>FALSE</li>\n",
       "\t<li>FALSE</li>\n",
       "</ol>\n"
      ],
      "text/latex": [
       "\\begin{enumerate*}\n",
       "\\item FALSE\n",
       "\\item FALSE\n",
       "\\item FALSE\n",
       "\\item FALSE\n",
       "\\end{enumerate*}\n"
      ],
      "text/markdown": [
       "1. FALSE\n",
       "2. FALSE\n",
       "3. FALSE\n",
       "4. FALSE\n",
       "\n",
       "\n"
      ],
      "text/plain": [
       "[1] FALSE FALSE FALSE FALSE"
      ]
     },
     "metadata": {},
     "output_type": "display_data"
    },
    {
     "data": {
      "text/html": [
       "<ol class=list-inline>\n",
       "\t<li>FALSE</li>\n",
       "\t<li>FALSE</li>\n",
       "\t<li>FALSE</li>\n",
       "\t<li>FALSE</li>\n",
       "</ol>\n"
      ],
      "text/latex": [
       "\\begin{enumerate*}\n",
       "\\item FALSE\n",
       "\\item FALSE\n",
       "\\item FALSE\n",
       "\\item FALSE\n",
       "\\end{enumerate*}\n"
      ],
      "text/markdown": [
       "1. FALSE\n",
       "2. FALSE\n",
       "3. FALSE\n",
       "4. FALSE\n",
       "\n",
       "\n"
      ],
      "text/plain": [
       "[1] FALSE FALSE FALSE FALSE"
      ]
     },
     "metadata": {},
     "output_type": "display_data"
    },
    {
     "data": {
      "text/html": [
       "<ol class=list-inline>\n",
       "\t<li>FALSE</li>\n",
       "\t<li>FALSE</li>\n",
       "\t<li>FALSE</li>\n",
       "</ol>\n"
      ],
      "text/latex": [
       "\\begin{enumerate*}\n",
       "\\item FALSE\n",
       "\\item FALSE\n",
       "\\item FALSE\n",
       "\\end{enumerate*}\n"
      ],
      "text/markdown": [
       "1. FALSE\n",
       "2. FALSE\n",
       "3. FALSE\n",
       "\n",
       "\n"
      ],
      "text/plain": [
       "[1] FALSE FALSE FALSE"
      ]
     },
     "metadata": {},
     "output_type": "display_data"
    },
    {
     "data": {
      "text/html": [
       "<ol class=list-inline>\n",
       "\t<li>FALSE</li>\n",
       "\t<li>FALSE</li>\n",
       "\t<li>FALSE</li>\n",
       "</ol>\n"
      ],
      "text/latex": [
       "\\begin{enumerate*}\n",
       "\\item FALSE\n",
       "\\item FALSE\n",
       "\\item FALSE\n",
       "\\end{enumerate*}\n"
      ],
      "text/markdown": [
       "1. FALSE\n",
       "2. FALSE\n",
       "3. FALSE\n",
       "\n",
       "\n"
      ],
      "text/plain": [
       "[1] FALSE FALSE FALSE"
      ]
     },
     "metadata": {},
     "output_type": "display_data"
    },
    {
     "data": {
      "text/html": [
       "<table>\n",
       "<thead><tr><th scope=col>ensembl_gene_id</th><th scope=col>external_gene_name</th><th scope=col>mgi_symbol</th><th scope=col>go_id</th><th scope=col>name_1006</th></tr></thead>\n",
       "<tbody>\n",
       "</tbody>\n",
       "</table>\n"
      ],
      "text/latex": [
       "\\begin{tabular}{r|lllll}\n",
       " ensembl\\_gene\\_id & external\\_gene\\_name & mgi\\_symbol & go\\_id & name\\_1006\\\\\n",
       "\\hline\n",
       "\\end{tabular}\n"
      ],
      "text/markdown": [
       "\n",
       "ensembl_gene_id | external_gene_name | mgi_symbol | go_id | name_1006 | \n",
       "||\n",
       "\n",
       "\n"
      ],
      "text/plain": [
       "     ensembl_gene_id external_gene_name mgi_symbol go_id name_1006"
      ]
     },
     "metadata": {},
     "output_type": "display_data"
    }
   ],
   "source": [
    "gCC <- k$mgi_symbol[k$name_1006 == \"cell cycle\"]\n",
    "gCP <- k$mgi_symbol[k$name_1006 == \"cell proliferation\"]\n",
    "length(gCC)\n",
    "length(gCP)\n",
    "\n",
    "sagar_cGenes = c(\"Malat1\", \"Lars2\", \"Mki67\", \"Pcna-ps2\")\n",
    "sagar_fGenes = c(\"Hsp90aa1\", \"Jun\", \"Fos\")\n",
    "\n",
    "sagar_cGenes %in% gCC\n",
    "sagar_cGenes %in% gCP\n",
    "sagar_fGenes %in% gCC\n",
    "sagar_fGenes %in% gCP\n",
    "\n",
    "# Mki67 -- ENSG00000148773\n",
    "# head(tail(k, -10700),50) #-- nothing\n",
    "# grep(\"ENSG00000148773\", k) #-- nothing\n",
    "\n",
    "# Hsp90aa1 -- ENSMUSG00000021270\n",
    "hsp_subk <- k[k$mgi_symbol %in% \"Hsp90aa1\",]\n",
    "hsp_subk[grepl(\"prolif\", hsp_subk$name_1006),] #--nothing\n",
    "# This gene is in our matrix, but it is NOT flagged for cell proliferation,\n",
    "# only the human transcript for this is, but not the mouse.\n",
    "# (human:ENSG00000080824 → evidence:GO:0008284, \n",
    "#  mouse:ENSMUSG00000021270 → evidence:none )"
   ]
  },
  {
   "cell_type": "markdown",
   "metadata": {},
   "source": [
    "As we can see from the list of FALSE's, none of the Sagar genes were determined to be cell proliferating or other. Perhaps he assumed human and mouse cells were similar? Is this a reasonable assumption? Maybe the GO ids are outdated? (unlikely)\n",
    "\n",
    "Regardless, we will remove the effect of the CP and CC genes from our analysis and press forward."
   ]
  },
  {
   "cell_type": "code",
   "execution_count": 11,
   "metadata": {
    "ExecuteTime": {
     "end_time": "2018-04-08T16:45:13.487918Z",
     "start_time": "2018-04-08T16:44:35.885Z"
    }
   },
   "outputs": [
    {
     "ename": "ERROR",
     "evalue": "Error in CCcorrect(sc5@fdata, vset = vset, CGenes = NULL, ccor = 0.4, : object 'vset' not found\n",
     "output_type": "error",
     "traceback": [
      "Error in CCcorrect(sc5@fdata, vset = vset, CGenes = NULL, ccor = 0.4, : object 'vset' not found\nTraceback:\n",
      "1. CCcorrect(sc5@fdata, vset = vset, CGenes = NULL, ccor = 0.4, \n .     nComp = NULL, pvalue = 0.05, quant = 0.01, mode = \"pca\")"
     ]
    }
   ],
   "source": [
    "x <- CCcorrect(sc5@fdata, vset=vset, CGenes=NULL, ccor=.4, \n",
    "               nComp=NULL, pvalue=.05, quant=.01, mode=\"pca\")"
   ]
  },
  {
   "cell_type": "code",
   "execution_count": null,
   "metadata": {
    "ExecuteTime": {
     "end_time": "2018-04-08T16:44:16.434157Z",
     "start_time": "2018-04-08T16:42:54.773Z"
    }
   },
   "outputs": [],
   "source": [
    "x$n"
   ]
  },
  {
   "cell_type": "markdown",
   "metadata": {},
   "source": [
    "The number of principle components that have been removed is none, so this is most likely a correction we do not need to do, as evidenced by a quick examination of our input data, and the correction:"
   ]
  },
  {
   "cell_type": "code",
   "execution_count": null,
   "metadata": {
    "ExecuteTime": {
     "end_time": "2018-04-08T16:44:16.436659Z",
     "start_time": "2018-04-08T16:42:54.790Z"
    }
   },
   "outputs": [],
   "source": [
    "head(sc5@fdata)\n",
    "head(x$xcor)"
   ]
  },
  {
   "cell_type": "markdown",
   "metadata": {
    "ExecuteTime": {
     "end_time": "2018-04-06T13:44:18.368166Z",
     "start_time": "2018-04-06T13:50:32.903Z"
    }
   },
   "source": [
    "### ccRemover\n",
    "\n",
    "Let us see if ccRemover is any better at this:"
   ]
  },
  {
   "cell_type": "code",
   "execution_count": null,
   "metadata": {
    "ExecuteTime": {
     "end_time": "2018-04-08T16:44:16.439125Z",
     "start_time": "2018-04-08T16:42:54.795Z"
    }
   },
   "outputs": [],
   "source": [
    "library(ccRemover)\n",
    "\n",
    "# Data must be centred on a gene-by-gene basis\n",
    "summary(apply(sc5@fdata,1, mean))\n",
    "# Data is NOT centred, since the mean is not 0 but 3.\n",
    "# Let's apply row centering\n",
    "mean_gene_exp <- rowMeans(sc5@fdata)\n",
    "sc5_centred_exp <- sc5@fdata - mean_gene_exp\n",
    "summary(apply(sc5_centred_exp,1, mean))\n",
    "# Now it is close to zero.\n"
   ]
  },
  {
   "cell_type": "code",
   "execution_count": null,
   "metadata": {
    "ExecuteTime": {
     "end_time": "2018-04-08T16:44:16.441634Z",
     "start_time": "2018-04-08T16:42:54.801Z"
    }
   },
   "outputs": [],
   "source": [
    "gene_names <- rownames(sc5_centred_exp)\n",
    "cell_cycle_gene_indices <- gene_indexer(\n",
    "    gene_names, species = \"mouse\",\n",
    "    name_type = \"symbols\"\n",
    ")\n",
    "\n",
    "length(cell_cycle_gene_indices)\n",
    "length(union(gCC,gCP))"
   ]
  },
  {
   "cell_type": "markdown",
   "metadata": {},
   "source": [
    "129 genes were detected which is more than the 84 unique genes previously detected from biomart."
   ]
  },
  {
   "cell_type": "code",
   "execution_count": null,
   "metadata": {
    "ExecuteTime": {
     "end_time": "2018-04-08T16:44:16.444125Z",
     "start_time": "2018-04-08T16:42:54.807Z"
    }
   },
   "outputs": [],
   "source": [
    "if_cc <- rep(FALSE,nrow(sc5_centred_exp)) \n",
    "if_cc[cell_cycle_gene_indices] <- TRUE\n",
    "summary(if_cc)\n",
    "dat <- list(x=sc5_centred_exp, if_cc=if_cc)\n",
    "\n",
    "# perform cleaning\n",
    "#head(sc5@fdata)"
   ]
  },
  {
   "cell_type": "code",
   "execution_count": null,
   "metadata": {
    "ExecuteTime": {
     "end_time": "2018-04-08T16:44:16.446642Z",
     "start_time": "2018-04-08T16:42:54.814Z"
    }
   },
   "outputs": [],
   "source": [
    "xhat <- ccRemover(dat, bar=FALSE)\n",
    "#str(sc)"
   ]
  },
  {
   "cell_type": "markdown",
   "metadata": {},
   "source": [
    "ccRemover does not want to work.... We will skip."
   ]
  },
  {
   "cell_type": "markdown",
   "metadata": {},
   "source": [
    "## Determining why 5000 and Inf were chosen"
   ]
  },
  {
   "cell_type": "code",
   "execution_count": 12,
   "metadata": {
    "ExecuteTime": {
     "end_time": "2018-04-08T16:45:26.433015Z",
     "start_time": "2018-04-08T16:44:49.343Z"
    },
    "scrolled": true
   },
   "outputs": [
    {
     "data": {
      "image/png": "[encoded data removed]",
      "text/plain": [
       "Plot with title “Histogram of colSums(sc@expdata)”"
      ]
     },
     "metadata": {},
     "output_type": "display_data"
    }
   ],
   "source": [
    "hist(colSums(sc@expdata), breaks=100)\n",
    "abline(v=5000, col='red')"
   ]
  },
  {
   "cell_type": "code",
   "execution_count": 18,
   "metadata": {
    "ExecuteTime": {
     "end_time": "2018-04-08T16:50:58.574092Z",
     "start_time": "2018-04-08T16:50:21.205Z"
    }
   },
   "outputs": [
    {
     "data": {
      "text/html": [
       "<ol class=list-inline>\n",
       "\t<li>33901</li>\n",
       "\t<li>430</li>\n",
       "</ol>\n"
      ],
      "text/latex": [
       "\\begin{enumerate*}\n",
       "\\item 33901\n",
       "\\item 430\n",
       "\\end{enumerate*}\n"
      ],
      "text/markdown": [
       "1. 33901\n",
       "2. 430\n",
       "\n",
       "\n"
      ],
      "text/plain": [
       "[1] 33901   430"
      ]
     },
     "metadata": {},
     "output_type": "display_data"
    },
    {
     "data": {
      "text/html": [
       "<ol class=list-inline>\n",
       "\t<li>19977</li>\n",
       "\t<li>430</li>\n",
       "</ol>\n"
      ],
      "text/latex": [
       "\\begin{enumerate*}\n",
       "\\item 19977\n",
       "\\item 430\n",
       "\\end{enumerate*}\n"
      ],
      "text/markdown": [
       "1. 19977\n",
       "2. 430\n",
       "\n",
       "\n"
      ],
      "text/plain": [
       "[1] 19977   430"
      ]
     },
     "metadata": {},
     "output_type": "display_data"
    },
    {
     "data": {
      "image/png": "[encoded data removed]",
      "text/plain": [
       "Plot with title “Histogram of colSums(filt)”"
      ]
     },
     "metadata": {},
     "output_type": "display_data"
    }
   ],
   "source": [
    "filt <- sc@expdata[rowSums(sc@expdata) > 0, colSums(sc@expdata) > 0]\n",
    "dim(sc@expdata)\n",
    "dim(filt)\n",
    "hist(colSums(filt), breaks=100)\n",
    "abline(v=3000, col='red')\n",
    "#abline(v=5000, col='blue')\n"
   ]
  }
 ],
 "metadata": {
  "hide_input": false,
  "kernelspec": {
   "display_name": "R",
   "language": "R",
   "name": "ir"
  },
  "language_info": {
   "codemirror_mode": "r",
   "file_extension": ".r",
   "mimetype": "text/x-r-source",
   "name": "R",
   "pygments_lexer": "r",
   "version": "3.4.4"
  },
  "toc": {
   "nav_menu": {},
   "number_sections": true,
   "sideBar": true,
   "skip_h1_title": false,
   "title_cell": "Table of Contents",
   "title_sidebar": "Contents",
   "toc_cell": false,
   "toc_position": {},
   "toc_section_display": true,
   "toc_window_display": false
  }
 },
 "nbformat": 4,
 "nbformat_minor": 2
}
